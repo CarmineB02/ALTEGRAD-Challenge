{
 "cells": [
  {
   "cell_type": "code",
   "execution_count": 93,
   "metadata": {},
   "outputs": [
    {
     "name": "stderr",
     "output_type": "stream",
     "text": [
      "[nltk_data] Downloading package wordnet to /Users/siwar/nltk_data...\n",
      "[nltk_data]   Package wordnet is already up-to-date!\n"
     ]
    },
    {
     "name": "stdout",
     "output_type": "stream",
     "text": [
      "Collecting fr_core_news_sm==2.2.5 from https://github.com/explosion/spacy-models/releases/download/fr_core_news_sm-2.2.5/fr_core_news_sm-2.2.5.tar.gz#egg=fr_core_news_sm==2.2.5\n",
      "\u001b[?25l  Downloading https://github.com/explosion/spacy-models/releases/download/fr_core_news_sm-2.2.5/fr_core_news_sm-2.2.5.tar.gz (14.7MB)\n",
      "\u001b[K     |████████████████████████████████| 14.7MB 2.0MB/s eta 0:00:01\n",
      "\u001b[?25hRequirement already satisfied: spacy>=2.2.2 in /opt/anaconda3/lib/python3.7/site-packages (from fr_core_news_sm==2.2.5) (2.2.3)\n",
      "Requirement already satisfied: requests<3.0.0,>=2.13.0 in /opt/anaconda3/lib/python3.7/site-packages (from spacy>=2.2.2->fr_core_news_sm==2.2.5) (2.22.0)\n",
      "Requirement already satisfied: plac<1.2.0,>=0.9.6 in /opt/anaconda3/lib/python3.7/site-packages (from spacy>=2.2.2->fr_core_news_sm==2.2.5) (1.1.3)\n",
      "Requirement already satisfied: preshed<3.1.0,>=3.0.2 in /opt/anaconda3/lib/python3.7/site-packages (from spacy>=2.2.2->fr_core_news_sm==2.2.5) (3.0.2)\n",
      "Requirement already satisfied: numpy>=1.15.0 in /opt/anaconda3/lib/python3.7/site-packages (from spacy>=2.2.2->fr_core_news_sm==2.2.5) (1.17.2)\n",
      "Requirement already satisfied: murmurhash<1.1.0,>=0.28.0 in /opt/anaconda3/lib/python3.7/site-packages (from spacy>=2.2.2->fr_core_news_sm==2.2.5) (1.0.2)\n",
      "Requirement already satisfied: cymem<2.1.0,>=2.0.2 in /opt/anaconda3/lib/python3.7/site-packages (from spacy>=2.2.2->fr_core_news_sm==2.2.5) (2.0.3)\n",
      "Requirement already satisfied: thinc<7.4.0,>=7.3.0 in /opt/anaconda3/lib/python3.7/site-packages (from spacy>=2.2.2->fr_core_news_sm==2.2.5) (7.3.1)\n",
      "Requirement already satisfied: blis<0.5.0,>=0.4.0 in /opt/anaconda3/lib/python3.7/site-packages (from spacy>=2.2.2->fr_core_news_sm==2.2.5) (0.4.1)\n",
      "Requirement already satisfied: srsly<1.1.0,>=0.1.0 in /opt/anaconda3/lib/python3.7/site-packages (from spacy>=2.2.2->fr_core_news_sm==2.2.5) (1.0.1)\n",
      "Requirement already satisfied: setuptools in /opt/anaconda3/lib/python3.7/site-packages (from spacy>=2.2.2->fr_core_news_sm==2.2.5) (41.4.0)\n",
      "Requirement already satisfied: wasabi<1.1.0,>=0.4.0 in /opt/anaconda3/lib/python3.7/site-packages (from spacy>=2.2.2->fr_core_news_sm==2.2.5) (0.6.0)\n",
      "Requirement already satisfied: catalogue<1.1.0,>=0.0.7 in /opt/anaconda3/lib/python3.7/site-packages (from spacy>=2.2.2->fr_core_news_sm==2.2.5) (1.0.0)\n",
      "Requirement already satisfied: idna<2.9,>=2.5 in /opt/anaconda3/lib/python3.7/site-packages (from requests<3.0.0,>=2.13.0->spacy>=2.2.2->fr_core_news_sm==2.2.5) (2.8)\n",
      "Requirement already satisfied: certifi>=2017.4.17 in /opt/anaconda3/lib/python3.7/site-packages (from requests<3.0.0,>=2.13.0->spacy>=2.2.2->fr_core_news_sm==2.2.5) (2019.9.11)\n",
      "Requirement already satisfied: urllib3!=1.25.0,!=1.25.1,<1.26,>=1.21.1 in /opt/anaconda3/lib/python3.7/site-packages (from requests<3.0.0,>=2.13.0->spacy>=2.2.2->fr_core_news_sm==2.2.5) (1.24.2)\n",
      "Requirement already satisfied: chardet<3.1.0,>=3.0.2 in /opt/anaconda3/lib/python3.7/site-packages (from requests<3.0.0,>=2.13.0->spacy>=2.2.2->fr_core_news_sm==2.2.5) (3.0.4)\n",
      "Requirement already satisfied: tqdm<5.0.0,>=4.10.0 in /opt/anaconda3/lib/python3.7/site-packages (from thinc<7.4.0,>=7.3.0->spacy>=2.2.2->fr_core_news_sm==2.2.5) (4.36.1)\n",
      "Requirement already satisfied: importlib-metadata>=0.20; python_version < \"3.8\" in /opt/anaconda3/lib/python3.7/site-packages (from catalogue<1.1.0,>=0.0.7->spacy>=2.2.2->fr_core_news_sm==2.2.5) (0.23)\n",
      "Requirement already satisfied: zipp>=0.5 in /opt/anaconda3/lib/python3.7/site-packages (from importlib-metadata>=0.20; python_version < \"3.8\"->catalogue<1.1.0,>=0.0.7->spacy>=2.2.2->fr_core_news_sm==2.2.5) (0.6.0)\n",
      "Requirement already satisfied: more-itertools in /opt/anaconda3/lib/python3.7/site-packages (from zipp>=0.5->importlib-metadata>=0.20; python_version < \"3.8\"->catalogue<1.1.0,>=0.0.7->spacy>=2.2.2->fr_core_news_sm==2.2.5) (7.2.0)\n",
      "Building wheels for collected packages: fr-core-news-sm\n",
      "  Building wheel for fr-core-news-sm (setup.py) ... \u001b[?25ldone\n",
      "\u001b[?25h  Created wheel for fr-core-news-sm: filename=fr_core_news_sm-2.2.5-cp37-none-any.whl size=14727027 sha256=8a6f399f806badcd48b5166c31c084f6b7da4e581280f9c8f4409d809acd1002\n",
      "  Stored in directory: /private/var/folders/bl/b25md3vx7_57j7sltyf3z8140000gn/T/pip-ephem-wheel-cache-l53bur33/wheels/46/1b/e6/29b020e3f9420a24c3f463343afe5136aaaf955dbc9e46dfc5\n",
      "Successfully built fr-core-news-sm\n",
      "Installing collected packages: fr-core-news-sm\n",
      "Successfully installed fr-core-news-sm-2.2.5\n",
      "\u001b[38;5;2m✔ Download and installation successful\u001b[0m\n",
      "You can now load the model via spacy.load('fr_core_news_sm')\n",
      "\u001b[38;5;2m✔ Linking successful\u001b[0m\n",
      "/opt/anaconda3/lib/python3.7/site-packages/fr_core_news_sm -->\n",
      "/opt/anaconda3/lib/python3.7/site-packages/spacy/data/fr\n",
      "You can now load the model via spacy.load('fr')\n"
     ]
    }
   ],
   "source": [
    "import numpy as np\n",
    "import pandas as pd\n",
    "from nltk.corpus import stopwords\n",
    "import re\n",
    "import string\n",
    "import os\n",
    "import networkx as nx\n",
    "import codecs\n",
    "from os import path\n",
    "from bs4 import BeautifulSoup\n",
    "from string import digits\n",
    "from nltk.stem.snowball import FrenchStemmer\n",
    "import nltk\n",
    "nltk.download('wordnet')\n",
    "# spacy for lemmatization\n",
    "import spacy\n",
    "!python -m spacy download fr\n"
   ]
  },
  {
   "cell_type": "markdown",
   "metadata": {},
   "source": [
    "## 1.Load Data"
   ]
  },
  {
   "cell_type": "code",
   "execution_count": 12,
   "metadata": {},
   "outputs": [
    {
     "name": "stdout",
     "output_type": "stream",
     "text": [
      "cross_val.py         \u001b[34mmodels\u001b[m\u001b[m/              \u001b[34mutils\u001b[m\u001b[m/\r\n",
      "\u001b[34mdata\u001b[m\u001b[m/                submissions.csv      write_submission.py\r\n"
     ]
    }
   ],
   "source": [
    "ls .."
   ]
  },
  {
   "cell_type": "code",
   "execution_count": 17,
   "metadata": {},
   "outputs": [],
   "source": [
    "def get_data_full_modified():\n",
    "    with open(\"../data/train.csv\", 'r') as f:\n",
    "        train_data = f.read().splitlines()\n",
    "    with open(\"../data/test.csv\", 'r') as f:\n",
    "        test_hosts = f.read().splitlines()\n",
    "\n",
    "    train_hosts = list()\n",
    "    y_train = list()\n",
    "    for row in train_data:\n",
    "        host, label = row.split(\",\")\n",
    "        train_hosts.append(host)\n",
    "        y_train.append(label.lower())\n",
    "\n",
    "    # Text data\n",
    "    # Load the textual content of a set of webpages for each host into the dictionary \"data\".\n",
    "    # The encoding parameter is required since the majority of our data is french.\n",
    "    text = dict()\n",
    "    filenames = os.listdir('../data/text')\n",
    "    \n",
    "    for filename in filenames:\n",
    "        try:\n",
    "            with codecs.open(path.join('../data/text/', filename), encoding='utf-8') as f:\n",
    "                text[filename] = f.read().replace(\"\\n\", \"\").lower()\n",
    "        except:\n",
    "            with codecs.open(path.join('../data/text/', filename), encoding='latin-1') as f:\n",
    "                text[filename] = f.read().replace(\"\\n\", \"\").lower()\n",
    "    \n",
    "    X_train = list()\n",
    "    for host in train_hosts:\n",
    "        if host in text:\n",
    "            X_train.append([host, text[host]])\n",
    "        else:\n",
    "            X_train.append([host, ''])\n",
    "    # Get textual content of web hosts of the test set\n",
    "    X_test = list()\n",
    "    for host in test_hosts:\n",
    "        if host in text:\n",
    "            X_test.append([host, text[host]])\n",
    "        else:\n",
    "            X_test.append([host, ''])\n",
    "    return X_train, y_train, X_test, test_hosts"
   ]
  },
  {
   "cell_type": "code",
   "execution_count": 65,
   "metadata": {},
   "outputs": [],
   "source": [
    "X_train, y_train, X_test, test_hosts = get_data_full_modified() "
   ]
  },
  {
   "cell_type": "code",
   "execution_count": 66,
   "metadata": {},
   "outputs": [
    {
     "data": {
      "text/html": [
       "<div>\n",
       "<style scoped>\n",
       "    .dataframe tbody tr th:only-of-type {\n",
       "        vertical-align: middle;\n",
       "    }\n",
       "\n",
       "    .dataframe tbody tr th {\n",
       "        vertical-align: top;\n",
       "    }\n",
       "\n",
       "    .dataframe thead th {\n",
       "        text-align: right;\n",
       "    }\n",
       "</style>\n",
       "<table border=\"1\" class=\"dataframe\">\n",
       "  <thead>\n",
       "    <tr style=\"text-align: right;\">\n",
       "      <th></th>\n",
       "      <th>text</th>\n",
       "      <th>category</th>\n",
       "    </tr>\n",
       "  </thead>\n",
       "  <tbody>\n",
       "    <tr>\n",
       "      <td>0</td>\n",
       "      <td>[9032,    #polepharma » flux polepharma » flux...</td>\n",
       "      <td>health/medical</td>\n",
       "    </tr>\n",
       "    <tr>\n",
       "      <td>1</td>\n",
       "      <td>[5346,                             301 moved p...</td>\n",
       "      <td>entertainment</td>\n",
       "    </tr>\n",
       "    <tr>\n",
       "      <td>2</td>\n",
       "      <td>[18778,    (button) fermer   en poursuivant vo...</td>\n",
       "      <td>entertainment</td>\n",
       "    </tr>\n",
       "    <tr>\n",
       "      <td>3</td>\n",
       "      <td>[11939,    #hal   (button) toggle navigation  ...</td>\n",
       "      <td>education/research</td>\n",
       "    </tr>\n",
       "    <tr>\n",
       "      <td>4</td>\n",
       "      <td>[17502,    user-agent: * disallow: disallow: /...</td>\n",
       "      <td>tech/science</td>\n",
       "    </tr>\n",
       "  </tbody>\n",
       "</table>\n",
       "</div>"
      ],
      "text/plain": [
       "                                                text            category\n",
       "0  [9032,    #polepharma » flux polepharma » flux...      health/medical\n",
       "1  [5346,                             301 moved p...       entertainment\n",
       "2  [18778,    (button) fermer   en poursuivant vo...       entertainment\n",
       "3  [11939,    #hal   (button) toggle navigation  ...  education/research\n",
       "4  [17502,    user-agent: * disallow: disallow: /...        tech/science"
      ]
     },
     "execution_count": 66,
     "metadata": {},
     "output_type": "execute_result"
    }
   ],
   "source": [
    "data_train = pd.DataFrame({'text': X_train,'category': y_train,})\n",
    "data_train.head()"
   ]
  },
  {
   "cell_type": "code",
   "execution_count": 67,
   "metadata": {},
   "outputs": [
    {
     "data": {
      "text/html": [
       "<div>\n",
       "<style scoped>\n",
       "    .dataframe tbody tr th:only-of-type {\n",
       "        vertical-align: middle;\n",
       "    }\n",
       "\n",
       "    .dataframe tbody tr th {\n",
       "        vertical-align: top;\n",
       "    }\n",
       "\n",
       "    .dataframe thead th {\n",
       "        text-align: right;\n",
       "    }\n",
       "</style>\n",
       "<table border=\"1\" class=\"dataframe\">\n",
       "  <thead>\n",
       "    <tr style=\"text-align: right;\">\n",
       "      <th></th>\n",
       "      <th>text</th>\n",
       "      <th>category</th>\n",
       "    </tr>\n",
       "    <tr>\n",
       "      <th>train_host</th>\n",
       "      <th></th>\n",
       "      <th></th>\n",
       "    </tr>\n",
       "  </thead>\n",
       "  <tbody>\n",
       "    <tr>\n",
       "      <td>9032</td>\n",
       "      <td>#polepharma » flux polepharma » flux des co...</td>\n",
       "      <td>health/medical</td>\n",
       "    </tr>\n",
       "    <tr>\n",
       "      <td>5346</td>\n",
       "      <td>301 moved permanen...</td>\n",
       "      <td>entertainment</td>\n",
       "    </tr>\n",
       "    <tr>\n",
       "      <td>18778</td>\n",
       "      <td>(button) fermer   en poursuivant votre navi...</td>\n",
       "      <td>entertainment</td>\n",
       "    </tr>\n",
       "    <tr>\n",
       "      <td>11939</td>\n",
       "      <td>#hal   (button) toggle navigation   ccsd   ...</td>\n",
       "      <td>education/research</td>\n",
       "    </tr>\n",
       "    <tr>\n",
       "      <td>17502</td>\n",
       "      <td>user-agent: * disallow: disallow: /publishe...</td>\n",
       "      <td>tech/science</td>\n",
       "    </tr>\n",
       "  </tbody>\n",
       "</table>\n",
       "</div>"
      ],
      "text/plain": [
       "                                                         text  \\\n",
       "train_host                                                      \n",
       "9032           #polepharma » flux polepharma » flux des co...   \n",
       "5346                                    301 moved permanen...   \n",
       "18778          (button) fermer   en poursuivant votre navi...   \n",
       "11939          #hal   (button) toggle navigation   ccsd   ...   \n",
       "17502          user-agent: * disallow: disallow: /publishe...   \n",
       "\n",
       "                      category  \n",
       "train_host                      \n",
       "9032            health/medical  \n",
       "5346             entertainment  \n",
       "18778            entertainment  \n",
       "11939       education/research  \n",
       "17502             tech/science  "
      ]
     },
     "execution_count": 67,
     "metadata": {},
     "output_type": "execute_result"
    }
   ],
   "source": [
    "data_train[['train_host','text']] = pd.DataFrame(data_train.text.values.tolist(), index= data_train.index)\n",
    "data_train.set_index('train_host', inplace=True)\n",
    "data_train.head()"
   ]
  },
  {
   "cell_type": "code",
   "execution_count": 68,
   "metadata": {},
   "outputs": [
    {
     "data": {
      "text/plain": [
       "(2125, 2)"
      ]
     },
     "execution_count": 68,
     "metadata": {},
     "output_type": "execute_result"
    }
   ],
   "source": [
    "data_train.shape"
   ]
  },
  {
   "cell_type": "code",
   "execution_count": 69,
   "metadata": {
    "scrolled": true
   },
   "outputs": [
    {
     "name": "stdout",
     "output_type": "stream",
     "text": [
      "   #polepharma » flux polepharma » flux des commentaires alternate   alternate   polepharma   polepharma ﻿ recherche_________ submit   (button) toggle navigation   polepharma     * polepharma          + qui sommes-nous ?          + organigramme          + les chiffres clés          + un réseau     * territoires          + région centre-val de loire          + région normandie          + conseil départemental d’eure&loir          + chartres metropole          + metropole de rouen          + agglo du pays de dreux          + agglo evreux portes de normandie          + agglo seine&eure          + agglo de tours plus     * performance industrielle          + excellence opérationnelle          + maintenance          + packaging          + supply chain          + usine du futur     * talents     * relations publiques     * innovation          + biomédicaments          + fédérer          + collaborer          + promouvoir   adhérer à polepharma   espace adhérent   rechercher un adhérent   je découvre les métiers de la filière pharmaceutique   polepharma   médiathèque   espace presse   polepharma polepharma   ﻿ recherche_________ submit   polepharma polepharma     * polepharma          + qui sommes-nous ?          + organigramme          + les chiffres clés          + un réseau     * territoires          + région centre-val de loire          + région normandie          + conseil départemental d’eure&loir          + chartres metropole          + metropole de rouen          + agglo du pays de dreux          + agglo evreux portes de normandie          + agglo seine&eure          + agglo de tours plus     * performance industrielle          + excellence opérationnelle          + maintenance          + packaging          + supply chain          + usine du futur     * talents     * relations publiques     * innovation          + biomédicaments          + fédérer          + collaborer          + promouvoir     * lancement d’un ami national pour l’émergence de projets       collaboratifs d’innovationlancement d’un ami national pour l’émergence de projets collaboratifsd’innovation       afin de répondre à la priorité « technologies de ruptures       en bioproduction (trbp) » identifiée dans le contrat de filière du       csf « industries et technologies de...       > lire la suite     * polepharma, partenaire du colloque international adebiotechpolepharma, partenaire du colloque international adebiotech       polepharma est partenaire du colloque international adebiotech «       advanced analytical technologies for proteins »  (aatp),  2-3       octobre 2019 à biocitech (romainville-grand paris) qui couvrira       les...       > lire la suite     * agro-bio lance son nouveau site internet !agro-bio lance son nouveau site internet !       agro-bio lance son nouveau site internet ! les nouveautés       principales de cette version 2019 sont : la mise en cohérence avec       notre nouvelle offre de prestations...       > lire la suite     * soirées 18/21 polepharma réseau : toutes les datessoirées 18/21 polepharma réseau : toutes les dates          le réseau s’enrichit   participer aux soirées 18/21 réseau       polepharma c’est : rencontrer les acteurs du développement et de la       production pharmaceutique développer et entretenir votre réseau...       > lire la suite     * save the date : congrès polepharma bioproduction – 12 & 13 décembre       2019save the date : congrès polepharma bioproduction – 12 & 13 décembre 2019       congrès polepharma bioproduction – 4ème édition les 12 &       13 décembre 2019 au palais des congrès de tours sous la présidence       de thierry ziegler, head of manufacturing de cellectis. dans un...       > lire la suite     * save the date : colloque polepharma industrie du futur – 28       novembre 2019save the date : colloque polepharma industrie du futur – 28 novembre 2019       colloque polepharma industrie du futur – 3ème édition le 28       novembre 2019 au kindarena de rouen sous la présidence de yann       gharfourzadeh, vice president sales & operation emea pharma du       groupe...       > lire la suite     * polepharma recrute !polepharma recrute !       portée par son dynamisme, l’équipe s’agrandit !  polepharma recrute       :   un chef de projet affaires pharmaceutiques           un chef de       projet innovations...       > lire la suite     * comprendre en 1mn50 les métiers de la production pharmaceutiquecomprendre en 1mn50 les métiers de la production pharmaceutique       lancer la vidéo vous recherchez un emploi ? avez-vous pensé aux       métiers de la production de l’industrie pharmaceutique ? la france       est l’un des premiers producteurs européens...       > lire la suite     * comprendre les biomédicaments en 2 minutes, c’est possible !comprendre les biomédicaments en 2 minutes, c’est possible !       les biomédicaments en vidéo cliquez ici...       > lire la suiteinscriptionaux événements   12 au 13 décembre 2019   > centre international de congrès de tours   colloque polepharma bioproduction - 4éme ed.   inscription   10 décembre 2019   > oril   workshop 2 digitalisation et culture qualité / 10 décembre 2019   inscription   03 décembre 2019   > sanofi   séminaire spécial inspections   inscription   28 novembre 2019   > kindarena   colloque polepharma industrie du futur - 3ème edition   inscription   19 au 20 novembre 2019   > centre international de congrès de tours   tips 2019   inscription   31 octobre 2019   > hotel de région normandie rouen   les assises polepharma de l'innovation en normandie 2nd edition   inscription   23 octobre 2019   > golf du bois d'o   soirée polepharma réseau - dreux (28)   inscription   17 octobre 2019   > uimm   workshop 1 digitalisation et culture qualité / 17 octobre 2019   inscription   10 octobre 2019   > evreux   rencontres polepharma de l'amélioration continue - 3e édition   inscription   25 septembre 2019   > le paganica   soirée polepharma réseau - evreux (27)   inscription   04 juillet 2019   > dreux - (28)   la fabrh polepharma #1   inscription   28 juin 2019   > golf parc robert hersant   polepharma business tour   inscription   26 juin 2019   > golf de caen la mer,   soirée polepharma réseau - caen (14)   inscription   23 mai 2019   > golf du bois d'o   soirée polepharma réseau - dreux (28)   inscription   16 mai 2019   > château royal de blois   assemblée générale polepharma 2019   inscription   14 mai 2019   > hôtel national des invalides   colloque souveraineté medicaments & api   inscription   14 mai 2019   >   tec'lab: realité virtuelle appliquée   inscription   09 au 10 avril 2019   > ufr sante rouen   les journées polepharma de microbiomique   inscription   28 mars 2019   > synchrotron soleil   soirée polepharma réseau - paris saclay (91)   inscription   07 mars 2019   > novotel rouen sud   mat'inno polepharma \"développer son business à l'international\"   inscription   05 mars au 23 avril 2019   > le hangar   9ème afterwork biomédicament   inscription   28 février 2019   > golf de léry-poses   soirée polepharma réseau - louviers (27)   inscription   07 février 2019   > cotton club   atelier propriété industrielle / 07 fev 2019   inscription   07 février 2019   > cotton club   atelier propriété industrielle - 7 février 2019   inscription   04 février 2019   > delpharm evreux   invitation : visite delpharm evreux   inscription   02 février 2019   > caen   phinder de la pharma : forum national des facultés de pharmacie   inscription   31 janvier 2019   > golf de chartres fontenay   soirée polepharma réseau - chartres (28)   inscription   15 janvier 2019   > novotel rouen sud   les mat'inno polepharma \"financement européen des projets r&d\"   inscription   20 décembre 2018   > centre international de congrès de tours   colloque polepharma bioproduction - 3éme ed.   inscription   12 décembre 2018   > le paganica   soirée polepharma réseau - evreux (27)   inscription   04 décembre 2018   > la filature   rencontres polepharma amélioration continue – 2e édition   inscription   29 novembre 2018   > hôtel dupanloup   8ème afterwork biomédicaments   inscription   22 novembre 2018   > cotton club   atelier polepharma propriété industrielle   inscription   15 novembre 2018   > cenexis hsc   soirée réseau 18/21 polepharma & nucleopolis - caen   inscription   08 novembre 2018   > centre de congrès d'orléans   colloque polepharma industrie du futur - 2e edition   inscriptioninscriptionaux événements   10 octobre 2019   > evreux   rencontres polepharma de l'amélioration continue - 3e édition   inscription   17 octobre 2019   > uimm   workshop 1 digitalisation et culture qualité / 17 octobre 2019   inscription   23 octobre 2019   > golf du bois d'o   soirée polepharma réseau - dreux (28)   inscription   31 octobre 2019   > hotel de région normandie rouen   les assises polepharma de l'innovation en normandie 2nd edition   inscription   19 au 20 novembre 2019   > centre international de congrès de tours   tips 2019   inscription   28 novembre 2019   > kindarena   colloque polepharma industrie du futur - 3ème edition   inscription   03 décembre 2019   > sanofi   séminaire spécial inspections   inscription   10 décembre 2019   > oril   workshop 2 digitalisation et culture qualité / 10 décembre 2019   inscription   12 au 13 décembre 2019   > centre international de congrès de tours   colloque polepharma bioproduction - 4éme ed.   inscription   événements precedents   adhérer à polepharma   espace adhérent   rechercher un adhérentun réseau performant,      un territoire cohérent   carte polepharma   job-box   archives newsletter   médiathèque   espace pressepolepharma en vidéo   iframe:   //www.youtube.com/embed/k_icgpnj9wu?&autohide=1&color=red&controls=1&di   sablekb=0&fs=1&iv_load_policy=1&modestbranding=0&rel=0&showinfo=0&theme   =dark&vq=medium   tweets de @polepharma   polepharma   11 rue du cardinal pie   28000 chartres   tél. : +33 (0)2 37 20 99 90   mail : contact@polepharma.compartenaires territoires   centre val de loire région normandie agglo pays dreux evreux métropole   rouen normandie communauté seine et eure tours metropole eure et loir   chartrespartenaires officiels 2019   pharma dec caisse d'epargne altran biotech quality group   copyright © 2019 polepharma - mentions légales - politique de   confidentialité   en poursuivant votre navigation sur le site, vous acceptez   l'utilisation de cookies à des fins de mesure d'audience.   fermer   x   (button) ×   iframe: https://player.vimeo.com/video/151642050?autoplay=1   #polepharma » flux polepharma » flux des commentaires 3ème colloque   polepharma rh : demandez le programme ! les jeudis de polepharma   alternate alternate   polepharma   polepharma ﻿ recherche_________ submit   (button) toggle navigation   polepharma     * polepharma          + qui sommes-nous ?          + organigramme          + les chiffres clés          + un réseau     * territoires          + région centre-val de loire          + région normandie          + conseil départemental d’eure&loir          + chartres metropole          + metropole de rouen          + agglo du pays de dreux          + agglo evreux portes de normandie          + agglo seine&eure          + agglo de tours plus     * performance industrielle          + excellence opérationnelle          + maintenance          + packaging          + supply chain          + usine du futur     * talents     * relations publiques     * innovation          + biomédicaments          + fédérer          + collaborer          + promouvoir   adhérer à polepharma   espace adhérent   rechercher un adhérent   je découvre les métiers de la filière pharmaceutique   polepharma   médiathèque   espace presse   polepharma polepharma   ﻿ recherche_________ submit   polepharma polepharma     * polepharma          + qui sommes-nous ?          + organigramme          + les chiffres clés          + un réseau     * territoires          + région centre-val de loire          + région normandie          + conseil départemental d’eure&loir          + chartres metropole          + metropole de rouen          + agglo du pays de dreux          + agglo evreux portes de normandie          + agglo seine&eure          + agglo de tours plus     * performance industrielle          + excellence opérationnelle          + maintenance          + packaging          + supply chain          + usine du futur     * talents     * relations publiques     * innovation          + biomédicaments          + fédérer          + collaborer          + promouvoira la rencontre des futurs pharmaciens industriels !   7 mars 2017   la 2api est la réunion annuelle de toutes les associations   industrielles en pharmacie. c’est un week-end de formation et   d’insertion professionnelle destiné aux étudiants souhaitant se   renseigner et s’orienter vers le monde de l’industrie pharmaceutique.   il concerne tous les étudiants de la 2^ème à la 6^ème  année des 24   facultés de pharmacie, soit 300 étudiants présents les 3 au 5 mars   2017.   l’anepi caen-rouen (association normande des etudiants en pharmacie   industrielle) a été élue pour organiser l’édition 2017, dont le thème a   été : «s’adapter au monde de demain, l’évolution de la pharmacie   industrielle»   polepharma a souhaité montrer la forte présence industrielle locale   ainsi que les nombreuses possibilités de recrutements sur son bassin   (centre- val de loire; normandie; ile-de-france)   une forte mobilisation de la part de la filière :     * participation d’une dizaine de professionnels pharmaciens lors du       dîner de gala,     * animation d’une conférence de présentation du territoire,     * conduite d’un atelier pour aider lors de recherches de stage et       d’emploi     * animation d’un stand polepharma au cœur des entreprises du bassin   une rencontre aussi intéressante pour les entreprises que pour les   étudiants ravis de rencontrer les professionnels et de pouvoir échanger   sur les spécificités d’orientation dans le secteur de l’industrie du   médicament.   voir la vidéo   job-box   archives newsletter   médiathèque   espace pressepolepharma en vidéo   iframe:   //www.youtube.com/embed/k_icgpnj9wu?&autohide=1&color=red&controls=1&di   sablekb=0&fs=1&iv_load_policy=1&modestbranding=0&rel=0&showinfo=0&theme   =dark&vq=medium   tweets de @polepharma   polepharma   11 rue du cardinal pie   28000 chartres   tél. : +33 (0)2 37 20 99 90   mail : contact@polepharma.compartenaires territoires   centre val de loire région normandie agglo pays dreux evreux métropole   rouen normandie communauté seine et eure tours metropole eure et loir   chartrespartenaires officiels 2019   pharma dec caisse d'epargne altran biotech quality group   copyright © 2019 polepharma - mentions légales - politique de   confidentialité   en poursuivant votre navigation sur le site, vous acceptez   l'utilisation de cookies à des fins de mesure d'audience.   fermer   x   (button) ×   iframe: https://player.vimeo.com/video/151642050?autoplay=1   #polepharma » flux polepharma » flux des commentaires alternate   alternate   polepharma   polepharma ﻿ recherche_________ submit   (button) toggle navigation   polepharma     * polepharma          + qui sommes-nous ?          + organigramme          + les chiffres clés          + un réseau     * territoires          + région centre-val de loire          + région normandie          + conseil départemental d’eure&loir          + chartres metropole          + metropole de rouen          + agglo du pays de dreux          + agglo evreux portes de normandie          + agglo seine&eure          + agglo de tours plus     * performance industrielle          + excellence opérationnelle          + maintenance          + packaging          + supply chain          + usine du futur     * talents     * relations publiques     * innovation          + biomédicaments          + fédérer          + collaborer          + promouvoir   adhérer à polepharma   espace adhérent   rechercher un adhérent   je découvre les métiers de la filière pharmaceutique   polepharma   médiathèque   espace presse   polepharma polepharma   ﻿ recherche_________ submit   polepharma polepharma     * polepharma          + qui sommes-nous ?          + organigramme          + les chiffres clés          + un réseau     * territoires          + région centre-val de loire          + région normandie          + conseil départemental d’eure&loir          + chartres metropole          + metropole de rouen          + agglo du pays de dreux          + agglo evreux portes de normandie          + agglo seine&eure          + agglo de tours plus     * performance industrielle          + excellence opérationnelle          + maintenance          + packaging          + supply chain          + usine du futur     * talents     * relations publiques     * innovation          + biomédicaments          + fédérer          + collaborer          + promouvoirfiche adhérent   page générée par le plugin polepharma. ne pas éditer   job-box   archives newsletter   médiathèque   espace pressepolepharma en vidéo   iframe:   //www.youtube.com/embed/k_icgpnj9wu?&autohide=1&color=red&controls=1&di   sablekb=0&fs=1&iv_load_policy=1&modestbranding=0&rel=0&showinfo=0&theme   =dark&vq=medium   tweets de @polepharma   polepharma   11 rue du cardinal pie   28000 chartres   tél. : +33 (0)2 37 20 99 90   mail : contact@polepharma.compartenaires territoires   centre val de loire région normandie agglo pays dreux evreux métropole   rouen normandie communauté seine et eure tours metropole eure et loir   chartrespartenaires officiels 2019   pharma dec caisse d'epargne altran biotech quality group   copyright © 2019 polepharma - mentions légales - politique de   confidentialité   en poursuivant votre navigation sur le site, vous acceptez   l'utilisation de cookies à des fins de mesure d'audience.   fermer   x   (button) ×   iframe: https://player.vimeo.com/video/151642050?autoplay=1   #polepharma » flux polepharma » flux des commentaires polepharma » flux   des articles écrits par gregory monaca   polepharma   polepharma ﻿ recherche_________ submit   (button) toggle navigation   polepharma     * polepharma          + qui sommes-nous ?          + organigramme          + les chiffres clés          + un réseau     * territoires          + région centre-val de loire          + région normandie          + conseil départemental d’eure&loir          + chartres metropole          + metropole de rouen          + agglo du pays de dreux          + agglo evreux portes de normandie          + agglo seine&eure          + agglo de tours plus     * performance industrielle          + excellence opérationnelle          + maintenance          + packaging          + supply chain          + usine du futur     * talents     * relations publiques     * innovation          + biomédicaments          + fédérer          + collaborer          + promouvoir   adhérer à polepharma   espace adhérent   rechercher un adhérent   je découvre les métiers de la filière pharmaceutique   polepharma   médiathèque   espace presse   polepharma polepharma   ﻿ recherche_________ submit   polepharma polepharma     * polepharma          + qui sommes-nous ?          + organigramme          + les chiffres clés          + un réseau     * territoires          + région centre-val de loire          + région normandie          + conseil départemental d’eure&loir          + chartres metropole          + metropole de rouen          + agglo du pays de dreux          + agglo evreux portes de normandie          + agglo seine&eure          + agglo de tours plus     * performance industrielle          + excellence opérationnelle          + maintenance          + packaging          + supply chain          + usine du futur     * talents     * relations publiques     * innovation          + biomédicaments          + fédérer          + collaborer          + promouvoirgregory monaca   rss feedgregory monaca's latest posts   cynbiose respiratory, nouvelle société de services précliniques   spécialisée dans les maladies respiratoires et l’aérosolthérapie,   annonce le début des ses opérationscynbiose respiratory, nouvelle société de services précliniques spécialiséedans les maladies respiratoires et l’aérosolthérapie, annonce le début desses opérations   24 janvier 2018   cynbiose respiratory (tours, france) est une société de recherche   clinique hyperspécialisée créée sur la base des savoir-faire de ses   co-fondateurs : la société cynbiose (marcy l’étoile, france),   spécialisée dans les modèles précliniques innovants et le centre de   recherche scientifique pour les maladies respiratoires – inserm umr1100   (tours, france) qui contribue à la découverte et au […]   lire la suite   polepharma, le cluster français de production pharmaceutiquepolepharma, le cluster français de production pharmaceutique   16 mai 2014   la filière santé et le territoire ont réfléchi sur les points forts,   les arguments et les propositions qui seront portés au niveau des   décideurs nationaux. lors des derniers polepharma meetings, lieu de   rencontre, d’e?change et de construction communs a? l’ensemble des   acteurs de la chai?ne de sante?, polepharma a favorisé une prise de   conscience des grands enjeux […]   lire la suite   polepharma packagingpolepharma packaging   7 mai 2014   a l’initiative de ses adhe?rents, et en s’appuyant sur leur expertise,   polepharma a organisé « les rencontres du packaging pharmaceutique »   2e?me edition. qu’ils soient primaires ou secondaires, tous les   emballages contribuent a? leur niveau a? la mise a? disposition de   me?dicaments aupre?s de patients. soumis a? des re?glementations tre?s   strictes, ces emballages ne font […]   lire la suite   job-box   archives newsletter   médiathèque   espace pressepolepharma en vidéo   iframe:   //www.youtube.com/embed/k_icgpnj9wu?&autohide=1&color=red&controls=1&di   sablekb=0&fs=1&iv_load_policy=1&modestbranding=0&rel=0&showinfo=0&theme   =dark&vq=medium   tweets de @polepharma   polepharma   11 rue du cardinal pie   28000 chartres   tél. : +33 (0)2 37 20 99 90   mail : contact@polepharma.compartenaires territoires   centre val de loire région normandie agglo pays dreux evreux métropole   rouen normandie communauté seine et eure tours metropole eure et loir   chartrespartenaires officiels 2019   pharma dec caisse d'epargne altran biotech quality group   copyright © 2019 polepharma - mentions légales - politique de   confidentialité   en poursuivant votre navigation sur le site, vous acceptez   l'utilisation de cookies à des fins de mesure d'audience.   fermer   x   (button) ×   iframe: https://player.vimeo.com/video/151642050?autoplay=1   #polepharma » flux polepharma » flux des commentaires alternate   alternate   polepharma   polepharma ﻿ recherche_________ submit   (button) toggle navigation   polepharma     * polepharma          + qui sommes-nous ?          + organigramme          + les chiffres clés          + un réseau     * territoires          + région centre-val de loire          + région normandie          + conseil départemental d’eure&loir          + chartres metropole          + metropole de rouen          + agglo du pays de dreux          + agglo evreux portes de normandie          + agglo seine&eure          + agglo de tours plus     * performance industrielle          + excellence opérationnelle          + maintenance          + packaging          + supply chain          + usine du futur     * talents     * relations publiques     * innovation          + biomédicaments          + fédérer          + collaborer          + promouvoir   adhérer à polepharma   espace adhérent   rechercher un adhérent   je découvre les métiers de la filière pharmaceutique   polepharma   médiathèque   espace presse   polepharma polepharma   ﻿ recherche_________ submit   polepharma polepharma     * polepharma          + qui sommes-nous ?          + organigramme          + les chiffres clés          + un réseau     * territoires          + région centre-val de loire          + région normandie          + conseil départemental d’eure&loir          + chartres metropole          + metropole de rouen          + agglo du pays de dreux          + agglo evreux portes de normandie          + agglo seine&eure          + agglo de tours plus     * performance industrielle          + excellence opérationnelle          + maintenance          + packaging          + supply chain          + usine du futur     * talents     * relations publiques     * innovation          + biomédicaments          + fédérer          + collaborer          + promouvoir     * lancement d’un ami national pour l’émergence de projets       collaboratifs d’innovationlancement d’un ami national pour l’émergence de projets collaboratifsd’innovation       afin de répondre à la priorité « technologies de ruptures       en bioproduction (trbp) » identifiée dans le contrat de filière du       csf « industries et technologies de...       > lire la suite     * polepharma, partenaire du colloque international adebiotechpolepharma, partenaire du colloque international adebiotech       polepharma est partenaire du colloque international adebiotech «       advanced analytical technologies for proteins »  (aatp),  2-3       octobre 2019 à biocitech (romainville-grand paris) qui couvrira       les...       > lire la suite     * agro-bio lance son nouveau site internet !agro-bio lance son nouveau site internet !       agro-bio lance son nouveau site internet ! les nouveautés       principales de cette version 2019 sont : la mise en cohérence avec       notre nouvelle offre de prestations...       > lire la suite     * soirées 18/21 polepharma réseau : toutes les datessoirées 18/21 polepharma réseau : toutes les dates          le réseau s’enrichit   participer aux soirées 18/21 réseau       polepharma c’est : rencontrer les acteurs du développement et de la       production pharmaceutique développer et entretenir votre réseau...       > lire la suite     * save the date : congrès polepharma bioproduction – 12 & 13 décembre       2019save the date : congrès polepharma bioproduction – 12 & 13 décembre 2019       congrès polepharma bioproduction – 4ème édition les 12 &       13 décembre 2019 au palais des congrès de tours sous la présidence       de thierry ziegler, head of manufacturing de cellectis. dans un...       > lire la suite     * save the date : colloque polepharma industrie du futur – 28       novembre 2019save the date : colloque polepharma industrie du futur – 28 novembre 2019       colloque polepharma industrie du futur – 3ème édition le 28       novembre 2019 au kindarena de rouen sous la présidence de yann       gharfourzadeh, vice president sales & operation emea pharma du       groupe...       > lire la suite     * polepharma recrute !polepharma recrute !       portée par son dynamisme, l’équipe s’agrandit !  polepharma recrute       :   un chef de projet affaires pharmaceutiques           un chef de       projet innovations...       > lire la suite     * comprendre en 1mn50 les métiers de la production pharmaceutiquecomprendre en 1mn50 les métiers de la production pharmaceutique       lancer la vidéo vous recherchez un emploi ? avez-vous pensé aux       métiers de la production de l’industrie pharmaceutique ? la france       est l’un des premiers producteurs européens...       > lire la suite     * comprendre les biomédicaments en 2 minutes, c’est possible !comprendre les biomédicaments en 2 minutes, c’est possible !       les biomédicaments en vidéo cliquez ici...       > lire la suiteinscriptionaux événements   12 au 13 décembre 2019   > centre international de congrès de tours   colloque polepharma bioproduction - 4éme ed.   inscription   10 décembre 2019   > oril   workshop 2 digitalisation et culture qualité / 10 décembre 2019   inscription   03 décembre 2019   > sanofi   séminaire spécial inspections   inscription   28 novembre 2019   > kindarena   colloque polepharma industrie du futur - 3ème edition   inscription   19 au 20 novembre 2019   > centre international de congrès de tours   tips 2019   inscription   31 octobre 2019   > hotel de région normandie rouen   les assises polepharma de l'innovation en normandie 2nd edition   inscription   23 octobre 2019   > golf du bois d'o   soirée polepharma réseau - dreux (28)   inscription   17 octobre 2019   > uimm   workshop 1 digitalisation et culture qualité / 17 octobre 2019   inscription   10 octobre 2019   > evreux   rencontres polepharma de l'amélioration continue - 3e édition   inscription   25 septembre 2019   > le paganica   soirée polepharma réseau - evreux (27)   inscription   04 juillet 2019   > dreux - (28)   la fabrh polepharma #1   inscription   28 juin 2019   > golf parc robert hersant   polepharma business tour   inscription   26 juin 2019   > golf de caen la mer,   soirée polepharma réseau - caen (14)   inscription   23 mai 2019   > golf du bois d'o   soirée polepharma réseau - dreux (28)   inscription   16 mai 2019   > château royal de blois   assemblée générale polepharma 2019   inscription   14 mai 2019   > hôtel national des invalides   colloque souveraineté medicaments & api   inscription   14 mai 2019   >   tec'lab: realité virtuelle appliquée   inscription   09 au 10 avril 2019   > ufr sante rouen   les journées polepharma de microbiomique   inscription   28 mars 2019   > synchrotron soleil   soirée polepharma réseau - paris saclay (91)   inscription   07 mars 2019   > novotel rouen sud   mat'inno polepharma \"développer son business à l'international\"   inscription   05 mars au 23 avril 2019   > le hangar   9ème afterwork biomédicament   inscription   28 février 2019   > golf de léry-poses   soirée polepharma réseau - louviers (27)   inscription   07 février 2019   > cotton club   atelier propriété industrielle / 07 fev 2019   inscription   07 février 2019   > cotton club   atelier propriété industrielle - 7 février 2019   inscription   04 février 2019   > delpharm evreux   invitation : visite delpharm evreux   inscription   02 février 2019   > caen   phinder de la pharma : forum national des facultés de pharmacie   inscription   31 janvier 2019   > golf de chartres fontenay   soirée polepharma réseau - chartres (28)   inscription   15 janvier 2019   > novotel rouen sud   les mat'inno polepharma \"financement européen des projets r&d\"   inscription   20 décembre 2018   > centre international de congrès de tours   colloque polepharma bioproduction - 3éme ed.   inscription   12 décembre 2018   > le paganica   soirée polepharma réseau - evreux (27)   inscription   04 décembre 2018   > la filature   rencontres polepharma amélioration continue – 2e édition   inscription   29 novembre 2018   > hôtel dupanloup   8ème afterwork biomédicaments   inscription   22 novembre 2018   > cotton club   atelier polepharma propriété industrielle   inscription   15 novembre 2018   > cenexis hsc   soirée réseau 18/21 polepharma & nucleopolis - caen   inscription   08 novembre 2018   > centre de congrès d'orléans   colloque polepharma industrie du futur - 2e edition   inscriptioninscriptionaux événements   10 octobre 2019   > evreux   rencontres polepharma de l'amélioration continue - 3e édition   inscription   17 octobre 2019   > uimm   workshop 1 digitalisation et culture qualité / 17 octobre 2019   inscription   23 octobre 2019   > golf du bois d'o   soirée polepharma réseau - dreux (28)   inscription   31 octobre 2019   > hotel de région normandie rouen   les assises polepharma de l'innovation en normandie 2nd edition   inscription   19 au 20 novembre 2019   > centre international de congrès de tours   tips 2019   inscription   28 novembre 2019   > kindarena   colloque polepharma industrie du futur - 3ème edition   inscription   03 décembre 2019   > sanofi   séminaire spécial inspections   inscription   10 décembre 2019   > oril   workshop 2 digitalisation et culture qualité / 10 décembre 2019   inscription   12 au 13 décembre 2019   > centre international de congrès de tours   colloque polepharma bioproduction - 4éme ed.   inscription   événements precedents   adhérer à polepharma   espace adhérent   rechercher un adhérentun réseau performant,      un territoire cohérent   carte polepharma   job-box   archives newsletter   médiathèque   espace pressepolepharma en vidéo   iframe:   //www.youtube.com/embed/k_icgpnj9wu?&autohide=1&color=red&controls=1&di   sablekb=0&fs=1&iv_load_policy=1&modestbranding=0&rel=0&showinfo=0&theme   =dark&vq=medium   tweets de @polepharma   polepharma   11 rue du cardinal pie   28000 chartres   tél. : +33 (0)2 37 20 99 90   mail : contact@polepharma.compartenaires territoires   centre val de loire région normandie agglo pays dreux evreux métropole   rouen normandie communauté seine et eure tours metropole eure et loir   chartrespartenaires officiels 2019   pharma dec caisse d'epargne altran biotech quality group   copyright © 2019 polepharma - mentions légales - politique de   confidentialité   en poursuivant votre navigation sur le site, vous acceptez   l'utilisation de cookies à des fins de mesure d'audience.   fermer   x   (button) ×   iframe: https://player.vimeo.com/video/151642050?autoplay=1   #polepharma » flux polepharma » flux des commentaires 3ème colloque   polepharma rh : demandez le programme ! les jeudis de polepharma   alternate alternate   polepharma   polepharma ﻿ recherche_________ submit   (button) toggle navigation   polepharma     * polepharma          + qui sommes-nous ?          + organigramme          + les chiffres clés          + un réseau     * territoires          + région centre-val de loire          + région normandie          + conseil départemental d’eure&loir          + chartres metropole          + metropole de rouen          + agglo du pays de dreux          + agglo evreux portes de normandie          + agglo seine&eure          + agglo de tours plus     * performance industrielle          + excellence opérationnelle          + maintenance          + packaging          + supply chain          + usine du futur     * talents     * relations publiques     * innovation          + biomédicaments          + fédérer          + collaborer          + promouvoir   adhérer à polepharma   espace adhérent   rechercher un adhérent   je découvre les métiers de la filière pharmaceutique   polepharma   médiathèque   espace presse   polepharma polepharma   ﻿ recherche_________ submit   polepharma polepharma     * polepharma          + qui sommes-nous ?          + organigramme          + les chiffres clés          + un réseau     * territoires          + région centre-val de loire          + région normandie          + conseil départemental d’eure&loir          + chartres metropole          + metropole de rouen          + agglo du pays de dreux          + agglo evreux portes de normandie          + agglo seine&eure          + agglo de tours plus     * performance industrielle          + excellence opérationnelle          + maintenance          + packaging          + supply chain          + usine du futur     * talents     * relations publiques     * innovation          + biomédicaments          + fédérer          + collaborer          + promouvoira la rencontre des futurs pharmaciens industriels !   7 mars 2017   la 2api est la réunion annuelle de toutes les associations   industrielles en pharmacie. c’est un week-end de formation et   d’insertion professionnelle destiné aux étudiants souhaitant se   renseigner et s’orienter vers le monde de l’industrie pharmaceutique.   il concerne tous les étudiants de la 2^ème à la 6^ème  année des 24   facultés de pharmacie, soit 300 étudiants présents les 3 au 5 mars   2017.   l’anepi caen-rouen (association normande des etudiants en pharmacie   industrielle) a été élue pour organiser l’édition 2017, dont le thème a   été : «s’adapter au monde de demain, l’évolution de la pharmacie   industrielle»   polepharma a souhaité montrer la forte présence industrielle locale   ainsi que les nombreuses possibilités de recrutements sur son bassin   (centre- val de loire; normandie; ile-de-france)   une forte mobilisation de la part de la filière :     * participation d’une dizaine de professionnels pharmaciens lors du       dîner de gala,     * animation d’une conférence de présentation du territoire,     * conduite d’un atelier pour aider lors de recherches de stage et       d’emploi     * animation d’un stand polepharma au cœur des entreprises du bassin   une rencontre aussi intéressante pour les entreprises que pour les   étudiants ravis de rencontrer les professionnels et de pouvoir échanger   sur les spécificités d’orientation dans le secteur de l’industrie du   médicament.   voir la vidéo   job-box   archives newsletter   médiathèque   espace pressepolepharma en vidéo   iframe:   //www.youtube.com/embed/k_icgpnj9wu?&autohide=1&color=red&controls=1&di   sablekb=0&fs=1&iv_load_policy=1&modestbranding=0&rel=0&showinfo=0&theme   =dark&vq=medium   tweets de @polepharma   polepharma   11 rue du cardinal pie   28000 chartres   tél. : +33 (0)2 37 20 99 90   mail : contact@polepharma.compartenaires territoires   centre val de loire région normandie agglo pays dreux evreux métropole   rouen normandie communauté seine et eure tours metropole eure et loir   chartrespartenaires officiels 2019   pharma dec caisse d'epargne altran biotech quality group   copyright © 2019 polepharma - mentions légales - politique de   confidentialité   en poursuivant votre navigation sur le site, vous acceptez   l'utilisation de cookies à des fins de mesure d'audience.   fermer   x   (button) ×   iframe: https://player.vimeo.com/video/151642050?autoplay=1   #polepharma » flux polepharma » flux des commentaires alternate   alternate   polepharma   polepharma ﻿ recherche_________ submit   (button) toggle navigation   polepharma     * polepharma          + qui sommes-nous ?          + organigramme          + les chiffres clés          + un réseau     * territoires          + région centre-val de loire          + région normandie          + conseil départemental d’eure&loir          + chartres metropole          + metropole de rouen          + agglo du pays de dreux          + agglo evreux portes de normandie          + agglo seine&eure          + agglo de tours plus     * performance industrielle          + excellence opérationnelle          + maintenance          + packaging          + supply chain          + usine du futur     * talents     * relations publiques     * innovation          + biomédicaments          + fédérer          + collaborer          + promouvoir   adhérer à polepharma   espace adhérent   rechercher un adhérent   je découvre les métiers de la filière pharmaceutique   polepharma   médiathèque   espace presse   polepharma polepharma   ﻿ recherche_________ submit   polepharma polepharma     * polepharma          + qui sommes-nous ?          + organigramme          + les chiffres clés          + un réseau     * territoires          + région centre-val de loire          + région normandie          + conseil départemental d’eure&loir          + chartres metropole          + metropole de rouen          + agglo du pays de dreux          + agglo evreux portes de normandie          + agglo seine&eure          + agglo de tours plus     * performance industrielle          + excellence opérationnelle          + maintenance          + packaging          + supply chain          + usine du futur     * talents     * relations publiques     * innovation          + biomédicaments          + fédérer          + collaborer          + promouvoirfiche adhérent   page générée par le plugin polepharma. ne pas éditer   job-box   archives newsletter   médiathèque   espace pressepolepharma en vidéo   iframe:   //www.youtube.com/embed/k_icgpnj9wu?&autohide=1&color=red&controls=1&di   sablekb=0&fs=1&iv_load_policy=1&modestbranding=0&rel=0&showinfo=0&theme   =dark&vq=medium   tweets de @polepharma   polepharma   11 rue du cardinal pie   28000 chartres   tél. : +33 (0)2 37 20 99 90   mail : contact@polepharma.compartenaires territoires   centre val de loire région normandie agglo pays dreux evreux métropole   rouen normandie communauté seine et eure tours metropole eure et loir   chartrespartenaires officiels 2019   pharma dec caisse d'epargne altran biotech quality group   copyright © 2019 polepharma - mentions légales - politique de   confidentialité   en poursuivant votre navigation sur le site, vous acceptez   l'utilisation de cookies à des fins de mesure d'audience.   fermer   x   (button) ×   iframe: https://player.vimeo.com/video/151642050?autoplay=1   #polepharma » flux polepharma » flux des commentaires polepharma » flux   des articles écrits par gregory monaca   polepharma   polepharma ﻿ recherche_________ submit   (button) toggle navigation   polepharma     * polepharma          + qui sommes-nous ?          + organigramme          + les chiffres clés          + un réseau     * territoires          + région centre-val de loire          + région normandie          + conseil départemental d’eure&loir          + chartres metropole          + metropole de rouen          + agglo du pays de dreux          + agglo evreux portes de normandie          + agglo seine&eure          + agglo de tours plus     * performance industrielle          + excellence opérationnelle          + maintenance          + packaging          + supply chain          + usine du futur     * talents     * relations publiques     * innovation          + biomédicaments          + fédérer          + collaborer          + promouvoir   adhérer à polepharma   espace adhérent   rechercher un adhérent   je découvre les métiers de la filière pharmaceutique   polepharma   médiathèque   espace presse   polepharma polepharma   ﻿ recherche_________ submit   polepharma polepharma     * polepharma          + qui sommes-nous ?          + organigramme          + les chiffres clés          + un réseau     * territoires          + région centre-val de loire          + région normandie          + conseil départemental d’eure&loir          + chartres metropole          + metropole de rouen          + agglo du pays de dreux          + agglo evreux portes de normandie          + agglo seine&eure          + agglo de tours plus     * performance industrielle          + excellence opérationnelle          + maintenance          + packaging          + supply chain          + usine du futur     * talents     * relations publiques     * innovation          + biomédicaments          + fédérer          + collaborer          + promouvoirgregory monaca   rss feedgregory monaca's latest posts   cynbiose respiratory, nouvelle société de services précliniques   spécialisée dans les maladies respiratoires et l’aérosolthérapie,   annonce le début des ses opérationscynbiose respiratory, nouvelle société de services précliniques spécialiséedans les maladies respiratoires et l’aérosolthérapie, annonce le début desses opérations   24 janvier 2018   cynbiose respiratory (tours, france) est une société de recherche   clinique hyperspécialisée créée sur la base des savoir-faire de ses   co-fondateurs : la société cynbiose (marcy l’étoile, france),   spécialisée dans les modèles précliniques innovants et le centre de   recherche scientifique pour les maladies respiratoires – inserm umr1100   (tours, france) qui contribue à la découverte et au […]   lire la suite   polepharma, le cluster français de production pharmaceutiquepolepharma, le cluster français de production pharmaceutique   16 mai 2014   la filière santé et le territoire ont réfléchi sur les points forts,   les arguments et les propositions qui seront portés au niveau des   décideurs nationaux. lors des derniers polepharma meetings, lieu de   rencontre, d’e?change et de construction communs a? l’ensemble des   acteurs de la chai?ne de sante?, polepharma a favorisé une prise de   conscience des grands enjeux […]   lire la suite   polepharma packagingpolepharma packaging   7 mai 2014   a l’initiative de ses adhe?rents, et en s’appuyant sur leur expertise,   polepharma a organisé « les rencontres du packaging pharmaceutique »   2e?me edition. qu’ils soient primaires ou secondaires, tous les   emballages contribuent a? leur niveau a? la mise a? disposition de   me?dicaments aupre?s de patients. soumis a? des re?glementations tre?s   strictes, ces emballages ne font […]   lire la suite   job-box   archives newsletter   médiathèque   espace pressepolepharma en vidéo   iframe:   //www.youtube.com/embed/k_icgpnj9wu?&autohide=1&color=red&controls=1&di   sablekb=0&fs=1&iv_load_policy=1&modestbranding=0&rel=0&showinfo=0&theme   =dark&vq=medium   tweets de @polepharma   polepharma   11 rue du cardinal pie   28000 chartres   tél. : +33 (0)2 37 20 99 90   mail : contact@polepharma.compartenaires territoires   centre val de loire région normandie agglo pays dreux evreux métropole   rouen normandie communauté seine et eure tours metropole eure et loir   chartrespartenaires officiels 2019   pharma dec caisse d'epargne altran biotech quality group   copyright © 2019 polepharma - mentions légales - politique de   confidentialité   en poursuivant votre navigation sur le site, vous acceptez   l'utilisation de cookies à des fins de mesure d'audience.   fermer   x   (button) ×   iframe: https://player.vimeo.com/video/151642050?autoplay=1\n"
     ]
    }
   ],
   "source": [
    "print(data_train['text']['9032'])"
   ]
  },
  {
   "cell_type": "code",
   "execution_count": 70,
   "metadata": {
    "scrolled": true
   },
   "outputs": [
    {
     "data": {
      "text/html": [
       "<div>\n",
       "<style scoped>\n",
       "    .dataframe tbody tr th:only-of-type {\n",
       "        vertical-align: middle;\n",
       "    }\n",
       "\n",
       "    .dataframe tbody tr th {\n",
       "        vertical-align: top;\n",
       "    }\n",
       "\n",
       "    .dataframe thead th {\n",
       "        text-align: right;\n",
       "    }\n",
       "</style>\n",
       "<table border=\"1\" class=\"dataframe\">\n",
       "  <thead>\n",
       "    <tr style=\"text-align: right;\">\n",
       "      <th></th>\n",
       "      <th>text</th>\n",
       "    </tr>\n",
       "  </thead>\n",
       "  <tbody>\n",
       "    <tr>\n",
       "      <td>0</td>\n",
       "      <td>[27997,    iframe: //www.googletagmanager.com/...</td>\n",
       "    </tr>\n",
       "    <tr>\n",
       "      <td>1</td>\n",
       "      <td>[9316,    iframe: https://www.googletagmanager...</td>\n",
       "    </tr>\n",
       "    <tr>\n",
       "      <td>2</td>\n",
       "      <td>[27045,    #toutes les astuces beauté ⋅ astuce...</td>\n",
       "    </tr>\n",
       "    <tr>\n",
       "      <td>3</td>\n",
       "      <td>[19805,    [logodefault.jpg]   [etab_juvisy-su...</td>\n",
       "    </tr>\n",
       "    <tr>\n",
       "      <td>4</td>\n",
       "      <td>[26580,    #l'école de demain » flux l'école d...</td>\n",
       "    </tr>\n",
       "  </tbody>\n",
       "</table>\n",
       "</div>"
      ],
      "text/plain": [
       "                                                text\n",
       "0  [27997,    iframe: //www.googletagmanager.com/...\n",
       "1  [9316,    iframe: https://www.googletagmanager...\n",
       "2  [27045,    #toutes les astuces beauté ⋅ astuce...\n",
       "3  [19805,    [logodefault.jpg]   [etab_juvisy-su...\n",
       "4  [26580,    #l'école de demain » flux l'école d..."
      ]
     },
     "execution_count": 70,
     "metadata": {},
     "output_type": "execute_result"
    }
   ],
   "source": [
    "data_test = pd.DataFrame({'text': X_test,})\n",
    "data_test.head()"
   ]
  },
  {
   "cell_type": "code",
   "execution_count": 71,
   "metadata": {},
   "outputs": [
    {
     "data": {
      "text/html": [
       "<div>\n",
       "<style scoped>\n",
       "    .dataframe tbody tr th:only-of-type {\n",
       "        vertical-align: middle;\n",
       "    }\n",
       "\n",
       "    .dataframe tbody tr th {\n",
       "        vertical-align: top;\n",
       "    }\n",
       "\n",
       "    .dataframe thead th {\n",
       "        text-align: right;\n",
       "    }\n",
       "</style>\n",
       "<table border=\"1\" class=\"dataframe\">\n",
       "  <thead>\n",
       "    <tr style=\"text-align: right;\">\n",
       "      <th></th>\n",
       "      <th>text</th>\n",
       "    </tr>\n",
       "    <tr>\n",
       "      <th>test_host</th>\n",
       "      <th></th>\n",
       "    </tr>\n",
       "  </thead>\n",
       "  <tbody>\n",
       "    <tr>\n",
       "      <td>27997</td>\n",
       "      <td>iframe: //www.googletagmanager.com/ns.html?...</td>\n",
       "    </tr>\n",
       "    <tr>\n",
       "      <td>9316</td>\n",
       "      <td>iframe: https://www.googletagmanager.com/ns...</td>\n",
       "    </tr>\n",
       "    <tr>\n",
       "      <td>27045</td>\n",
       "      <td>#toutes les astuces beauté ⋅ astuces beauté...</td>\n",
       "    </tr>\n",
       "    <tr>\n",
       "      <td>19805</td>\n",
       "      <td>[logodefault.jpg]   [etab_juvisy-sur-orge.p...</td>\n",
       "    </tr>\n",
       "    <tr>\n",
       "      <td>26580</td>\n",
       "      <td>#l'école de demain » flux l'école de demain...</td>\n",
       "    </tr>\n",
       "  </tbody>\n",
       "</table>\n",
       "</div>"
      ],
      "text/plain": [
       "                                                        text\n",
       "test_host                                                   \n",
       "27997         iframe: //www.googletagmanager.com/ns.html?...\n",
       "9316          iframe: https://www.googletagmanager.com/ns...\n",
       "27045         #toutes les astuces beauté ⋅ astuces beauté...\n",
       "19805         [logodefault.jpg]   [etab_juvisy-sur-orge.p...\n",
       "26580         #l'école de demain » flux l'école de demain..."
      ]
     },
     "execution_count": 71,
     "metadata": {},
     "output_type": "execute_result"
    }
   ],
   "source": [
    "data_test[['test_host','text']] = pd.DataFrame(data_test.text.values.tolist(), index= data_test.index)\n",
    "data_test.set_index('test_host', inplace=True)\n",
    "data_test.head()"
   ]
  },
  {
   "cell_type": "code",
   "execution_count": 72,
   "metadata": {},
   "outputs": [
    {
     "data": {
      "text/plain": [
       "(560, 1)"
      ]
     },
     "execution_count": 72,
     "metadata": {},
     "output_type": "execute_result"
    }
   ],
   "source": [
    "data_test.shape"
   ]
  },
  {
   "cell_type": "code",
   "execution_count": 73,
   "metadata": {},
   "outputs": [],
   "source": [
    "labels = ['business/finance', 'education/research', 'entertainment', 'health/medical',\n",
    "          'news/press', 'politics/government/law', 'sports', 'tech/science']"
   ]
  },
  {
   "cell_type": "markdown",
   "metadata": {},
   "source": [
    "## 2.Preprocessing"
   ]
  },
  {
   "cell_type": "code",
   "execution_count": 74,
   "metadata": {},
   "outputs": [],
   "source": [
    "### Remove html tags and uris from contents\n",
    "uri_re = r'(?i)\\b((?:https?://|www\\d{0,3}[.]|[a-z0-9.\\-]+[.][a-z]{2,4}/)(?:[^\\s()<>]+|\\(([^\\s()<>]+|(\\([^\\s()<>]+\\)))*\\))+(?:\\(([^\\s()<>]+|(\\([^\\s()<>]+\\)))*\\)|[^\\s`!()\\[\\]{};:\\'\".,<>?«»“”‘’]))'\n",
    "\n",
    "def stripTagsAndUris(x):\n",
    "    if x:\n",
    "        # BeautifulSoup on content\n",
    "        soup = BeautifulSoup(x, \"html.parser\")\n",
    "        # Stripping all <code> tags with their content if any\n",
    "        if soup.code:\n",
    "            soup.code.decompose()\n",
    "        # Get all the text out of the html\n",
    "        text =  soup.get_text()\n",
    "        # Returning text stripping out all uris\n",
    "        return re.sub(uri_re, \"\", text)\n",
    "    else:\n",
    "        return \"\""
   ]
  },
  {
   "cell_type": "code",
   "execution_count": 75,
   "metadata": {},
   "outputs": [],
   "source": [
    "# This could take a while\n",
    "\n",
    "data_train[\"text\"] = data_train[\"text\"].map(stripTagsAndUris)"
   ]
  },
  {
   "cell_type": "code",
   "execution_count": 76,
   "metadata": {},
   "outputs": [
    {
     "data": {
      "text/plain": [
       "'   #polepharma » flux polepharma » flux des commentaires alternate   alternate   polepharma   polepharma \\ufeff recherche_________ submit   (button) toggle navigation   polepharma     * polepharma          + qui sommes-nous ?          + organigramme          + les chiffres clés          + un réseau     * territoires          + région centre-val de loire          + région normandie          + conseil départemental d’eure&loir          + chartres metropole          + metropole de rouen          + agglo du pays de dreux          + agglo evreux portes de normandie          + agglo seine&eure          + agglo de tours plus     * performance industrielle          + excellence opérationnelle          + maintenance          + packaging          + supply chain          + usine du futur     * talents     * relations publiques     * innovation          + biomédicaments          + fédérer          + collaborer          + promouvoir   adhérer à polepharma   espace adhérent   rechercher un adhérent   je découvre les métiers de la filière pharmaceutique   polepharma   médiathèque   espace presse   polepharma polepharma   \\ufeff recherche_________ submit   polepharma polepharma     * polepharma          + qui sommes-nous ?          + organigramme          + les chiffres clés          + un réseau     * territoires          + région centre-val de loire          + région normandie          + conseil départemental d’eure&loir          + chartres metropole          + metropole de rouen          + agglo du pays de dreux          + agglo evreux portes de normandie          + agglo seine&eure          + agglo de tours plus     * performance industrielle          + excellence opérationnelle          + maintenance          + packaging          + supply chain          + usine du futur     * talents     * relations publiques     * innovation          + biomédicaments          + fédérer          + collaborer          + promouvoir     * lancement d’un ami national pour l’émergence de projets       collaboratifs d’innovationlancement d’un ami national pour l’émergence de projets collaboratifsd’innovation       afin de répondre à la priorité « technologies de ruptures       en bioproduction (trbp) » identifiée dans le contrat de filière du       csf « industries et technologies de...       > lire la suite     * polepharma, partenaire du colloque international adebiotechpolepharma, partenaire du colloque international adebiotech       polepharma est partenaire du colloque international adebiotech «       advanced analytical technologies for proteins »  (aatp),  2-3       octobre 2019 à biocitech (romainville-grand paris) qui couvrira       les...       > lire la suite     * agro-bio lance son nouveau site internet !agro-bio lance son nouveau site internet !       agro-bio lance son nouveau site internet ! les nouveautés       principales de cette version 2019 sont : la mise en cohérence avec       notre nouvelle offre de prestations...       > lire la suite     * soirées 18/21 polepharma réseau : toutes les datessoirées 18/21 polepharma réseau : toutes les dates          le réseau s’enrichit   participer aux soirées 18/21 réseau       polepharma c’est : rencontrer les acteurs du développement et de la       production pharmaceutique développer et entretenir votre réseau...       > lire la suite     * save the date : congrès polepharma bioproduction – 12 & 13 décembre       2019save the date : congrès polepharma bioproduction – 12 & 13 décembre 2019       congrès polepharma bioproduction – 4ème édition les 12 &       13 décembre 2019 au palais des congrès de tours sous la présidence       de thierry ziegler, head of manufacturing de cellectis. dans un...       > lire la suite     * save the date : colloque polepharma industrie du futur – 28       novembre 2019save the date : colloque polepharma industrie du futur – 28 novembre 2019       colloque polepharma industrie du futur – 3ème édition le 28       novembre 2019 au kindarena de rouen sous la présidence de yann       gharfourzadeh, vice president sales & operation emea pharma du       groupe...       > lire la suite     * polepharma recrute !polepharma recrute !       portée par son dynamisme, l’équipe s’agrandit !  polepharma recrute       :   un chef de projet affaires pharmaceutiques           un chef de       projet innovations...       > lire la suite     * comprendre en 1mn50 les métiers de la production pharmaceutiquecomprendre en 1mn50 les métiers de la production pharmaceutique       lancer la vidéo vous recherchez un emploi ? avez-vous pensé aux       métiers de la production de l’industrie pharmaceutique ? la france       est l’un des premiers producteurs européens...       > lire la suite     * comprendre les biomédicaments en 2 minutes, c’est possible !comprendre les biomédicaments en 2 minutes, c’est possible !       les biomédicaments en vidéo cliquez ici...       > lire la suiteinscriptionaux événements   12 au 13 décembre 2019   > centre international de congrès de tours   colloque polepharma bioproduction - 4éme ed.   inscription   10 décembre 2019   > oril   workshop 2 digitalisation et culture qualité / 10 décembre 2019   inscription   03 décembre 2019   > sanofi   séminaire spécial inspections   inscription   28 novembre 2019   > kindarena   colloque polepharma industrie du futur - 3ème edition   inscription   19 au 20 novembre 2019   > centre international de congrès de tours   tips 2019   inscription   31 octobre 2019   > hotel de région normandie rouen   les assises polepharma de l\\'innovation en normandie 2nd edition   inscription   23 octobre 2019   > golf du bois d\\'o   soirée polepharma réseau - dreux (28)   inscription   17 octobre 2019   > uimm   workshop 1 digitalisation et culture qualité / 17 octobre 2019   inscription   10 octobre 2019   > evreux   rencontres polepharma de l\\'amélioration continue - 3e édition   inscription   25 septembre 2019   > le paganica   soirée polepharma réseau - evreux (27)   inscription   04 juillet 2019   > dreux - (28)   la fabrh polepharma #1   inscription   28 juin 2019   > golf parc robert hersant   polepharma business tour   inscription   26 juin 2019   > golf de caen la mer,   soirée polepharma réseau - caen (14)   inscription   23 mai 2019   > golf du bois d\\'o   soirée polepharma réseau - dreux (28)   inscription   16 mai 2019   > château royal de blois   assemblée générale polepharma 2019   inscription   14 mai 2019   > hôtel national des invalides   colloque souveraineté medicaments & api   inscription   14 mai 2019   >   tec\\'lab: realité virtuelle appliquée   inscription   09 au 10 avril 2019   > ufr sante rouen   les journées polepharma de microbiomique   inscription   28 mars 2019   > synchrotron soleil   soirée polepharma réseau - paris saclay (91)   inscription   07 mars 2019   > novotel rouen sud   mat\\'inno polepharma \"développer son business à l\\'international\"   inscription   05 mars au 23 avril 2019   > le hangar   9ème afterwork biomédicament   inscription   28 février 2019   > golf de léry-poses   soirée polepharma réseau - louviers (27)   inscription   07 février 2019   > cotton club   atelier propriété industrielle / 07 fev 2019   inscription   07 février 2019   > cotton club   atelier propriété industrielle - 7 février 2019   inscription   04 février 2019   > delpharm evreux   invitation : visite delpharm evreux   inscription   02 février 2019   > caen   phinder de la pharma : forum national des facultés de pharmacie   inscription   31 janvier 2019   > golf de chartres fontenay   soirée polepharma réseau - chartres (28)   inscription   15 janvier 2019   > novotel rouen sud   les mat\\'inno polepharma \"financement européen des projets r&d\"   inscription   20 décembre 2018   > centre international de congrès de tours   colloque polepharma bioproduction - 3éme ed.   inscription   12 décembre 2018   > le paganica   soirée polepharma réseau - evreux (27)   inscription   04 décembre 2018   > la filature   rencontres polepharma amélioration continue – 2e édition   inscription   29 novembre 2018   > hôtel dupanloup   8ème afterwork biomédicaments   inscription   22 novembre 2018   > cotton club   atelier polepharma propriété industrielle   inscription   15 novembre 2018   > cenexis hsc   soirée réseau 18/21 polepharma & nucleopolis - caen   inscription   08 novembre 2018   > centre de congrès d\\'orléans   colloque polepharma industrie du futur - 2e edition   inscriptioninscriptionaux événements   10 octobre 2019   > evreux   rencontres polepharma de l\\'amélioration continue - 3e édition   inscription   17 octobre 2019   > uimm   workshop 1 digitalisation et culture qualité / 17 octobre 2019   inscription   23 octobre 2019   > golf du bois d\\'o   soirée polepharma réseau - dreux (28)   inscription   31 octobre 2019   > hotel de région normandie rouen   les assises polepharma de l\\'innovation en normandie 2nd edition   inscription   19 au 20 novembre 2019   > centre international de congrès de tours   tips 2019   inscription   28 novembre 2019   > kindarena   colloque polepharma industrie du futur - 3ème edition   inscription   03 décembre 2019   > sanofi   séminaire spécial inspections   inscription   10 décembre 2019   > oril   workshop 2 digitalisation et culture qualité / 10 décembre 2019   inscription   12 au 13 décembre 2019   > centre international de congrès de tours   colloque polepharma bioproduction - 4éme ed.   inscription   événements precedents   adhérer à polepharma   espace adhérent   rechercher un adhérentun réseau performant,      un territoire cohérent   carte polepharma   job-box   archives newsletter   médiathèque   espace pressepolepharma en vidéo   iframe:   //   sablekb=0&fs=1&iv_load_policy=1&modestbranding=0&rel=0&showinfo=0&theme   =dark&vq=medium   tweets de @polepharma   polepharma   11 rue du cardinal pie   28000 chartres   tél. : +33 (0)2 37 20 99 90   mail : contact@polepharma.compartenaires territoires   centre val de loire région normandie agglo pays dreux evreux métropole   rouen normandie communauté seine et eure tours metropole eure et loir   chartrespartenaires officiels 2019   pharma dec caisse d\\'epargne altran biotech quality group   copyright © 2019 polepharma - mentions légales - politique de   confidentialité   en poursuivant votre navigation sur le site, vous acceptez   l\\'utilisation de cookies à des fins de mesure d\\'audience.   fermer   x   (button) ×   iframe:    #polepharma » flux polepharma » flux des commentaires 3ème colloque   polepharma rh : demandez le programme ! les jeudis de polepharma   alternate alternate   polepharma   polepharma \\ufeff recherche_________ submit   (button) toggle navigation   polepharma     * polepharma          + qui sommes-nous ?          + organigramme          + les chiffres clés          + un réseau     * territoires          + région centre-val de loire          + région normandie          + conseil départemental d’eure&loir          + chartres metropole          + metropole de rouen          + agglo du pays de dreux          + agglo evreux portes de normandie          + agglo seine&eure          + agglo de tours plus     * performance industrielle          + excellence opérationnelle          + maintenance          + packaging          + supply chain          + usine du futur     * talents     * relations publiques     * innovation          + biomédicaments          + fédérer          + collaborer          + promouvoir   adhérer à polepharma   espace adhérent   rechercher un adhérent   je découvre les métiers de la filière pharmaceutique   polepharma   médiathèque   espace presse   polepharma polepharma   \\ufeff recherche_________ submit   polepharma polepharma     * polepharma          + qui sommes-nous ?          + organigramme          + les chiffres clés          + un réseau     * territoires          + région centre-val de loire          + région normandie          + conseil départemental d’eure&loir          + chartres metropole          + metropole de rouen          + agglo du pays de dreux          + agglo evreux portes de normandie          + agglo seine&eure          + agglo de tours plus     * performance industrielle          + excellence opérationnelle          + maintenance          + packaging          + supply chain          + usine du futur     * talents     * relations publiques     * innovation          + biomédicaments          + fédérer          + collaborer          + promouvoira la rencontre des futurs pharmaciens industriels !   7 mars 2017   la 2api est la réunion annuelle de toutes les associations   industrielles en pharmacie. c’est un week-end de formation et   d’insertion professionnelle destiné aux étudiants souhaitant se   renseigner et s’orienter vers le monde de l’industrie pharmaceutique.   il concerne tous les étudiants de la 2^ème à la 6^ème  année des 24   facultés de pharmacie, soit 300 étudiants présents les 3 au 5 mars   2017.   l’anepi caen-rouen (association normande des etudiants en pharmacie   industrielle) a été élue pour organiser l’édition 2017, dont le thème a   été : «s’adapter au monde de demain, l’évolution de la pharmacie   industrielle»   polepharma a souhaité montrer la forte présence industrielle locale   ainsi que les nombreuses possibilités de recrutements sur son bassin   (centre- val de loire; normandie; ile-de-france)   une forte mobilisation de la part de la filière :     * participation d’une dizaine de professionnels pharmaciens lors du       dîner de gala,     * animation d’une conférence de présentation du territoire,     * conduite d’un atelier pour aider lors de recherches de stage et       d’emploi     * animation d’un stand polepharma au cœur des entreprises du bassin   une rencontre aussi intéressante pour les entreprises que pour les   étudiants ravis de rencontrer les professionnels et de pouvoir échanger   sur les spécificités d’orientation dans le secteur de l’industrie du   médicament.   voir la vidéo   job-box   archives newsletter   médiathèque   espace pressepolepharma en vidéo   iframe:   //   sablekb=0&fs=1&iv_load_policy=1&modestbranding=0&rel=0&showinfo=0&theme   =dark&vq=medium   tweets de @polepharma   polepharma   11 rue du cardinal pie   28000 chartres   tél. : +33 (0)2 37 20 99 90   mail : contact@polepharma.compartenaires territoires   centre val de loire région normandie agglo pays dreux evreux métropole   rouen normandie communauté seine et eure tours metropole eure et loir   chartrespartenaires officiels 2019   pharma dec caisse d\\'epargne altran biotech quality group   copyright © 2019 polepharma - mentions légales - politique de   confidentialité   en poursuivant votre navigation sur le site, vous acceptez   l\\'utilisation de cookies à des fins de mesure d\\'audience.   fermer   x   (button) ×   iframe:    #polepharma » flux polepharma » flux des commentaires alternate   alternate   polepharma   polepharma \\ufeff recherche_________ submit   (button) toggle navigation   polepharma     * polepharma          + qui sommes-nous ?          + organigramme          + les chiffres clés          + un réseau     * territoires          + région centre-val de loire          + région normandie          + conseil départemental d’eure&loir          + chartres metropole          + metropole de rouen          + agglo du pays de dreux          + agglo evreux portes de normandie          + agglo seine&eure          + agglo de tours plus     * performance industrielle          + excellence opérationnelle          + maintenance          + packaging          + supply chain          + usine du futur     * talents     * relations publiques     * innovation          + biomédicaments          + fédérer          + collaborer          + promouvoir   adhérer à polepharma   espace adhérent   rechercher un adhérent   je découvre les métiers de la filière pharmaceutique   polepharma   médiathèque   espace presse   polepharma polepharma   \\ufeff recherche_________ submit   polepharma polepharma     * polepharma          + qui sommes-nous ?          + organigramme          + les chiffres clés          + un réseau     * territoires          + région centre-val de loire          + région normandie          + conseil départemental d’eure&loir          + chartres metropole          + metropole de rouen          + agglo du pays de dreux          + agglo evreux portes de normandie          + agglo seine&eure          + agglo de tours plus     * performance industrielle          + excellence opérationnelle          + maintenance          + packaging          + supply chain          + usine du futur     * talents     * relations publiques     * innovation          + biomédicaments          + fédérer          + collaborer          + promouvoirfiche adhérent   page générée par le plugin polepharma. ne pas éditer   job-box   archives newsletter   médiathèque   espace pressepolepharma en vidéo   iframe:   //   sablekb=0&fs=1&iv_load_policy=1&modestbranding=0&rel=0&showinfo=0&theme   =dark&vq=medium   tweets de @polepharma   polepharma   11 rue du cardinal pie   28000 chartres   tél. : +33 (0)2 37 20 99 90   mail : contact@polepharma.compartenaires territoires   centre val de loire région normandie agglo pays dreux evreux métropole   rouen normandie communauté seine et eure tours metropole eure et loir   chartrespartenaires officiels 2019   pharma dec caisse d\\'epargne altran biotech quality group   copyright © 2019 polepharma - mentions légales - politique de   confidentialité   en poursuivant votre navigation sur le site, vous acceptez   l\\'utilisation de cookies à des fins de mesure d\\'audience.   fermer   x   (button) ×   iframe:    #polepharma » flux polepharma » flux des commentaires polepharma » flux   des articles écrits par gregory monaca   polepharma   polepharma \\ufeff recherche_________ submit   (button) toggle navigation   polepharma     * polepharma          + qui sommes-nous ?          + organigramme          + les chiffres clés          + un réseau     * territoires          + région centre-val de loire          + région normandie          + conseil départemental d’eure&loir          + chartres metropole          + metropole de rouen          + agglo du pays de dreux          + agglo evreux portes de normandie          + agglo seine&eure          + agglo de tours plus     * performance industrielle          + excellence opérationnelle          + maintenance          + packaging          + supply chain          + usine du futur     * talents     * relations publiques     * innovation          + biomédicaments          + fédérer          + collaborer          + promouvoir   adhérer à polepharma   espace adhérent   rechercher un adhérent   je découvre les métiers de la filière pharmaceutique   polepharma   médiathèque   espace presse   polepharma polepharma   \\ufeff recherche_________ submit   polepharma polepharma     * polepharma          + qui sommes-nous ?          + organigramme          + les chiffres clés          + un réseau     * territoires          + région centre-val de loire          + région normandie          + conseil départemental d’eure&loir          + chartres metropole          + metropole de rouen          + agglo du pays de dreux          + agglo evreux portes de normandie          + agglo seine&eure          + agglo de tours plus     * performance industrielle          + excellence opérationnelle          + maintenance          + packaging          + supply chain          + usine du futur     * talents     * relations publiques     * innovation          + biomédicaments          + fédérer          + collaborer          + promouvoirgregory monaca   rss feedgregory monaca\\'s latest posts   cynbiose respiratory, nouvelle société de services précliniques   spécialisée dans les maladies respiratoires et l’aérosolthérapie,   annonce le début des ses opérationscynbiose respiratory, nouvelle société de services précliniques spécialiséedans les maladies respiratoires et l’aérosolthérapie, annonce le début desses opérations   24 janvier 2018   cynbiose respiratory (tours, france) est une société de recherche   clinique hyperspécialisée créée sur la base des savoir-faire de ses   co-fondateurs : la société cynbiose (marcy l’étoile, france),   spécialisée dans les modèles précliniques innovants et le centre de   recherche scientifique pour les maladies respiratoires – inserm umr1100   (tours, france) qui contribue à la découverte et au […]   lire la suite   polepharma, le cluster français de production pharmaceutiquepolepharma, le cluster français de production pharmaceutique   16 mai 2014   la filière santé et le territoire ont réfléchi sur les points forts,   les arguments et les propositions qui seront portés au niveau des   décideurs nationaux. lors des derniers polepharma meetings, lieu de   rencontre, d’e?change et de construction communs a? l’ensemble des   acteurs de la chai?ne de sante?, polepharma a favorisé une prise de   conscience des grands enjeux […]   lire la suite   polepharma packagingpolepharma packaging   7 mai 2014   a l’initiative de ses adhe?rents, et en s’appuyant sur leur expertise,   polepharma a organisé « les rencontres du packaging pharmaceutique »   2e?me edition. qu’ils soient primaires ou secondaires, tous les   emballages contribuent a? leur niveau a? la mise a? disposition de   me?dicaments aupre?s de patients. soumis a? des re?glementations tre?s   strictes, ces emballages ne font […]   lire la suite   job-box   archives newsletter   médiathèque   espace pressepolepharma en vidéo   iframe:   //   sablekb=0&fs=1&iv_load_policy=1&modestbranding=0&rel=0&showinfo=0&theme   =dark&vq=medium   tweets de @polepharma   polepharma   11 rue du cardinal pie   28000 chartres   tél. : +33 (0)2 37 20 99 90   mail : contact@polepharma.compartenaires territoires   centre val de loire région normandie agglo pays dreux evreux métropole   rouen normandie communauté seine et eure tours metropole eure et loir   chartrespartenaires officiels 2019   pharma dec caisse d\\'epargne altran biotech quality group   copyright © 2019 polepharma - mentions légales - politique de   confidentialité   en poursuivant votre navigation sur le site, vous acceptez   l\\'utilisation de cookies à des fins de mesure d\\'audience.   fermer   x   (button) ×   iframe:    #polepharma » flux polepharma » flux des commentaires alternate   alternate   polepharma   polepharma \\ufeff recherche_________ submit   (button) toggle navigation   polepharma     * polepharma          + qui sommes-nous ?          + organigramme          + les chiffres clés          + un réseau     * territoires          + région centre-val de loire          + région normandie          + conseil départemental d’eure&loir          + chartres metropole          + metropole de rouen          + agglo du pays de dreux          + agglo evreux portes de normandie          + agglo seine&eure          + agglo de tours plus     * performance industrielle          + excellence opérationnelle          + maintenance          + packaging          + supply chain          + usine du futur     * talents     * relations publiques     * innovation          + biomédicaments          + fédérer          + collaborer          + promouvoir   adhérer à polepharma   espace adhérent   rechercher un adhérent   je découvre les métiers de la filière pharmaceutique   polepharma   médiathèque   espace presse   polepharma polepharma   \\ufeff recherche_________ submit   polepharma polepharma     * polepharma          + qui sommes-nous ?          + organigramme          + les chiffres clés          + un réseau     * territoires          + région centre-val de loire          + région normandie          + conseil départemental d’eure&loir          + chartres metropole          + metropole de rouen          + agglo du pays de dreux          + agglo evreux portes de normandie          + agglo seine&eure          + agglo de tours plus     * performance industrielle          + excellence opérationnelle          + maintenance          + packaging          + supply chain          + usine du futur     * talents     * relations publiques     * innovation          + biomédicaments          + fédérer          + collaborer          + promouvoir     * lancement d’un ami national pour l’émergence de projets       collaboratifs d’innovationlancement d’un ami national pour l’émergence de projets collaboratifsd’innovation       afin de répondre à la priorité « technologies de ruptures       en bioproduction (trbp) » identifiée dans le contrat de filière du       csf « industries et technologies de...       > lire la suite     * polepharma, partenaire du colloque international adebiotechpolepharma, partenaire du colloque international adebiotech       polepharma est partenaire du colloque international adebiotech «       advanced analytical technologies for proteins »  (aatp),  2-3       octobre 2019 à biocitech (romainville-grand paris) qui couvrira       les...       > lire la suite     * agro-bio lance son nouveau site internet !agro-bio lance son nouveau site internet !       agro-bio lance son nouveau site internet ! les nouveautés       principales de cette version 2019 sont : la mise en cohérence avec       notre nouvelle offre de prestations...       > lire la suite     * soirées 18/21 polepharma réseau : toutes les datessoirées 18/21 polepharma réseau : toutes les dates          le réseau s’enrichit   participer aux soirées 18/21 réseau       polepharma c’est : rencontrer les acteurs du développement et de la       production pharmaceutique développer et entretenir votre réseau...       > lire la suite     * save the date : congrès polepharma bioproduction – 12 & 13 décembre       2019save the date : congrès polepharma bioproduction – 12 & 13 décembre 2019       congrès polepharma bioproduction – 4ème édition les 12 &       13 décembre 2019 au palais des congrès de tours sous la présidence       de thierry ziegler, head of manufacturing de cellectis. dans un...       > lire la suite     * save the date : colloque polepharma industrie du futur – 28       novembre 2019save the date : colloque polepharma industrie du futur – 28 novembre 2019       colloque polepharma industrie du futur – 3ème édition le 28       novembre 2019 au kindarena de rouen sous la présidence de yann       gharfourzadeh, vice president sales & operation emea pharma du       groupe...       > lire la suite     * polepharma recrute !polepharma recrute !       portée par son dynamisme, l’équipe s’agrandit !  polepharma recrute       :   un chef de projet affaires pharmaceutiques           un chef de       projet innovations...       > lire la suite     * comprendre en 1mn50 les métiers de la production pharmaceutiquecomprendre en 1mn50 les métiers de la production pharmaceutique       lancer la vidéo vous recherchez un emploi ? avez-vous pensé aux       métiers de la production de l’industrie pharmaceutique ? la france       est l’un des premiers producteurs européens...       > lire la suite     * comprendre les biomédicaments en 2 minutes, c’est possible !comprendre les biomédicaments en 2 minutes, c’est possible !       les biomédicaments en vidéo cliquez ici...       > lire la suiteinscriptionaux événements   12 au 13 décembre 2019   > centre international de congrès de tours   colloque polepharma bioproduction - 4éme ed.   inscription   10 décembre 2019   > oril   workshop 2 digitalisation et culture qualité / 10 décembre 2019   inscription   03 décembre 2019   > sanofi   séminaire spécial inspections   inscription   28 novembre 2019   > kindarena   colloque polepharma industrie du futur - 3ème edition   inscription   19 au 20 novembre 2019   > centre international de congrès de tours   tips 2019   inscription   31 octobre 2019   > hotel de région normandie rouen   les assises polepharma de l\\'innovation en normandie 2nd edition   inscription   23 octobre 2019   > golf du bois d\\'o   soirée polepharma réseau - dreux (28)   inscription   17 octobre 2019   > uimm   workshop 1 digitalisation et culture qualité / 17 octobre 2019   inscription   10 octobre 2019   > evreux   rencontres polepharma de l\\'amélioration continue - 3e édition   inscription   25 septembre 2019   > le paganica   soirée polepharma réseau - evreux (27)   inscription   04 juillet 2019   > dreux - (28)   la fabrh polepharma #1   inscription   28 juin 2019   > golf parc robert hersant   polepharma business tour   inscription   26 juin 2019   > golf de caen la mer,   soirée polepharma réseau - caen (14)   inscription   23 mai 2019   > golf du bois d\\'o   soirée polepharma réseau - dreux (28)   inscription   16 mai 2019   > château royal de blois   assemblée générale polepharma 2019   inscription   14 mai 2019   > hôtel national des invalides   colloque souveraineté medicaments & api   inscription   14 mai 2019   >   tec\\'lab: realité virtuelle appliquée   inscription   09 au 10 avril 2019   > ufr sante rouen   les journées polepharma de microbiomique   inscription   28 mars 2019   > synchrotron soleil   soirée polepharma réseau - paris saclay (91)   inscription   07 mars 2019   > novotel rouen sud   mat\\'inno polepharma \"développer son business à l\\'international\"   inscription   05 mars au 23 avril 2019   > le hangar   9ème afterwork biomédicament   inscription   28 février 2019   > golf de léry-poses   soirée polepharma réseau - louviers (27)   inscription   07 février 2019   > cotton club   atelier propriété industrielle / 07 fev 2019   inscription   07 février 2019   > cotton club   atelier propriété industrielle - 7 février 2019   inscription   04 février 2019   > delpharm evreux   invitation : visite delpharm evreux   inscription   02 février 2019   > caen   phinder de la pharma : forum national des facultés de pharmacie   inscription   31 janvier 2019   > golf de chartres fontenay   soirée polepharma réseau - chartres (28)   inscription   15 janvier 2019   > novotel rouen sud   les mat\\'inno polepharma \"financement européen des projets r&d\"   inscription   20 décembre 2018   > centre international de congrès de tours   colloque polepharma bioproduction - 3éme ed.   inscription   12 décembre 2018   > le paganica   soirée polepharma réseau - evreux (27)   inscription   04 décembre 2018   > la filature   rencontres polepharma amélioration continue – 2e édition   inscription   29 novembre 2018   > hôtel dupanloup   8ème afterwork biomédicaments   inscription   22 novembre 2018   > cotton club   atelier polepharma propriété industrielle   inscription   15 novembre 2018   > cenexis hsc   soirée réseau 18/21 polepharma & nucleopolis - caen   inscription   08 novembre 2018   > centre de congrès d\\'orléans   colloque polepharma industrie du futur - 2e edition   inscriptioninscriptionaux événements   10 octobre 2019   > evreux   rencontres polepharma de l\\'amélioration continue - 3e édition   inscription   17 octobre 2019   > uimm   workshop 1 digitalisation et culture qualité / 17 octobre 2019   inscription   23 octobre 2019   > golf du bois d\\'o   soirée polepharma réseau - dreux (28)   inscription   31 octobre 2019   > hotel de région normandie rouen   les assises polepharma de l\\'innovation en normandie 2nd edition   inscription   19 au 20 novembre 2019   > centre international de congrès de tours   tips 2019   inscription   28 novembre 2019   > kindarena   colloque polepharma industrie du futur - 3ème edition   inscription   03 décembre 2019   > sanofi   séminaire spécial inspections   inscription   10 décembre 2019   > oril   workshop 2 digitalisation et culture qualité / 10 décembre 2019   inscription   12 au 13 décembre 2019   > centre international de congrès de tours   colloque polepharma bioproduction - 4éme ed.   inscription   événements precedents   adhérer à polepharma   espace adhérent   rechercher un adhérentun réseau performant,      un territoire cohérent   carte polepharma   job-box   archives newsletter   médiathèque   espace pressepolepharma en vidéo   iframe:   //   sablekb=0&fs=1&iv_load_policy=1&modestbranding=0&rel=0&showinfo=0&theme   =dark&vq=medium   tweets de @polepharma   polepharma   11 rue du cardinal pie   28000 chartres   tél. : +33 (0)2 37 20 99 90   mail : contact@polepharma.compartenaires territoires   centre val de loire région normandie agglo pays dreux evreux métropole   rouen normandie communauté seine et eure tours metropole eure et loir   chartrespartenaires officiels 2019   pharma dec caisse d\\'epargne altran biotech quality group   copyright © 2019 polepharma - mentions légales - politique de   confidentialité   en poursuivant votre navigation sur le site, vous acceptez   l\\'utilisation de cookies à des fins de mesure d\\'audience.   fermer   x   (button) ×   iframe:    #polepharma » flux polepharma » flux des commentaires 3ème colloque   polepharma rh : demandez le programme ! les jeudis de polepharma   alternate alternate   polepharma   polepharma \\ufeff recherche_________ submit   (button) toggle navigation   polepharma     * polepharma          + qui sommes-nous ?          + organigramme          + les chiffres clés          + un réseau     * territoires          + région centre-val de loire          + région normandie          + conseil départemental d’eure&loir          + chartres metropole          + metropole de rouen          + agglo du pays de dreux          + agglo evreux portes de normandie          + agglo seine&eure          + agglo de tours plus     * performance industrielle          + excellence opérationnelle          + maintenance          + packaging          + supply chain          + usine du futur     * talents     * relations publiques     * innovation          + biomédicaments          + fédérer          + collaborer          + promouvoir   adhérer à polepharma   espace adhérent   rechercher un adhérent   je découvre les métiers de la filière pharmaceutique   polepharma   médiathèque   espace presse   polepharma polepharma   \\ufeff recherche_________ submit   polepharma polepharma     * polepharma          + qui sommes-nous ?          + organigramme          + les chiffres clés          + un réseau     * territoires          + région centre-val de loire          + région normandie          + conseil départemental d’eure&loir          + chartres metropole          + metropole de rouen          + agglo du pays de dreux          + agglo evreux portes de normandie          + agglo seine&eure          + agglo de tours plus     * performance industrielle          + excellence opérationnelle          + maintenance          + packaging          + supply chain          + usine du futur     * talents     * relations publiques     * innovation          + biomédicaments          + fédérer          + collaborer          + promouvoira la rencontre des futurs pharmaciens industriels !   7 mars 2017   la 2api est la réunion annuelle de toutes les associations   industrielles en pharmacie. c’est un week-end de formation et   d’insertion professionnelle destiné aux étudiants souhaitant se   renseigner et s’orienter vers le monde de l’industrie pharmaceutique.   il concerne tous les étudiants de la 2^ème à la 6^ème  année des 24   facultés de pharmacie, soit 300 étudiants présents les 3 au 5 mars   2017.   l’anepi caen-rouen (association normande des etudiants en pharmacie   industrielle) a été élue pour organiser l’édition 2017, dont le thème a   été : «s’adapter au monde de demain, l’évolution de la pharmacie   industrielle»   polepharma a souhaité montrer la forte présence industrielle locale   ainsi que les nombreuses possibilités de recrutements sur son bassin   (centre- val de loire; normandie; ile-de-france)   une forte mobilisation de la part de la filière :     * participation d’une dizaine de professionnels pharmaciens lors du       dîner de gala,     * animation d’une conférence de présentation du territoire,     * conduite d’un atelier pour aider lors de recherches de stage et       d’emploi     * animation d’un stand polepharma au cœur des entreprises du bassin   une rencontre aussi intéressante pour les entreprises que pour les   étudiants ravis de rencontrer les professionnels et de pouvoir échanger   sur les spécificités d’orientation dans le secteur de l’industrie du   médicament.   voir la vidéo   job-box   archives newsletter   médiathèque   espace pressepolepharma en vidéo   iframe:   //   sablekb=0&fs=1&iv_load_policy=1&modestbranding=0&rel=0&showinfo=0&theme   =dark&vq=medium   tweets de @polepharma   polepharma   11 rue du cardinal pie   28000 chartres   tél. : +33 (0)2 37 20 99 90   mail : contact@polepharma.compartenaires territoires   centre val de loire région normandie agglo pays dreux evreux métropole   rouen normandie communauté seine et eure tours metropole eure et loir   chartrespartenaires officiels 2019   pharma dec caisse d\\'epargne altran biotech quality group   copyright © 2019 polepharma - mentions légales - politique de   confidentialité   en poursuivant votre navigation sur le site, vous acceptez   l\\'utilisation de cookies à des fins de mesure d\\'audience.   fermer   x   (button) ×   iframe:    #polepharma » flux polepharma » flux des commentaires alternate   alternate   polepharma   polepharma \\ufeff recherche_________ submit   (button) toggle navigation   polepharma     * polepharma          + qui sommes-nous ?          + organigramme          + les chiffres clés          + un réseau     * territoires          + région centre-val de loire          + région normandie          + conseil départemental d’eure&loir          + chartres metropole          + metropole de rouen          + agglo du pays de dreux          + agglo evreux portes de normandie          + agglo seine&eure          + agglo de tours plus     * performance industrielle          + excellence opérationnelle          + maintenance          + packaging          + supply chain          + usine du futur     * talents     * relations publiques     * innovation          + biomédicaments          + fédérer          + collaborer          + promouvoir   adhérer à polepharma   espace adhérent   rechercher un adhérent   je découvre les métiers de la filière pharmaceutique   polepharma   médiathèque   espace presse   polepharma polepharma   \\ufeff recherche_________ submit   polepharma polepharma     * polepharma          + qui sommes-nous ?          + organigramme          + les chiffres clés          + un réseau     * territoires          + région centre-val de loire          + région normandie          + conseil départemental d’eure&loir          + chartres metropole          + metropole de rouen          + agglo du pays de dreux          + agglo evreux portes de normandie          + agglo seine&eure          + agglo de tours plus     * performance industrielle          + excellence opérationnelle          + maintenance          + packaging          + supply chain          + usine du futur     * talents     * relations publiques     * innovation          + biomédicaments          + fédérer          + collaborer          + promouvoirfiche adhérent   page générée par le plugin polepharma. ne pas éditer   job-box   archives newsletter   médiathèque   espace pressepolepharma en vidéo   iframe:   //   sablekb=0&fs=1&iv_load_policy=1&modestbranding=0&rel=0&showinfo=0&theme   =dark&vq=medium   tweets de @polepharma   polepharma   11 rue du cardinal pie   28000 chartres   tél. : +33 (0)2 37 20 99 90   mail : contact@polepharma.compartenaires territoires   centre val de loire région normandie agglo pays dreux evreux métropole   rouen normandie communauté seine et eure tours metropole eure et loir   chartrespartenaires officiels 2019   pharma dec caisse d\\'epargne altran biotech quality group   copyright © 2019 polepharma - mentions légales - politique de   confidentialité   en poursuivant votre navigation sur le site, vous acceptez   l\\'utilisation de cookies à des fins de mesure d\\'audience.   fermer   x   (button) ×   iframe:    #polepharma » flux polepharma » flux des commentaires polepharma » flux   des articles écrits par gregory monaca   polepharma   polepharma \\ufeff recherche_________ submit   (button) toggle navigation   polepharma     * polepharma          + qui sommes-nous ?          + organigramme          + les chiffres clés          + un réseau     * territoires          + région centre-val de loire          + région normandie          + conseil départemental d’eure&loir          + chartres metropole          + metropole de rouen          + agglo du pays de dreux          + agglo evreux portes de normandie          + agglo seine&eure          + agglo de tours plus     * performance industrielle          + excellence opérationnelle          + maintenance          + packaging          + supply chain          + usine du futur     * talents     * relations publiques     * innovation          + biomédicaments          + fédérer          + collaborer          + promouvoir   adhérer à polepharma   espace adhérent   rechercher un adhérent   je découvre les métiers de la filière pharmaceutique   polepharma   médiathèque   espace presse   polepharma polepharma   \\ufeff recherche_________ submit   polepharma polepharma     * polepharma          + qui sommes-nous ?          + organigramme          + les chiffres clés          + un réseau     * territoires          + région centre-val de loire          + région normandie          + conseil départemental d’eure&loir          + chartres metropole          + metropole de rouen          + agglo du pays de dreux          + agglo evreux portes de normandie          + agglo seine&eure          + agglo de tours plus     * performance industrielle          + excellence opérationnelle          + maintenance          + packaging          + supply chain          + usine du futur     * talents     * relations publiques     * innovation          + biomédicaments          + fédérer          + collaborer          + promouvoirgregory monaca   rss feedgregory monaca\\'s latest posts   cynbiose respiratory, nouvelle société de services précliniques   spécialisée dans les maladies respiratoires et l’aérosolthérapie,   annonce le début des ses opérationscynbiose respiratory, nouvelle société de services précliniques spécialiséedans les maladies respiratoires et l’aérosolthérapie, annonce le début desses opérations   24 janvier 2018   cynbiose respiratory (tours, france) est une société de recherche   clinique hyperspécialisée créée sur la base des savoir-faire de ses   co-fondateurs : la société cynbiose (marcy l’étoile, france),   spécialisée dans les modèles précliniques innovants et le centre de   recherche scientifique pour les maladies respiratoires – inserm umr1100   (tours, france) qui contribue à la découverte et au […]   lire la suite   polepharma, le cluster français de production pharmaceutiquepolepharma, le cluster français de production pharmaceutique   16 mai 2014   la filière santé et le territoire ont réfléchi sur les points forts,   les arguments et les propositions qui seront portés au niveau des   décideurs nationaux. lors des derniers polepharma meetings, lieu de   rencontre, d’e?change et de construction communs a? l’ensemble des   acteurs de la chai?ne de sante?, polepharma a favorisé une prise de   conscience des grands enjeux […]   lire la suite   polepharma packagingpolepharma packaging   7 mai 2014   a l’initiative de ses adhe?rents, et en s’appuyant sur leur expertise,   polepharma a organisé « les rencontres du packaging pharmaceutique »   2e?me edition. qu’ils soient primaires ou secondaires, tous les   emballages contribuent a? leur niveau a? la mise a? disposition de   me?dicaments aupre?s de patients. soumis a? des re?glementations tre?s   strictes, ces emballages ne font […]   lire la suite   job-box   archives newsletter   médiathèque   espace pressepolepharma en vidéo   iframe:   //   sablekb=0&fs=1&iv_load_policy=1&modestbranding=0&rel=0&showinfo=0&theme   =dark&vq=medium   tweets de @polepharma   polepharma   11 rue du cardinal pie   28000 chartres   tél. : +33 (0)2 37 20 99 90   mail : contact@polepharma.compartenaires territoires   centre val de loire région normandie agglo pays dreux evreux métropole   rouen normandie communauté seine et eure tours metropole eure et loir   chartrespartenaires officiels 2019   pharma dec caisse d\\'epargne altran biotech quality group   copyright © 2019 polepharma - mentions légales - politique de   confidentialité   en poursuivant votre navigation sur le site, vous acceptez   l\\'utilisation de cookies à des fins de mesure d\\'audience.   fermer   x   (button) ×   iframe: '"
      ]
     },
     "execution_count": 76,
     "metadata": {},
     "output_type": "execute_result"
    }
   ],
   "source": [
    "data_train[\"text\"]['9032']"
   ]
  },
  {
   "cell_type": "code",
   "execution_count": 84,
   "metadata": {},
   "outputs": [],
   "source": [
    "def clean(x):\n",
    "    # Lowercasing all words\n",
    "    x = x.lower()\n",
    "    # Removing non ASCII chars\n",
    "    #x = re.sub(r'[^\\x00-\\x7f]',r' ',x)\n",
    "    x = re.sub(r'ô','o',x)\n",
    "    x = re.sub(r'[éêè]','e',x)\n",
    "    x = re.sub(r'([^a-zéèûôàêô])',' ',x)\n",
    "    x = re.sub('\\n', '',x)\n",
    "    x = re.sub(\"(\\s+.\\s+)\", ' ', x)#remove any single charecters hanging between 2 spaces\n",
    "\n",
    "    # Removing (replacing with empty spaces actually) all the punctuations\n",
    "    return re.sub(\"[\"+string.punctuation+\"]\", \" \", x)"
   ]
  },
  {
   "cell_type": "code",
   "execution_count": 85,
   "metadata": {},
   "outputs": [],
   "source": [
    "data_train[\"text\"] = data_train[\"text\"].map(clean)"
   ]
  },
  {
   "cell_type": "code",
   "execution_count": 86,
   "metadata": {},
   "outputs": [],
   "source": [
    "#Removing stopwords \n",
    "from nltk.corpus import stopwords\n",
    "import numpy as np\n",
    "import pickle\n",
    "\n",
    "stops = set(stopwords.words('french'))\n",
    "def removeStopwords(x):\n",
    "    # Removing all the stopwords\n",
    "    filtered_words = [word for word in x.split() if word not in stops]\n",
    "    return \" \".join(filtered_words)\n",
    "\n",
    "def removedigits(x):\n",
    "    remove_digits = str.maketrans('', '', digits)\n",
    "    res = x.translate(remove_digits)\n",
    "    return res"
   ]
  },
  {
   "cell_type": "code",
   "execution_count": 87,
   "metadata": {},
   "outputs": [],
   "source": [
    "data_train[\"text\"] = data_train[\"text\"].map(removeStopwords)\n",
    "data_train[\"text\"] = data_train[\"text\"].map(removedigits)"
   ]
  },
  {
   "cell_type": "code",
   "execution_count": 88,
   "metadata": {},
   "outputs": [
    {
     "data": {
      "text/plain": [
       "'polepharma flux polepharma flux commentaires alternate alternate polepharma polepharma recherche submit button toggle navigation polepharma polepharma organigramme chiffres cles reseau territoires region centre val loire region normandie conseil departemental eure loir chartres metropole metropole rouen agglo pays dreux agglo evreux portes normandie agglo seine eure agglo tours plus performance industrielle excellence operationnelle maintenance packaging supply chain usine futur talents relations publiques innovation biomedicaments federer collaborer promouvoir adherer polepharma espace adherent rechercher adherent decouvre metiers filiere pharmaceutique polepharma mediatheque espace presse polepharma polepharma recherche submit polepharma polepharma polepharma organigramme chiffres cles reseau territoires region centre val loire region normandie conseil departemental eure loir chartres metropole metropole rouen agglo pays dreux agglo evreux portes normandie agglo seine eure agglo tours plus performance industrielle excellence operationnelle maintenance packaging supply chain usine futur talents relations publiques innovation biomedicaments federer collaborer promouvoir lancement ami national emergence projets collaboratifs innovationlancement ami national emergence projets collaboratifsd innovation afin repondre priorite technologies ruptures bioproduction trbp identifiee contrat filiere csf industries technologies lire suite polepharma partenaire colloque international adebiotechpolepharma partenaire colloque international adebiotech polepharma partenaire colloque international adebiotech advanced analytical technologies for proteins aatp octobre biocitech romainville grand paris couvrira lire suite agro bio lance nouveau site internet agro bio lance nouveau site internet agro bio lance nouveau site internet nouveautes principales cette version mise coherence nouvelle offre prestations lire suite soirees polepharma reseau toutes datessoirees polepharma reseau toutes dates reseau enrichit participer soirees reseau polepharma rencontrer acteurs developpement production pharmaceutique developper entretenir reseau lire suite save the date congres polepharma bioproduction decembre save the date congres polepharma bioproduction decembre congres polepharma bioproduction eme edition decembre palais congres tours sous presidence thierry ziegler head of manufacturing cellectis lire suite save the date colloque polepharma industrie futur novembre save the date colloque polepharma industrie futur novembre colloque polepharma industrie futur eme edition novembre kindarena rouen sous presidence yann gharfourzadeh vice president sales operation emea pharma groupe lire suite polepharma recrute polepharma recrute portee dynamisme equipe agrandit polepharma recrute chef projet affaires pharmaceutiques chef projet innovations lire suite comprendre mn metiers production pharmaceutiquecomprendre mn metiers production pharmaceutique lancer video recherchez emploi pense metiers production industrie pharmaceutique france premiers producteurs europeens lire suite comprendre biomedicaments minutes possible comprendre biomedicaments minutes possible biomedicaments video cliquez ici lire suiteinscriptionaux evenements decembre centre international congres tours colloque polepharma bioproduction eme ed inscription decembre oril workshop digitalisation culture qualite decembre inscription decembre sanofi seminaire special inspections inscription novembre kindarena colloque polepharma industrie futur eme edition inscription novembre centre international congres tours tips inscription octobre hotel region normandie rouen assises polepharma innovation normandie nd edition inscription octobre golf bois soiree polepharma reseau dreux inscription octobre uimm workshop digitalisation culture qualite octobre inscription octobre evreux rencontres polepharma amelioration continue edition inscription septembre paganica soiree polepharma reseau evreux inscription juillet dreux fabrh polepharma inscription juin golf parc robert hersant polepharma business tour inscription juin golf caen mer soiree polepharma reseau caen inscription mai golf bois soiree polepharma reseau dreux inscription mai ch teau royal blois assemblee generale polepharma inscription mai hotel national invalides colloque souverainete medicaments api inscription mai tec lab realite virtuelle appliquee inscription avril ufr sante rouen journees polepharma microbiomique inscription mars synchrotron soleil soiree polepharma reseau paris saclay inscription mars novotel rouen sud mat inno polepharma developper business international inscription mars avril hangar eme afterwork biomedicament inscription fevrier golf lery poses soiree polepharma reseau louviers inscription fevrier cotton club atelier propriete industrielle fev inscription fevrier cotton club atelier propriete industrielle fevrier inscription fevrier delpharm evreux invitation visite delpharm evreux inscription fevrier caen phinder pharma forum national facultes pharmacie inscription janvier golf chartres fontenay soiree polepharma reseau chartres inscription janvier novotel rouen sud mat inno polepharma financement europeen projets inscription decembre centre international congres tours colloque polepharma bioproduction eme ed inscription decembre paganica soiree polepharma reseau evreux inscription decembre filature rencontres polepharma amelioration continue edition inscription novembre hotel dupanloup eme afterwork biomedicaments inscription novembre cotton club atelier polepharma propriete industrielle inscription novembre cenexis hsc soiree reseau polepharma nucleopolis caen inscription novembre centre congres orleans colloque polepharma industrie futur edition inscriptioninscriptionaux evenements octobre evreux rencontres polepharma amelioration continue edition inscription octobre uimm workshop digitalisation culture qualite octobre inscription octobre golf bois soiree polepharma reseau dreux inscription octobre hotel region normandie rouen assises polepharma innovation normandie nd edition inscription novembre centre international congres tours tips inscription novembre kindarena colloque polepharma industrie futur eme edition inscription decembre sanofi seminaire special inspections inscription decembre oril workshop digitalisation culture qualite decembre inscription decembre centre international congres tours colloque polepharma bioproduction eme ed inscription evenements precedents adherer polepharma espace adherent rechercher adherentun reseau performant territoire coherent carte polepharma job box archives newsletter mediatheque espace pressepolepharma video iframe sablekb fs iv load policy modestbranding rel showinfo theme dark vq medium tweets polepharma polepharma rue cardinal pie chartres tel mail contact polepharma compartenaires territoires centre val loire region normandie agglo pays dreux evreux metropole rouen normandie communaute seine eure tours metropole eure loir chartrespartenaires officiels pharma dec caisse epargne altran biotech quality group copyright polepharma mentions legales politique confidentialite poursuivant navigation site acceptez utilisation cookies fins mesure audience fermer button iframe polepharma flux polepharma flux commentaires eme colloque polepharma rh demandez programme jeudis polepharma alternate alternate polepharma polepharma recherche submit button toggle navigation polepharma polepharma organigramme chiffres cles reseau territoires region centre val loire region normandie conseil departemental eure loir chartres metropole metropole rouen agglo pays dreux agglo evreux portes normandie agglo seine eure agglo tours plus performance industrielle excellence operationnelle maintenance packaging supply chain usine futur talents relations publiques innovation biomedicaments federer collaborer promouvoir adherer polepharma espace adherent rechercher adherent decouvre metiers filiere pharmaceutique polepharma mediatheque espace presse polepharma polepharma recherche submit polepharma polepharma polepharma organigramme chiffres cles reseau territoires region centre val loire region normandie conseil departemental eure loir chartres metropole metropole rouen agglo pays dreux agglo evreux portes normandie agglo seine eure agglo tours plus performance industrielle excellence operationnelle maintenance packaging supply chain usine futur talents relations publiques innovation biomedicaments federer collaborer promouvoira rencontre futurs pharmaciens industriels mars api reunion annuelle toutes associations industrielles pharmacie week end formation insertion professionnelle destine etudiants souhaitant renseigner orienter vers monde industrie pharmaceutique concerne tous etudiants eme eme annee facultes pharmacie etudiants presents mars anepi caen rouen association normande etudiants pharmacie industrielle ete elue organiser edition dont theme ete adapter monde demain evolution pharmacie industrielle polepharma souhaite montrer forte presence industrielle locale ainsi nombreuses possibilites recrutements bassin centre val loire normandie ile france forte mobilisation part filiere participation dizaine professionnels pharmaciens lors ner gala animation conference presentation territoire conduite atelier aider lors recherches stage emploi animation stand polepharma ur entreprises bassin rencontre aussi interessante entreprises etudiants ravis rencontrer professionnels pouvoir echanger specificites orientation secteur industrie medicament voir video job box archives newsletter mediatheque espace pressepolepharma video iframe sablekb fs iv load policy modestbranding rel showinfo theme dark vq medium tweets polepharma polepharma rue cardinal pie chartres tel mail contact polepharma compartenaires territoires centre val loire region normandie agglo pays dreux evreux metropole rouen normandie communaute seine eure tours metropole eure loir chartrespartenaires officiels pharma dec caisse epargne altran biotech quality group copyright polepharma mentions legales politique confidentialite poursuivant navigation site acceptez utilisation cookies fins mesure audience fermer button iframe polepharma flux polepharma flux commentaires alternate alternate polepharma polepharma recherche submit button toggle navigation polepharma polepharma organigramme chiffres cles reseau territoires region centre val loire region normandie conseil departemental eure loir chartres metropole metropole rouen agglo pays dreux agglo evreux portes normandie agglo seine eure agglo tours plus performance industrielle excellence operationnelle maintenance packaging supply chain usine futur talents relations publiques innovation biomedicaments federer collaborer promouvoir adherer polepharma espace adherent rechercher adherent decouvre metiers filiere pharmaceutique polepharma mediatheque espace presse polepharma polepharma recherche submit polepharma polepharma polepharma organigramme chiffres cles reseau territoires region centre val loire region normandie conseil departemental eure loir chartres metropole metropole rouen agglo pays dreux agglo evreux portes normandie agglo seine eure agglo tours plus performance industrielle excellence operationnelle maintenance packaging supply chain usine futur talents relations publiques innovation biomedicaments federer collaborer promouvoirfiche adherent page generee plugin polepharma editer job box archives newsletter mediatheque espace pressepolepharma video iframe sablekb fs iv load policy modestbranding rel showinfo theme dark vq medium tweets polepharma polepharma rue cardinal pie chartres tel mail contact polepharma compartenaires territoires centre val loire region normandie agglo pays dreux evreux metropole rouen normandie communaute seine eure tours metropole eure loir chartrespartenaires officiels pharma dec caisse epargne altran biotech quality group copyright polepharma mentions legales politique confidentialite poursuivant navigation site acceptez utilisation cookies fins mesure audience fermer button iframe polepharma flux polepharma flux commentaires polepharma flux articles ecrits gregory monaca polepharma polepharma recherche submit button toggle navigation polepharma polepharma organigramme chiffres cles reseau territoires region centre val loire region normandie conseil departemental eure loir chartres metropole metropole rouen agglo pays dreux agglo evreux portes normandie agglo seine eure agglo tours plus performance industrielle excellence operationnelle maintenance packaging supply chain usine futur talents relations publiques innovation biomedicaments federer collaborer promouvoir adherer polepharma espace adherent rechercher adherent decouvre metiers filiere pharmaceutique polepharma mediatheque espace presse polepharma polepharma recherche submit polepharma polepharma polepharma organigramme chiffres cles reseau territoires region centre val loire region normandie conseil departemental eure loir chartres metropole metropole rouen agglo pays dreux agglo evreux portes normandie agglo seine eure agglo tours plus performance industrielle excellence operationnelle maintenance packaging supply chain usine futur talents relations publiques innovation biomedicaments federer collaborer promouvoirgregory monaca rss feedgregory monaca latest posts cynbiose respiratory nouvelle societe services precliniques specialisee maladies respiratoires aerosoltherapie annonce debut operationscynbiose respiratory nouvelle societe services precliniques specialiseedans maladies respiratoires aerosoltherapie annonce debut desses operations janvier cynbiose respiratory tours france societe recherche clinique hyperspecialisee creee base savoir faire co fondateurs societe cynbiose marcy etoile france specialisee modeles precliniques innovants centre recherche scientifique maladies respiratoires inserm umr tours france contribue decouverte lire suite polepharma cluster fran ais production pharmaceutiquepolepharma cluster fran ais production pharmaceutique mai filiere sante territoire reflechi points forts arguments propositions portes niveau decideurs nationaux lors derniers polepharma meetings lieu rencontre change construction communs ensemble acteurs chai sante polepharma favorise prise conscience grands enjeux lire suite polepharma packagingpolepharma packaging mai initiative adhe rents appuyant expertise polepharma organise rencontres packaging pharmaceutique edition primaires secondaires tous emballages contribuent niveau mise disposition dicaments aupre patients soumis re glementations tre strictes emballages font lire suite job box archives newsletter mediatheque espace pressepolepharma video iframe sablekb fs iv load policy modestbranding rel showinfo theme dark vq medium tweets polepharma polepharma rue cardinal pie chartres tel mail contact polepharma compartenaires territoires centre val loire region normandie agglo pays dreux evreux metropole rouen normandie communaute seine eure tours metropole eure loir chartrespartenaires officiels pharma dec caisse epargne altran biotech quality group copyright polepharma mentions legales politique confidentialite poursuivant navigation site acceptez utilisation cookies fins mesure audience fermer button iframe polepharma flux polepharma flux commentaires alternate alternate polepharma polepharma recherche submit button toggle navigation polepharma polepharma organigramme chiffres cles reseau territoires region centre val loire region normandie conseil departemental eure loir chartres metropole metropole rouen agglo pays dreux agglo evreux portes normandie agglo seine eure agglo tours plus performance industrielle excellence operationnelle maintenance packaging supply chain usine futur talents relations publiques innovation biomedicaments federer collaborer promouvoir adherer polepharma espace adherent rechercher adherent decouvre metiers filiere pharmaceutique polepharma mediatheque espace presse polepharma polepharma recherche submit polepharma polepharma polepharma organigramme chiffres cles reseau territoires region centre val loire region normandie conseil departemental eure loir chartres metropole metropole rouen agglo pays dreux agglo evreux portes normandie agglo seine eure agglo tours plus performance industrielle excellence operationnelle maintenance packaging supply chain usine futur talents relations publiques innovation biomedicaments federer collaborer promouvoir lancement ami national emergence projets collaboratifs innovationlancement ami national emergence projets collaboratifsd innovation afin repondre priorite technologies ruptures bioproduction trbp identifiee contrat filiere csf industries technologies lire suite polepharma partenaire colloque international adebiotechpolepharma partenaire colloque international adebiotech polepharma partenaire colloque international adebiotech advanced analytical technologies for proteins aatp octobre biocitech romainville grand paris couvrira lire suite agro bio lance nouveau site internet agro bio lance nouveau site internet agro bio lance nouveau site internet nouveautes principales cette version mise coherence nouvelle offre prestations lire suite soirees polepharma reseau toutes datessoirees polepharma reseau toutes dates reseau enrichit participer soirees reseau polepharma rencontrer acteurs developpement production pharmaceutique developper entretenir reseau lire suite save the date congres polepharma bioproduction decembre save the date congres polepharma bioproduction decembre congres polepharma bioproduction eme edition decembre palais congres tours sous presidence thierry ziegler head of manufacturing cellectis lire suite save the date colloque polepharma industrie futur novembre save the date colloque polepharma industrie futur novembre colloque polepharma industrie futur eme edition novembre kindarena rouen sous presidence yann gharfourzadeh vice president sales operation emea pharma groupe lire suite polepharma recrute polepharma recrute portee dynamisme equipe agrandit polepharma recrute chef projet affaires pharmaceutiques chef projet innovations lire suite comprendre mn metiers production pharmaceutiquecomprendre mn metiers production pharmaceutique lancer video recherchez emploi pense metiers production industrie pharmaceutique france premiers producteurs europeens lire suite comprendre biomedicaments minutes possible comprendre biomedicaments minutes possible biomedicaments video cliquez ici lire suiteinscriptionaux evenements decembre centre international congres tours colloque polepharma bioproduction eme ed inscription decembre oril workshop digitalisation culture qualite decembre inscription decembre sanofi seminaire special inspections inscription novembre kindarena colloque polepharma industrie futur eme edition inscription novembre centre international congres tours tips inscription octobre hotel region normandie rouen assises polepharma innovation normandie nd edition inscription octobre golf bois soiree polepharma reseau dreux inscription octobre uimm workshop digitalisation culture qualite octobre inscription octobre evreux rencontres polepharma amelioration continue edition inscription septembre paganica soiree polepharma reseau evreux inscription juillet dreux fabrh polepharma inscription juin golf parc robert hersant polepharma business tour inscription juin golf caen mer soiree polepharma reseau caen inscription mai golf bois soiree polepharma reseau dreux inscription mai ch teau royal blois assemblee generale polepharma inscription mai hotel national invalides colloque souverainete medicaments api inscription mai tec lab realite virtuelle appliquee inscription avril ufr sante rouen journees polepharma microbiomique inscription mars synchrotron soleil soiree polepharma reseau paris saclay inscription mars novotel rouen sud mat inno polepharma developper business international inscription mars avril hangar eme afterwork biomedicament inscription fevrier golf lery poses soiree polepharma reseau louviers inscription fevrier cotton club atelier propriete industrielle fev inscription fevrier cotton club atelier propriete industrielle fevrier inscription fevrier delpharm evreux invitation visite delpharm evreux inscription fevrier caen phinder pharma forum national facultes pharmacie inscription janvier golf chartres fontenay soiree polepharma reseau chartres inscription janvier novotel rouen sud mat inno polepharma financement europeen projets inscription decembre centre international congres tours colloque polepharma bioproduction eme ed inscription decembre paganica soiree polepharma reseau evreux inscription decembre filature rencontres polepharma amelioration continue edition inscription novembre hotel dupanloup eme afterwork biomedicaments inscription novembre cotton club atelier polepharma propriete industrielle inscription novembre cenexis hsc soiree reseau polepharma nucleopolis caen inscription novembre centre congres orleans colloque polepharma industrie futur edition inscriptioninscriptionaux evenements octobre evreux rencontres polepharma amelioration continue edition inscription octobre uimm workshop digitalisation culture qualite octobre inscription octobre golf bois soiree polepharma reseau dreux inscription octobre hotel region normandie rouen assises polepharma innovation normandie nd edition inscription novembre centre international congres tours tips inscription novembre kindarena colloque polepharma industrie futur eme edition inscription decembre sanofi seminaire special inspections inscription decembre oril workshop digitalisation culture qualite decembre inscription decembre centre international congres tours colloque polepharma bioproduction eme ed inscription evenements precedents adherer polepharma espace adherent rechercher adherentun reseau performant territoire coherent carte polepharma job box archives newsletter mediatheque espace pressepolepharma video iframe sablekb fs iv load policy modestbranding rel showinfo theme dark vq medium tweets polepharma polepharma rue cardinal pie chartres tel mail contact polepharma compartenaires territoires centre val loire region normandie agglo pays dreux evreux metropole rouen normandie communaute seine eure tours metropole eure loir chartrespartenaires officiels pharma dec caisse epargne altran biotech quality group copyright polepharma mentions legales politique confidentialite poursuivant navigation site acceptez utilisation cookies fins mesure audience fermer button iframe polepharma flux polepharma flux commentaires eme colloque polepharma rh demandez programme jeudis polepharma alternate alternate polepharma polepharma recherche submit button toggle navigation polepharma polepharma organigramme chiffres cles reseau territoires region centre val loire region normandie conseil departemental eure loir chartres metropole metropole rouen agglo pays dreux agglo evreux portes normandie agglo seine eure agglo tours plus performance industrielle excellence operationnelle maintenance packaging supply chain usine futur talents relations publiques innovation biomedicaments federer collaborer promouvoir adherer polepharma espace adherent rechercher adherent decouvre metiers filiere pharmaceutique polepharma mediatheque espace presse polepharma polepharma recherche submit polepharma polepharma polepharma organigramme chiffres cles reseau territoires region centre val loire region normandie conseil departemental eure loir chartres metropole metropole rouen agglo pays dreux agglo evreux portes normandie agglo seine eure agglo tours plus performance industrielle excellence operationnelle maintenance packaging supply chain usine futur talents relations publiques innovation biomedicaments federer collaborer promouvoira rencontre futurs pharmaciens industriels mars api reunion annuelle toutes associations industrielles pharmacie week end formation insertion professionnelle destine etudiants souhaitant renseigner orienter vers monde industrie pharmaceutique concerne tous etudiants eme eme annee facultes pharmacie etudiants presents mars anepi caen rouen association normande etudiants pharmacie industrielle ete elue organiser edition dont theme ete adapter monde demain evolution pharmacie industrielle polepharma souhaite montrer forte presence industrielle locale ainsi nombreuses possibilites recrutements bassin centre val loire normandie ile france forte mobilisation part filiere participation dizaine professionnels pharmaciens lors ner gala animation conference presentation territoire conduite atelier aider lors recherches stage emploi animation stand polepharma ur entreprises bassin rencontre aussi interessante entreprises etudiants ravis rencontrer professionnels pouvoir echanger specificites orientation secteur industrie medicament voir video job box archives newsletter mediatheque espace pressepolepharma video iframe sablekb fs iv load policy modestbranding rel showinfo theme dark vq medium tweets polepharma polepharma rue cardinal pie chartres tel mail contact polepharma compartenaires territoires centre val loire region normandie agglo pays dreux evreux metropole rouen normandie communaute seine eure tours metropole eure loir chartrespartenaires officiels pharma dec caisse epargne altran biotech quality group copyright polepharma mentions legales politique confidentialite poursuivant navigation site acceptez utilisation cookies fins mesure audience fermer button iframe polepharma flux polepharma flux commentaires alternate alternate polepharma polepharma recherche submit button toggle navigation polepharma polepharma organigramme chiffres cles reseau territoires region centre val loire region normandie conseil departemental eure loir chartres metropole metropole rouen agglo pays dreux agglo evreux portes normandie agglo seine eure agglo tours plus performance industrielle excellence operationnelle maintenance packaging supply chain usine futur talents relations publiques innovation biomedicaments federer collaborer promouvoir adherer polepharma espace adherent rechercher adherent decouvre metiers filiere pharmaceutique polepharma mediatheque espace presse polepharma polepharma recherche submit polepharma polepharma polepharma organigramme chiffres cles reseau territoires region centre val loire region normandie conseil departemental eure loir chartres metropole metropole rouen agglo pays dreux agglo evreux portes normandie agglo seine eure agglo tours plus performance industrielle excellence operationnelle maintenance packaging supply chain usine futur talents relations publiques innovation biomedicaments federer collaborer promouvoirfiche adherent page generee plugin polepharma editer job box archives newsletter mediatheque espace pressepolepharma video iframe sablekb fs iv load policy modestbranding rel showinfo theme dark vq medium tweets polepharma polepharma rue cardinal pie chartres tel mail contact polepharma compartenaires territoires centre val loire region normandie agglo pays dreux evreux metropole rouen normandie communaute seine eure tours metropole eure loir chartrespartenaires officiels pharma dec caisse epargne altran biotech quality group copyright polepharma mentions legales politique confidentialite poursuivant navigation site acceptez utilisation cookies fins mesure audience fermer button iframe polepharma flux polepharma flux commentaires polepharma flux articles ecrits gregory monaca polepharma polepharma recherche submit button toggle navigation polepharma polepharma organigramme chiffres cles reseau territoires region centre val loire region normandie conseil departemental eure loir chartres metropole metropole rouen agglo pays dreux agglo evreux portes normandie agglo seine eure agglo tours plus performance industrielle excellence operationnelle maintenance packaging supply chain usine futur talents relations publiques innovation biomedicaments federer collaborer promouvoir adherer polepharma espace adherent rechercher adherent decouvre metiers filiere pharmaceutique polepharma mediatheque espace presse polepharma polepharma recherche submit polepharma polepharma polepharma organigramme chiffres cles reseau territoires region centre val loire region normandie conseil departemental eure loir chartres metropole metropole rouen agglo pays dreux agglo evreux portes normandie agglo seine eure agglo tours plus performance industrielle excellence operationnelle maintenance packaging supply chain usine futur talents relations publiques innovation biomedicaments federer collaborer promouvoirgregory monaca rss feedgregory monaca latest posts cynbiose respiratory nouvelle societe services precliniques specialisee maladies respiratoires aerosoltherapie annonce debut operationscynbiose respiratory nouvelle societe services precliniques specialiseedans maladies respiratoires aerosoltherapie annonce debut desses operations janvier cynbiose respiratory tours france societe recherche clinique hyperspecialisee creee base savoir faire co fondateurs societe cynbiose marcy etoile france specialisee modeles precliniques innovants centre recherche scientifique maladies respiratoires inserm umr tours france contribue decouverte lire suite polepharma cluster fran ais production pharmaceutiquepolepharma cluster fran ais production pharmaceutique mai filiere sante territoire reflechi points forts arguments propositions portes niveau decideurs nationaux lors derniers polepharma meetings lieu rencontre change construction communs ensemble acteurs chai sante polepharma favorise prise conscience grands enjeux lire suite polepharma packagingpolepharma packaging mai initiative adhe rents appuyant expertise polepharma organise rencontres packaging pharmaceutique edition primaires secondaires tous emballages contribuent niveau mise disposition dicaments aupre patients soumis re glementations tre strictes emballages font lire suite job box archives newsletter mediatheque espace pressepolepharma video iframe sablekb fs iv load policy modestbranding rel showinfo theme dark vq medium tweets polepharma polepharma rue cardinal pie chartres tel mail contact polepharma compartenaires territoires centre val loire region normandie agglo pays dreux evreux metropole rouen normandie communaute seine eure tours metropole eure loir chartrespartenaires officiels pharma dec caisse epargne altran biotech quality group copyright polepharma mentions legales politique confidentialite poursuivant navigation site acceptez utilisation cookies fins mesure audience fermer button iframe'"
      ]
     },
     "execution_count": 88,
     "metadata": {},
     "output_type": "execute_result"
    }
   ],
   "source": [
    "data_train[\"text\"]['9032']"
   ]
  },
  {
   "cell_type": "code",
   "execution_count": 126,
   "metadata": {},
   "outputs": [],
   "source": [
    "# a second round of cleaning\n",
    "\n",
    "def lemmetize(x):\n",
    "    \n",
    "    nlp = spacy.load('fr', disable=['parser', 'ner'])\n",
    "  \n",
    "    doc = nlp(x)\n",
    "            \n",
    "    lemmas = ' '.join(token.lemma_ for token in doc if token.pos_ in ['NOUN', 'PROPN','VERB', 'ADJ'])\n",
    "    \n",
    "    return lemmas"
   ]
  },
  {
   "cell_type": "code",
   "execution_count": 127,
   "metadata": {},
   "outputs": [
    {
     "data": {
      "text/plain": [
       "'performance industriel excellence operationnell maintenance'"
      ]
     },
     "execution_count": 127,
     "metadata": {},
     "output_type": "execute_result"
    }
   ],
   "source": [
    "s = \"plus performance industrielle excellence operationnelle maintenance \"\n",
    "lemmetize(s)"
   ]
  },
  {
   "cell_type": "code",
   "execution_count": 25,
   "metadata": {},
   "outputs": [],
   "source": [
    "data_train[\"text\"] = data_train[\"text\"].map(lemmetize)"
   ]
  },
  {
   "cell_type": "code",
   "execution_count": 26,
   "metadata": {},
   "outputs": [
    {
     "data": {
      "text/plain": [
       "'polepharma flux commentaire alternate alternat polepharma recherche submit button toggle navigation polepharma polepharma chiffre cles territoire region centre val loir region normandie conseil eur chartre agglo pays dreux agglo evreux porte normandie agglo seine eur agglo tour performance industriel excellence operationnell maintenance packaging supply chain usine futur talent relation public innovation biomedicament federer collaborer promouvoir adherer polepharma rechercher metier filiere pharmaceutique polepharma mediathequ espace presse polepharma recherche polepharma polepharma chiffre cles territoire region centre val loir region normandie conseil eur chartre agglo pays dreux agglo evreux porte normandie agglo seine eur agglo tour performance industriel excellence operationnell maintenance packaging supply chain usine futur talent relation public innovation biomedicament federer collaborer promouvoir national emergence projet collaboratif innovationlancemer national emergence projet collaboratifsd innovation repondre technologie rupture bioproduction trbp identifiee contrat filiere csf industrie technologier lire suite polepharma partenair colloqu international adebiotechpolepharma partenair colloqu international adebiotech polepharma partenair colloqu international adebiotech advanced analytical technologie protein aatp octobre biocitech romainville grand paris couvrir lire suite agro bio lance nouveau site internet bio lance nouveau site internet bio lance nouveau site internet nouveaute principaler version mise coherence nouveau offrir prestation lire suite soiree polepharma reseau datessoiree polepharma reseau date enrichir participer soirees reseau polepharma rencontrer acteur developpement production pharmaceutique developper entretenir reseau lire suite sav congre polepharma bioproduction decembre sav congre polepharma bioproduction decembre congre polepharma bioproduction edition decembr congre tour presidence thierry ziegler head cellecti lire suite sav colloqu polepharma industrie futur novembre sav colloqu polepharma industrie futur novembre colloqu polepharma industrie futur eme edition novembre kindarena rouen presidence yann gharfourzadeh vice sale operation emea pharma groupe lire suite polepharma recrut polepharma recrut portee dynamisme equipe agrandit polepharma recrut chef projet affaire pharmaceutique chef projet innovation lire suite comprendre metier production pharmaceutiquecomprendre metier production pharmaceutique lancer video emploi pense metier production industrie pharmaceutique france premier producteur europeen lire suite comprendre biomedicament minute possible comprendre biomedicament minute possible biomedicament video lire suiteinscriptional evenement decembre centre international congre tour colloqu polepharma bioproduction eme inscription decembre oril workshop digitalisation culture qualite decembr inscription decembre seminaire special inspection inscription novembre kindarena colloqu polepharma industrie futur eme edition inscription novembre centre international congre tour tip inscription octobre hotel region normandie assis polepharma innovation normandie edition inscription octobre golf bois o polepharma dreux inscription octobre uimm workshop digitalisation culture qualite octobre inscription octobre evreux rencontre polepharma amelioration continue edition inscription septembre polepharma reseau evreux inscription juillet dreux fabrh polepharma inscription juin golf parc robert herser polepharma busines tour inscription juin golf caen mer reseau inscription mai golf bois o polepharma dreux inscription mai teau royal assemblee general polepharma inscription mai hotel national invalide colloqu mai realite virtuel appliquee inscription avril ufr sant journees microbiomiqu inscription mars synchrotron soleil reseau paris saclay inscription mars novotel rouen sud mat inno polepharma developper busines international inscription mars avril hangar inscription fevrier golf lery pose inscription fevrier cotton club atelier propriet industriel inscription fevrier cotton club atelier propriet industriel fevrier inscription fevrier delpharm evreux invitation visite delpharm evreux inscription fevrier caen phinder pharma forum national pharmacie inscription janvier golf chartre polepharma chartre inscription janvier novotel sud mat inno polepharma financement europeen projet inscription decembre centre international congre tour colloqu polepharma bioproduction eme inscription decembre polepharma reseau evreux inscription decembre filature rencontre polepharma amelioration continue edition inscription novembre hotel dupanloup biomedicament inscription novembre cotton club atelier polepharma industriel inscription novembre cenexis soiree polepharma caen inscription novembre centre congre orlean colloqu polepharma industrie futur edition inscriptioninscriptional evenement octobre evreux rencontre polepharma amelioration continue edition inscription octobre uimm workshop digitalisation culture qualite octobre inscription octobre golf bois o polepharma dreux inscription octobre hotel region normandie assis polepharma innovation normandie edition inscription novembre centre international congre tour tip inscription novembre kindarena colloqu polepharma industrie futur eme edition inscription decembre seminaire special inspection inscription decembre oril workshop digitalisation culture qualite decembr inscription decembre centre international congre tour colloqu polepharma bioproduction eme inscription evenement precedent adherer polepharma rechercher adherentun reseau territoir carte polepharma job archive newsletter mediathequ espace pressepolepharma sablekb fs load policy modestbranding rel showinfo theme dark medium tweet polepharma polepharma rue cardinal chartre tel mail contact polepharma compartenaire territoire centre val loir region normandie agglo pays dreux evreux metropole rouen normandie communaut seine eur tours metropole eur chartrespartenaire officiel pharma dec epargn altran biotech quality copyright polepharma mention legale politique confidentialite navigation site utilisation cookie fin mesure audience button colloqu polepharma rh demander programme jeudi polepharma alternat alternate polepharma recherche submit button toggle navigation polepharma polepharma chiffre cles territoire region centre val loir region normandie conseil eur chartre agglo pays dreux agglo evreux porte normandie agglo seine eur agglo tour performance industriel excellence operationnell maintenance packaging supply chain usine futur talent relation public innovation biomedicament federer collaborer promouvoir adherer polepharma rechercher metier filiere pharmaceutique polepharma mediathequ espace presse polepharma recherche polepharma polepharma chiffre cles territoire region centre val loir region normandie conseil eur chartre agglo pays dreux agglo evreux porte normandie agglo seine eur agglo tour performance industriel excellence operationnell maintenance packaging supply chain usine futur talent relation public innovation biomedicament federer collaborer promouvoira rencontre futur pharmacien industriel mars reunion annuel association industriel pharmacie week end formation insertion professionnel destine etudiant renseigner orienter mond industrie pharmaceutique concerne etudiant etudiant present mars anepi association normande etudiant pharmacie industriel elue organiser edition theme adapter monde evolution pharmaci industriel souhaite montrer fort presence industriel local nombreux possibilite recrutement bassin centre val loir normandie il france fort mobilisation part filier participation dizaine professionnel pharmacien gala animation conference presentation territoir conduite atelier aider recherche stage emploi animation stand polepharma entreprise bassin rencontre interessant entreprise etudiant ravir rencontrer professionnel echanger specificite orientation secteur industrie voir video job archive newsletter mediathequ espace pressepolepharma sablekb fs load policy modestbranding rel showinfo theme dark medium tweet polepharma polepharma rue cardinal chartre tel mail contact polepharma compartenaire territoire centre val loir region normandie agglo pays dreux evreux metropole rouen normandie communaut seine eur tours metropole eur chartrespartenaire officiel pharma dec epargn altran biotech quality copyright polepharma mention legale politique confidentialite navigation site utilisation cookie fin mesure audience button commentaire alternate alternat polepharma recherche submit button toggle navigation polepharma polepharma chiffre cles territoire region centre val loir region normandie conseil eur chartre agglo pays dreux agglo evreux porte normandie agglo seine eur agglo tour performance industriel excellence operationnell maintenance packaging supply chain usine futur talent relation public innovation biomedicament federer collaborer promouvoir adherer polepharma rechercher metier filiere pharmaceutique polepharma mediathequ espace presse polepharma recherche polepharma polepharma chiffre cles territoire region centre val loir region normandie conseil eur chartre agglo pays dreux agglo evreux porte normandie agglo seine eur agglo tour performance industriel excellence operationnell maintenance packaging supply chain usine futur talent relation public innovation biomedicament federer collaborer promouvoirfiche page plugin polepharma editer job archive newsletter mediathequ espace pressepolepharma sablekb fs load policy modestbranding rel showinfo theme dark medium tweet polepharma polepharma rue cardinal chartre tel mail contact polepharma compartenaire territoire centre val loir region normandie agglo pays dreux evreux metropole rouen normandie communaut seine eur tours metropole eur chartrespartenaire officiel pharma dec epargn altran biotech quality copyright polepharma mention legale politique confidentialite navigation site utilisation cookie fin mesure audience button polepharma article ecrit gregory monaca polepharma polepharma recherche submit button toggle navigation polepharma polepharma chiffre cles territoire region centre val loir region normandie conseil eur chartre agglo pays dreux agglo evreux porte normandie agglo seine eur agglo tour performance industriel excellence operationnell maintenance packaging supply chain usine futur talent relation public innovation biomedicament federer collaborer promouvoir adherer polepharma rechercher metier filiere pharmaceutique polepharma mediathequ espace presse polepharma recherche polepharma polepharma chiffre cles territoire region centre val loir region normandie conseil eur chartre agglo pays dreux agglo evreux porte normandie agglo seine eur agglo tour performance industriel excellence operationnell maintenance packaging supply chain usine futur talent relation public innovation biomedicament federer collaborer promouvoirgregory monaca feedgregory monaca respiratory nouveau service preclinique specialisee maladie respiratoire aerosoltherapi annonce debut respiratory nouveau service preclinique specialiseedan maladie respiratoire aerosoltherapi annonce debut desse operation janvier respiratory tour france societe recherche clinique cree base savoir faire fondateur societe cynbiose marcy etoil france specialisee modele preclinique innovant centre recherche scientifique maladie respiratoire inserm tour france contribue decouvert lire suite polepharma cluster fran production pharmaceutiquepolepharma cluster fran production pharmaceutique mai filier sant territoir reflechi point fort argument proposition porter niveau decideur national dernier polepharma lieu rencontre e change construction communs ensembl acteur cher sante polepharma favorise prise conscience grand enjeux lire suite polepharma mai initiativ adhe rent appuyer expertis organis rencontre packaging pharmaceutique edition primaire secondaire tout emballage contribuer niveau mise disposition dicament aupr patient soumettre re glementation stricte emballage faire lire suite job archive newsletter mediathequ espace pressepolepharma sablekb fs load policy modestbranding rel showinfo theme dark medium tweet polepharma polepharma rue cardinal chartre tel mail contact polepharma compartenaire territoire centre val loir region normandie agglo pays dreux evreux metropole rouen normandie communaut seine eur tours metropole eur chartrespartenaire officiel pharma dec epargn altran biotech quality copyright polepharma mention legale politique confidentialite navigation site utilisation cookie fin mesure audience button commentaire alternate alternat polepharma recherche submit button toggle navigation polepharma polepharma chiffre cles territoire region centre val loir region normandie conseil eur chartre agglo pays dreux agglo evreux porte normandie agglo seine eur agglo tour performance industriel excellence operationnell maintenance packaging supply chain usine futur talent relation public innovation biomedicament federer collaborer promouvoir adherer polepharma rechercher metier filiere pharmaceutique polepharma mediathequ espace presse polepharma recherche polepharma polepharma chiffre cles territoire region centre val loir region normandie conseil eur chartre agglo pays dreux agglo evreux porte normandie agglo seine eur agglo tour performance industriel excellence operationnell maintenance packaging supply chain usine futur talent relation public innovation biomedicament federer collaborer promouvoir national emergence projet collaboratif innovationlancemer national emergence projet collaboratifsd innovation repondre technologie rupture bioproduction trbp identifiee contrat filiere csf industrie technologier lire suite polepharma partenair colloqu international adebiotechpolepharma partenair colloqu international adebiotech polepharma partenair colloqu international adebiotech advanced analytical technologie protein aatp octobre biocitech romainville grand paris couvrir lire suite agro bio lance nouveau site internet bio lance nouveau site internet bio lance nouveau site internet nouveaute principaler version mise coherence nouveau offrir prestation lire suite soiree polepharma reseau datessoiree polepharma reseau date enrichir participer soirees reseau polepharma rencontrer acteur developpement production pharmaceutique developper entretenir reseau lire suite sav congre polepharma bioproduction decembre sav congre polepharma bioproduction decembre congre polepharma bioproduction edition decembr congre tour presidence thierry ziegler head cellecti lire suite sav colloqu polepharma industrie futur novembre sav colloqu polepharma industrie futur novembre colloqu polepharma industrie futur eme edition novembre kindarena rouen presidence yann gharfourzadeh vice sale operation emea pharma groupe lire suite polepharma recrut polepharma recrut portee dynamisme equipe agrandit polepharma recrut chef projet affaire pharmaceutique chef projet innovation lire suite comprendre metier production pharmaceutiquecomprendre metier production pharmaceutique lancer video emploi pense metier production industrie pharmaceutique france premier producteur europeen lire suite comprendre biomedicament minute possible comprendre biomedicament minute possible biomedicament video lire suiteinscriptional evenement decembre centre international congre tour colloqu polepharma bioproduction eme inscription decembre oril workshop digitalisation culture qualite decembr inscription decembre seminaire special inspection inscription novembre kindarena colloqu polepharma industrie futur eme edition inscription novembre centre international congre tour tip inscription octobre hotel region normandie assis polepharma innovation normandie edition inscription octobre golf bois o polepharma dreux inscription octobre uimm workshop digitalisation culture qualite octobre inscription octobre evreux rencontre polepharma amelioration continue edition inscription septembre polepharma reseau evreux inscription juillet dreux fabrh polepharma inscription juin golf parc robert herser polepharma busines tour inscription juin golf caen mer reseau inscription mai golf bois o polepharma dreux inscription mai teau royal assemblee general polepharma inscription mai hotel national invalide colloqu mai realite virtuel appliquee inscription avril ufr sant journees microbiomiqu inscription mars synchrotron soleil reseau paris saclay inscription mars novotel rouen sud mat inno polepharma developper busines international inscription mars avril hangar inscription fevrier golf lery pose inscription fevrier cotton club atelier propriet industriel inscription fevrier cotton club atelier propriet industriel fevrier inscription fevrier delpharm evreux invitation visite delpharm evreux inscription fevrier caen phinder pharma forum national pharmacie inscription janvier golf chartre polepharma chartre inscription janvier novotel sud mat inno polepharma financement europeen projet inscription decembre centre international congre tour colloqu polepharma bioproduction eme inscription decembre polepharma reseau evreux inscription decembre filature rencontre polepharma amelioration continue edition inscription novembre hotel dupanloup biomedicament inscription novembre cotton club atelier polepharma industriel inscription novembre cenexis soiree polepharma caen inscription novembre centre congre orlean colloqu polepharma industrie futur edition inscriptioninscriptional evenement octobre evreux rencontre polepharma amelioration continue edition inscription octobre uimm workshop digitalisation culture qualite octobre inscription octobre golf bois o polepharma dreux inscription octobre hotel region normandie assis polepharma innovation normandie edition inscription novembre centre international congre tour tip inscription novembre kindarena colloqu polepharma industrie futur eme edition inscription decembre seminaire special inspection inscription decembre oril workshop digitalisation culture qualite decembr inscription decembre centre international congre tour colloqu polepharma bioproduction eme inscription evenement precedent adherer polepharma rechercher adherentun reseau territoir carte polepharma job archive newsletter mediathequ espace pressepolepharma sablekb fs load policy modestbranding rel showinfo theme dark medium tweet polepharma polepharma rue cardinal chartre tel mail contact polepharma compartenaire territoire centre val loir region normandie agglo pays dreux evreux metropole rouen normandie communaut seine eur tours metropole eur chartrespartenaire officiel pharma dec epargn altran biotech quality copyright polepharma mention legale politique confidentialite navigation site utilisation cookie fin mesure audience button colloqu polepharma rh demander programme jeudi polepharma alternat alternate polepharma recherche submit button toggle navigation polepharma polepharma chiffre cles territoire region centre val loir region normandie conseil eur chartre agglo pays dreux agglo evreux porte normandie agglo seine eur agglo tour performance industriel excellence operationnell maintenance packaging supply chain usine futur talent relation public innovation biomedicament federer collaborer promouvoir adherer polepharma rechercher metier filiere pharmaceutique polepharma mediathequ espace presse polepharma recherche polepharma polepharma chiffre cles territoire region centre val loir region normandie conseil eur chartre agglo pays dreux agglo evreux porte normandie agglo seine eur agglo tour performance industriel excellence operationnell maintenance packaging supply chain usine futur talent relation public innovation biomedicament federer collaborer promouvoira rencontre futur pharmacien industriel mars reunion annuel association industriel pharmacie week end formation insertion professionnel destine etudiant renseigner orienter mond industrie pharmaceutique concerne etudiant etudiant present mars anepi association normande etudiant pharmacie industriel elue organiser edition theme adapter monde evolution pharmaci industriel souhaite montrer fort presence industriel local nombreux possibilite recrutement bassin centre val loir normandie il france fort mobilisation part filier participation dizaine professionnel pharmacien gala animation conference presentation territoir conduite atelier aider recherche stage emploi animation stand polepharma entreprise bassin rencontre interessant entreprise etudiant ravir rencontrer professionnel echanger specificite orientation secteur industrie voir video job archive newsletter mediathequ espace pressepolepharma sablekb fs load policy modestbranding rel showinfo theme dark medium tweet polepharma polepharma rue cardinal chartre tel mail contact polepharma compartenaire territoire centre val loir region normandie agglo pays dreux evreux metropole rouen normandie communaut seine eur tours metropole eur chartrespartenaire officiel pharma dec epargn altran biotech quality copyright polepharma mention legale politique confidentialite navigation site utilisation cookie fin mesure audience button commentaire alternate alternat polepharma recherche submit button toggle navigation polepharma polepharma chiffre cles territoire region centre val loir region normandie conseil eur chartre agglo pays dreux agglo evreux porte normandie agglo seine eur agglo tour performance industriel excellence operationnell maintenance packaging supply chain usine futur talent relation public innovation biomedicament federer collaborer promouvoir adherer polepharma rechercher metier filiere pharmaceutique polepharma mediathequ espace presse polepharma recherche polepharma polepharma chiffre cles territoire region centre val loir region normandie conseil eur chartre agglo pays dreux agglo evreux porte normandie agglo seine eur agglo tour performance industriel excellence operationnell maintenance packaging supply chain usine futur talent relation public innovation biomedicament federer collaborer promouvoirfiche page plugin polepharma editer job archive newsletter mediathequ espace pressepolepharma sablekb fs load policy modestbranding rel showinfo theme dark medium tweet polepharma polepharma rue cardinal chartre tel mail contact polepharma compartenaire territoire centre val loir region normandie agglo pays dreux evreux metropole rouen normandie communaut seine eur tours metropole eur chartrespartenaire officiel pharma dec epargn altran biotech quality copyright polepharma mention legale politique confidentialite navigation site utilisation cookie fin mesure audience button polepharma article ecrit gregory monaca polepharma polepharma recherche submit button toggle navigation polepharma polepharma chiffre cles territoire region centre val loir region normandie conseil eur chartre agglo pays dreux agglo evreux porte normandie agglo seine eur agglo tour performance industriel excellence operationnell maintenance packaging supply chain usine futur talent relation public innovation biomedicament federer collaborer promouvoir adherer polepharma rechercher metier filiere pharmaceutique polepharma mediathequ espace presse polepharma recherche polepharma polepharma chiffre cles territoire region centre val loir region normandie conseil eur chartre agglo pays dreux agglo evreux porte normandie agglo seine eur agglo tour performance industriel excellence operationnell maintenance packaging supply chain usine futur talent relation public innovation biomedicament federer collaborer promouvoirgregory monaca feedgregory monaca respiratory nouveau service preclinique specialisee maladie respiratoire aerosoltherapi annonce debut respiratory nouveau service preclinique specialiseedan maladie respiratoire aerosoltherapi annonce debut desse operation janvier respiratory tour france societe recherche clinique cree base savoir faire fondateur societe cynbiose marcy etoil france specialisee modele preclinique innovant centre recherche scientifique maladie respiratoire inserm tour france contribue decouvert lire suite polepharma cluster fran production pharmaceutiquepolepharma cluster fran production pharmaceutique mai filier sant territoir reflechi point fort argument proposition porter niveau decideur national dernier polepharma lieu rencontre e change construction communs ensembl acteur cher sante polepharma favorise prise conscience grand enjeux lire suite polepharma mai initiativ adhe rent appuyer expertis organis rencontre packaging pharmaceutique edition primaire secondaire tout emballage contribuer niveau mise disposition dicament aupr patient soumettre re glementation stricte emballage faire lire suite job archive newsletter mediathequ espace pressepolepharma sablekb fs load policy modestbranding rel showinfo theme dark medium tweet polepharma polepharma rue cardinal chartre tel mail contact polepharma compartenaire territoire centre val loir region normandie agglo pays dreux evreux metropole rouen normandie communaut seine eur tours metropole eur chartrespartenaire officiel pharma dec epargn altran biotech quality copyright polepharma mention legale politique confidentialite navigation site utilisation cookie fin mesure audience button'"
      ]
     },
     "execution_count": 26,
     "metadata": {},
     "output_type": "execute_result"
    }
   ],
   "source": [
    "data_train[\"text\"]['9032']"
   ]
  },
  {
   "cell_type": "code",
   "execution_count": 31,
   "metadata": {},
   "outputs": [
    {
     "data": {
      "text/html": [
       "<div>\n",
       "<style scoped>\n",
       "    .dataframe tbody tr th:only-of-type {\n",
       "        vertical-align: middle;\n",
       "    }\n",
       "\n",
       "    .dataframe tbody tr th {\n",
       "        vertical-align: top;\n",
       "    }\n",
       "\n",
       "    .dataframe thead th {\n",
       "        text-align: right;\n",
       "    }\n",
       "</style>\n",
       "<table border=\"1\" class=\"dataframe\">\n",
       "  <thead>\n",
       "    <tr style=\"text-align: right;\">\n",
       "      <th></th>\n",
       "      <th>text</th>\n",
       "      <th>category</th>\n",
       "    </tr>\n",
       "    <tr>\n",
       "      <th>train_host</th>\n",
       "      <th></th>\n",
       "      <th></th>\n",
       "    </tr>\n",
       "  </thead>\n",
       "  <tbody>\n",
       "    <tr>\n",
       "      <td>9032</td>\n",
       "      <td>polepharma flux commentaire alternate alternat...</td>\n",
       "      <td>health/medical</td>\n",
       "    </tr>\n",
       "    <tr>\n",
       "      <td>5346</td>\n",
       "      <td>moved permanently nginx moved permanently ngin...</td>\n",
       "      <td>entertainment</td>\n",
       "    </tr>\n",
       "    <tr>\n",
       "      <td>18778</td>\n",
       "      <td>button fermer navigation modifier parametre co...</td>\n",
       "      <td>entertainment</td>\n",
       "    </tr>\n",
       "    <tr>\n",
       "      <td>11939</td>\n",
       "      <td>button toggle navigation hal hal halsh tel med...</td>\n",
       "      <td>education/research</td>\n",
       "    </tr>\n",
       "    <tr>\n",
       "      <td>17502</td>\n",
       "      <td>user disallow publisher user yandex crawl tele...</td>\n",
       "      <td>tech/science</td>\n",
       "    </tr>\n",
       "  </tbody>\n",
       "</table>\n",
       "</div>"
      ],
      "text/plain": [
       "                                                         text  \\\n",
       "train_host                                                      \n",
       "9032        polepharma flux commentaire alternate alternat...   \n",
       "5346        moved permanently nginx moved permanently ngin...   \n",
       "18778       button fermer navigation modifier parametre co...   \n",
       "11939       button toggle navigation hal hal halsh tel med...   \n",
       "17502       user disallow publisher user yandex crawl tele...   \n",
       "\n",
       "                      category  \n",
       "train_host                      \n",
       "9032            health/medical  \n",
       "5346             entertainment  \n",
       "18778            entertainment  \n",
       "11939       education/research  \n",
       "17502             tech/science  "
      ]
     },
     "execution_count": 31,
     "metadata": {},
     "output_type": "execute_result"
    }
   ],
   "source": [
    "data_train.head()"
   ]
  },
  {
   "cell_type": "code",
   "execution_count": 40,
   "metadata": {},
   "outputs": [],
   "source": [
    "data_train.to_csv('clean_data.csv')"
   ]
  }
 ],
 "metadata": {
  "kernelspec": {
   "display_name": "Python 3",
   "language": "python",
   "name": "python3"
  },
  "language_info": {
   "codemirror_mode": {
    "name": "ipython",
    "version": 3
   },
   "file_extension": ".py",
   "mimetype": "text/x-python",
   "name": "python",
   "nbconvert_exporter": "python",
   "pygments_lexer": "ipython3",
   "version": "3.7.4"
  }
 },
 "nbformat": 4,
 "nbformat_minor": 2
}
