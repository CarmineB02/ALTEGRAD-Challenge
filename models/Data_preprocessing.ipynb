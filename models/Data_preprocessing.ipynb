{
 "cells": [
  {
   "cell_type": "code",
   "execution_count": 4,
   "metadata": {},
   "outputs": [],
   "source": [
    "import numpy as np\n",
    "import pandas as pd\n",
    "from nltk.corpus import stopwords\n",
    "import re\n",
    "import string\n",
    "import os\n",
    "import networkx as nx\n",
    "import codecs\n",
    "from os import path"
   ]
  },
  {
   "cell_type": "markdown",
   "metadata": {},
   "source": [
    "## 1.Load Data"
   ]
  },
  {
   "cell_type": "code",
   "execution_count": 5,
   "metadata": {},
   "outputs": [],
   "source": [
    "def get_data_full_modified():\n",
    "    with open(\"./data/train.csv\", 'r') as f:\n",
    "        train_data = f.read().splitlines()\n",
    "    with open(\"./data/test.csv\", 'r') as f:\n",
    "        test_hosts = f.read().splitlines()\n",
    "\n",
    "    train_hosts = list()\n",
    "    y_train = list()\n",
    "    for row in train_data:\n",
    "        host, label = row.split(\",\")\n",
    "        train_hosts.append(host)\n",
    "        y_train.append(label.lower())\n",
    "\n",
    "    # Text data\n",
    "    # Load the textual content of a set of webpages for each host into the dictionary \"data\".\n",
    "    # The encoding parameter is required since the majority of our data is french.\n",
    "    text = dict()\n",
    "    filenames = os.listdir('./data/text')\n",
    "    \n",
    "    for filename in filenames:\n",
    "        try:\n",
    "            with codecs.open(path.join('data/text/', filename), encoding='utf-8') as f:\n",
    "                text[filename] = f.read().replace(\"\\n\", \"\").lower()\n",
    "        except:\n",
    "            with codecs.open(path.join('data/text/', filename), encoding='latin-1') as f:\n",
    "                text[filename] = f.read().replace(\"\\n\", \"\").lower()\n",
    "    \n",
    "    X_train = list()\n",
    "    for host in train_hosts:\n",
    "        if host in text:\n",
    "            X_train.append([host, text[host]])\n",
    "        else:\n",
    "            X_train.append([host, ''])\n",
    "    # Get textual content of web hosts of the test set\n",
    "    X_test = list()\n",
    "    for host in test_hosts:\n",
    "        if host in text:\n",
    "            X_test.append([host, text[host]])\n",
    "        else:\n",
    "            X_test.append([host, ''])\n",
    "    return X_train, y_train, X_test, test_hosts"
   ]
  },
  {
   "cell_type": "code",
   "execution_count": 6,
   "metadata": {},
   "outputs": [],
   "source": [
    "X_train, y_train, X_test, test_hosts = get_data_full_modified() "
   ]
  },
  {
   "cell_type": "code",
   "execution_count": 7,
   "metadata": {},
   "outputs": [
    {
     "data": {
      "text/html": [
       "<div>\n",
       "<style scoped>\n",
       "    .dataframe tbody tr th:only-of-type {\n",
       "        vertical-align: middle;\n",
       "    }\n",
       "\n",
       "    .dataframe tbody tr th {\n",
       "        vertical-align: top;\n",
       "    }\n",
       "\n",
       "    .dataframe thead th {\n",
       "        text-align: right;\n",
       "    }\n",
       "</style>\n",
       "<table border=\"1\" class=\"dataframe\">\n",
       "  <thead>\n",
       "    <tr style=\"text-align: right;\">\n",
       "      <th></th>\n",
       "      <th>text</th>\n",
       "      <th>category</th>\n",
       "    </tr>\n",
       "  </thead>\n",
       "  <tbody>\n",
       "    <tr>\n",
       "      <td>0</td>\n",
       "      <td>[9032,    #polepharma » flux polepharma » flux...</td>\n",
       "      <td>health/medical</td>\n",
       "    </tr>\n",
       "    <tr>\n",
       "      <td>1</td>\n",
       "      <td>[5346,                             301 moved p...</td>\n",
       "      <td>entertainment</td>\n",
       "    </tr>\n",
       "    <tr>\n",
       "      <td>2</td>\n",
       "      <td>[18778,    (button) fermer   en poursuivant vo...</td>\n",
       "      <td>entertainment</td>\n",
       "    </tr>\n",
       "    <tr>\n",
       "      <td>3</td>\n",
       "      <td>[11939,    #hal   (button) toggle navigation  ...</td>\n",
       "      <td>education/research</td>\n",
       "    </tr>\n",
       "    <tr>\n",
       "      <td>4</td>\n",
       "      <td>[17502,    user-agent: * disallow: disallow: /...</td>\n",
       "      <td>tech/science</td>\n",
       "    </tr>\n",
       "  </tbody>\n",
       "</table>\n",
       "</div>"
      ],
      "text/plain": [
       "                                                text            category\n",
       "0  [9032,    #polepharma » flux polepharma » flux...      health/medical\n",
       "1  [5346,                             301 moved p...       entertainment\n",
       "2  [18778,    (button) fermer   en poursuivant vo...       entertainment\n",
       "3  [11939,    #hal   (button) toggle navigation  ...  education/research\n",
       "4  [17502,    user-agent: * disallow: disallow: /...        tech/science"
      ]
     },
     "execution_count": 7,
     "metadata": {},
     "output_type": "execute_result"
    }
   ],
   "source": [
    "data_train = pd.DataFrame({'text': X_train,'category': y_train,})\n",
    "data_train.head()"
   ]
  },
  {
   "cell_type": "code",
   "execution_count": 8,
   "metadata": {},
   "outputs": [
    {
     "data": {
      "text/html": [
       "<div>\n",
       "<style scoped>\n",
       "    .dataframe tbody tr th:only-of-type {\n",
       "        vertical-align: middle;\n",
       "    }\n",
       "\n",
       "    .dataframe tbody tr th {\n",
       "        vertical-align: top;\n",
       "    }\n",
       "\n",
       "    .dataframe thead th {\n",
       "        text-align: right;\n",
       "    }\n",
       "</style>\n",
       "<table border=\"1\" class=\"dataframe\">\n",
       "  <thead>\n",
       "    <tr style=\"text-align: right;\">\n",
       "      <th></th>\n",
       "      <th>text</th>\n",
       "      <th>category</th>\n",
       "    </tr>\n",
       "    <tr>\n",
       "      <th>train_host</th>\n",
       "      <th></th>\n",
       "      <th></th>\n",
       "    </tr>\n",
       "  </thead>\n",
       "  <tbody>\n",
       "    <tr>\n",
       "      <td>9032</td>\n",
       "      <td>#polepharma » flux polepharma » flux des co...</td>\n",
       "      <td>health/medical</td>\n",
       "    </tr>\n",
       "    <tr>\n",
       "      <td>5346</td>\n",
       "      <td>301 moved permanen...</td>\n",
       "      <td>entertainment</td>\n",
       "    </tr>\n",
       "    <tr>\n",
       "      <td>18778</td>\n",
       "      <td>(button) fermer   en poursuivant votre navi...</td>\n",
       "      <td>entertainment</td>\n",
       "    </tr>\n",
       "    <tr>\n",
       "      <td>11939</td>\n",
       "      <td>#hal   (button) toggle navigation   ccsd   ...</td>\n",
       "      <td>education/research</td>\n",
       "    </tr>\n",
       "    <tr>\n",
       "      <td>17502</td>\n",
       "      <td>user-agent: * disallow: disallow: /publishe...</td>\n",
       "      <td>tech/science</td>\n",
       "    </tr>\n",
       "  </tbody>\n",
       "</table>\n",
       "</div>"
      ],
      "text/plain": [
       "                                                         text  \\\n",
       "train_host                                                      \n",
       "9032           #polepharma » flux polepharma » flux des co...   \n",
       "5346                                    301 moved permanen...   \n",
       "18778          (button) fermer   en poursuivant votre navi...   \n",
       "11939          #hal   (button) toggle navigation   ccsd   ...   \n",
       "17502          user-agent: * disallow: disallow: /publishe...   \n",
       "\n",
       "                      category  \n",
       "train_host                      \n",
       "9032            health/medical  \n",
       "5346             entertainment  \n",
       "18778            entertainment  \n",
       "11939       education/research  \n",
       "17502             tech/science  "
      ]
     },
     "execution_count": 8,
     "metadata": {},
     "output_type": "execute_result"
    }
   ],
   "source": [
    "data_train[['train_host','text']] = pd.DataFrame(data_train.text.values.tolist(), index= data_train.index)\n",
    "data_train.set_index('train_host', inplace=True)\n",
    "data_train.head()"
   ]
  },
  {
   "cell_type": "code",
   "execution_count": 9,
   "metadata": {},
   "outputs": [
    {
     "data": {
      "text/plain": [
       "(2125, 2)"
      ]
     },
     "execution_count": 9,
     "metadata": {},
     "output_type": "execute_result"
    }
   ],
   "source": [
    "data_train.shape"
   ]
  },
  {
   "cell_type": "code",
   "execution_count": 10,
   "metadata": {
    "scrolled": true
   },
   "outputs": [
    {
     "name": "stdout",
     "output_type": "stream",
     "text": [
      "   #polepharma » flux polepharma » flux des commentaires alternate   alternate   polepharma   polepharma ﻿ recherche_________ submit   (button) toggle navigation   polepharma     * polepharma          + qui sommes-nous ?          + organigramme          + les chiffres clés          + un réseau     * territoires          + région centre-val de loire          + région normandie          + conseil départemental d’eure&loir          + chartres metropole          + metropole de rouen          + agglo du pays de dreux          + agglo evreux portes de normandie          + agglo seine&eure          + agglo de tours plus     * performance industrielle          + excellence opérationnelle          + maintenance          + packaging          + supply chain          + usine du futur     * talents     * relations publiques     * innovation          + biomédicaments          + fédérer          + collaborer          + promouvoir   adhérer à polepharma   espace adhérent   rechercher un adhérent   je découvre les métiers de la filière pharmaceutique   polepharma   médiathèque   espace presse   polepharma polepharma   ﻿ recherche_________ submit   polepharma polepharma     * polepharma          + qui sommes-nous ?          + organigramme          + les chiffres clés          + un réseau     * territoires          + région centre-val de loire          + région normandie          + conseil départemental d’eure&loir          + chartres metropole          + metropole de rouen          + agglo du pays de dreux          + agglo evreux portes de normandie          + agglo seine&eure          + agglo de tours plus     * performance industrielle          + excellence opérationnelle          + maintenance          + packaging          + supply chain          + usine du futur     * talents     * relations publiques     * innovation          + biomédicaments          + fédérer          + collaborer          + promouvoir     * lancement d’un ami national pour l’émergence de projets       collaboratifs d’innovationlancement d’un ami national pour l’émergence de projets collaboratifsd’innovation       afin de répondre à la priorité « technologies de ruptures       en bioproduction (trbp) » identifiée dans le contrat de filière du       csf « industries et technologies de...       > lire la suite     * polepharma, partenaire du colloque international adebiotechpolepharma, partenaire du colloque international adebiotech       polepharma est partenaire du colloque international adebiotech «       advanced analytical technologies for proteins »  (aatp),  2-3       octobre 2019 à biocitech (romainville-grand paris) qui couvrira       les...       > lire la suite     * agro-bio lance son nouveau site internet !agro-bio lance son nouveau site internet !       agro-bio lance son nouveau site internet ! les nouveautés       principales de cette version 2019 sont : la mise en cohérence avec       notre nouvelle offre de prestations...       > lire la suite     * soirées 18/21 polepharma réseau : toutes les datessoirées 18/21 polepharma réseau : toutes les dates          le réseau s’enrichit   participer aux soirées 18/21 réseau       polepharma c’est : rencontrer les acteurs du développement et de la       production pharmaceutique développer et entretenir votre réseau...       > lire la suite     * save the date : congrès polepharma bioproduction – 12 & 13 décembre       2019save the date : congrès polepharma bioproduction – 12 & 13 décembre 2019       congrès polepharma bioproduction – 4ème édition les 12 &       13 décembre 2019 au palais des congrès de tours sous la présidence       de thierry ziegler, head of manufacturing de cellectis. dans un...       > lire la suite     * save the date : colloque polepharma industrie du futur – 28       novembre 2019save the date : colloque polepharma industrie du futur – 28 novembre 2019       colloque polepharma industrie du futur – 3ème édition le 28       novembre 2019 au kindarena de rouen sous la présidence de yann       gharfourzadeh, vice president sales & operation emea pharma du       groupe...       > lire la suite     * polepharma recrute !polepharma recrute !       portée par son dynamisme, l’équipe s’agrandit !  polepharma recrute       :   un chef de projet affaires pharmaceutiques           un chef de       projet innovations...       > lire la suite     * comprendre en 1mn50 les métiers de la production pharmaceutiquecomprendre en 1mn50 les métiers de la production pharmaceutique       lancer la vidéo vous recherchez un emploi ? avez-vous pensé aux       métiers de la production de l’industrie pharmaceutique ? la france       est l’un des premiers producteurs européens...       > lire la suite     * comprendre les biomédicaments en 2 minutes, c’est possible !comprendre les biomédicaments en 2 minutes, c’est possible !       les biomédicaments en vidéo cliquez ici...       > lire la suiteinscriptionaux événements   12 au 13 décembre 2019   > centre international de congrès de tours   colloque polepharma bioproduction - 4éme ed.   inscription   10 décembre 2019   > oril   workshop 2 digitalisation et culture qualité / 10 décembre 2019   inscription   03 décembre 2019   > sanofi   séminaire spécial inspections   inscription   28 novembre 2019   > kindarena   colloque polepharma industrie du futur - 3ème edition   inscription   19 au 20 novembre 2019   > centre international de congrès de tours   tips 2019   inscription   31 octobre 2019   > hotel de région normandie rouen   les assises polepharma de l'innovation en normandie 2nd edition   inscription   23 octobre 2019   > golf du bois d'o   soirée polepharma réseau - dreux (28)   inscription   17 octobre 2019   > uimm   workshop 1 digitalisation et culture qualité / 17 octobre 2019   inscription   10 octobre 2019   > evreux   rencontres polepharma de l'amélioration continue - 3e édition   inscription   25 septembre 2019   > le paganica   soirée polepharma réseau - evreux (27)   inscription   04 juillet 2019   > dreux - (28)   la fabrh polepharma #1   inscription   28 juin 2019   > golf parc robert hersant   polepharma business tour   inscription   26 juin 2019   > golf de caen la mer,   soirée polepharma réseau - caen (14)   inscription   23 mai 2019   > golf du bois d'o   soirée polepharma réseau - dreux (28)   inscription   16 mai 2019   > château royal de blois   assemblée générale polepharma 2019   inscription   14 mai 2019   > hôtel national des invalides   colloque souveraineté medicaments & api   inscription   14 mai 2019   >   tec'lab: realité virtuelle appliquée   inscription   09 au 10 avril 2019   > ufr sante rouen   les journées polepharma de microbiomique   inscription   28 mars 2019   > synchrotron soleil   soirée polepharma réseau - paris saclay (91)   inscription   07 mars 2019   > novotel rouen sud   mat'inno polepharma \"développer son business à l'international\"   inscription   05 mars au 23 avril 2019   > le hangar   9ème afterwork biomédicament   inscription   28 février 2019   > golf de léry-poses   soirée polepharma réseau - louviers (27)   inscription   07 février 2019   > cotton club   atelier propriété industrielle / 07 fev 2019   inscription   07 février 2019   > cotton club   atelier propriété industrielle - 7 février 2019   inscription   04 février 2019   > delpharm evreux   invitation : visite delpharm evreux   inscription   02 février 2019   > caen   phinder de la pharma : forum national des facultés de pharmacie   inscription   31 janvier 2019   > golf de chartres fontenay   soirée polepharma réseau - chartres (28)   inscription   15 janvier 2019   > novotel rouen sud   les mat'inno polepharma \"financement européen des projets r&d\"   inscription   20 décembre 2018   > centre international de congrès de tours   colloque polepharma bioproduction - 3éme ed.   inscription   12 décembre 2018   > le paganica   soirée polepharma réseau - evreux (27)   inscription   04 décembre 2018   > la filature   rencontres polepharma amélioration continue – 2e édition   inscription   29 novembre 2018   > hôtel dupanloup   8ème afterwork biomédicaments   inscription   22 novembre 2018   > cotton club   atelier polepharma propriété industrielle   inscription   15 novembre 2018   > cenexis hsc   soirée réseau 18/21 polepharma & nucleopolis - caen   inscription   08 novembre 2018   > centre de congrès d'orléans   colloque polepharma industrie du futur - 2e edition   inscriptioninscriptionaux événements   10 octobre 2019   > evreux   rencontres polepharma de l'amélioration continue - 3e édition   inscription   17 octobre 2019   > uimm   workshop 1 digitalisation et culture qualité / 17 octobre 2019   inscription   23 octobre 2019   > golf du bois d'o   soirée polepharma réseau - dreux (28)   inscription   31 octobre 2019   > hotel de région normandie rouen   les assises polepharma de l'innovation en normandie 2nd edition   inscription   19 au 20 novembre 2019   > centre international de congrès de tours   tips 2019   inscription   28 novembre 2019   > kindarena   colloque polepharma industrie du futur - 3ème edition   inscription   03 décembre 2019   > sanofi   séminaire spécial inspections   inscription   10 décembre 2019   > oril   workshop 2 digitalisation et culture qualité / 10 décembre 2019   inscription   12 au 13 décembre 2019   > centre international de congrès de tours   colloque polepharma bioproduction - 4éme ed.   inscription   événements precedents   adhérer à polepharma   espace adhérent   rechercher un adhérentun réseau performant,      un territoire cohérent   carte polepharma   job-box   archives newsletter   médiathèque   espace pressepolepharma en vidéo   iframe:   //www.youtube.com/embed/k_icgpnj9wu?&autohide=1&color=red&controls=1&di   sablekb=0&fs=1&iv_load_policy=1&modestbranding=0&rel=0&showinfo=0&theme   =dark&vq=medium   tweets de @polepharma   polepharma   11 rue du cardinal pie   28000 chartres   tél. : +33 (0)2 37 20 99 90   mail : contact@polepharma.compartenaires territoires   centre val de loire région normandie agglo pays dreux evreux métropole   rouen normandie communauté seine et eure tours metropole eure et loir   chartrespartenaires officiels 2019   pharma dec caisse d'epargne altran biotech quality group   copyright © 2019 polepharma - mentions légales - politique de   confidentialité   en poursuivant votre navigation sur le site, vous acceptez   l'utilisation de cookies à des fins de mesure d'audience.   fermer   x   (button) ×   iframe: https://player.vimeo.com/video/151642050?autoplay=1   #polepharma » flux polepharma » flux des commentaires 3ème colloque   polepharma rh : demandez le programme ! les jeudis de polepharma   alternate alternate   polepharma   polepharma ﻿ recherche_________ submit   (button) toggle navigation   polepharma     * polepharma          + qui sommes-nous ?          + organigramme          + les chiffres clés          + un réseau     * territoires          + région centre-val de loire          + région normandie          + conseil départemental d’eure&loir          + chartres metropole          + metropole de rouen          + agglo du pays de dreux          + agglo evreux portes de normandie          + agglo seine&eure          + agglo de tours plus     * performance industrielle          + excellence opérationnelle          + maintenance          + packaging          + supply chain          + usine du futur     * talents     * relations publiques     * innovation          + biomédicaments          + fédérer          + collaborer          + promouvoir   adhérer à polepharma   espace adhérent   rechercher un adhérent   je découvre les métiers de la filière pharmaceutique   polepharma   médiathèque   espace presse   polepharma polepharma   ﻿ recherche_________ submit   polepharma polepharma     * polepharma          + qui sommes-nous ?          + organigramme          + les chiffres clés          + un réseau     * territoires          + région centre-val de loire          + région normandie          + conseil départemental d’eure&loir          + chartres metropole          + metropole de rouen          + agglo du pays de dreux          + agglo evreux portes de normandie          + agglo seine&eure          + agglo de tours plus     * performance industrielle          + excellence opérationnelle          + maintenance          + packaging          + supply chain          + usine du futur     * talents     * relations publiques     * innovation          + biomédicaments          + fédérer          + collaborer          + promouvoira la rencontre des futurs pharmaciens industriels !   7 mars 2017   la 2api est la réunion annuelle de toutes les associations   industrielles en pharmacie. c’est un week-end de formation et   d’insertion professionnelle destiné aux étudiants souhaitant se   renseigner et s’orienter vers le monde de l’industrie pharmaceutique.   il concerne tous les étudiants de la 2^ème à la 6^ème  année des 24   facultés de pharmacie, soit 300 étudiants présents les 3 au 5 mars   2017.   l’anepi caen-rouen (association normande des etudiants en pharmacie   industrielle) a été élue pour organiser l’édition 2017, dont le thème a   été : «s’adapter au monde de demain, l’évolution de la pharmacie   industrielle»   polepharma a souhaité montrer la forte présence industrielle locale   ainsi que les nombreuses possibilités de recrutements sur son bassin   (centre- val de loire; normandie; ile-de-france)   une forte mobilisation de la part de la filière :     * participation d’une dizaine de professionnels pharmaciens lors du       dîner de gala,     * animation d’une conférence de présentation du territoire,     * conduite d’un atelier pour aider lors de recherches de stage et       d’emploi     * animation d’un stand polepharma au cœur des entreprises du bassin   une rencontre aussi intéressante pour les entreprises que pour les   étudiants ravis de rencontrer les professionnels et de pouvoir échanger   sur les spécificités d’orientation dans le secteur de l’industrie du   médicament.   voir la vidéo   job-box   archives newsletter   médiathèque   espace pressepolepharma en vidéo   iframe:   //www.youtube.com/embed/k_icgpnj9wu?&autohide=1&color=red&controls=1&di   sablekb=0&fs=1&iv_load_policy=1&modestbranding=0&rel=0&showinfo=0&theme   =dark&vq=medium   tweets de @polepharma   polepharma   11 rue du cardinal pie   28000 chartres   tél. : +33 (0)2 37 20 99 90   mail : contact@polepharma.compartenaires territoires   centre val de loire région normandie agglo pays dreux evreux métropole   rouen normandie communauté seine et eure tours metropole eure et loir   chartrespartenaires officiels 2019   pharma dec caisse d'epargne altran biotech quality group   copyright © 2019 polepharma - mentions légales - politique de   confidentialité   en poursuivant votre navigation sur le site, vous acceptez   l'utilisation de cookies à des fins de mesure d'audience.   fermer   x   (button) ×   iframe: https://player.vimeo.com/video/151642050?autoplay=1   #polepharma » flux polepharma » flux des commentaires alternate   alternate   polepharma   polepharma ﻿ recherche_________ submit   (button) toggle navigation   polepharma     * polepharma          + qui sommes-nous ?          + organigramme          + les chiffres clés          + un réseau     * territoires          + région centre-val de loire          + région normandie          + conseil départemental d’eure&loir          + chartres metropole          + metropole de rouen          + agglo du pays de dreux          + agglo evreux portes de normandie          + agglo seine&eure          + agglo de tours plus     * performance industrielle          + excellence opérationnelle          + maintenance          + packaging          + supply chain          + usine du futur     * talents     * relations publiques     * innovation          + biomédicaments          + fédérer          + collaborer          + promouvoir   adhérer à polepharma   espace adhérent   rechercher un adhérent   je découvre les métiers de la filière pharmaceutique   polepharma   médiathèque   espace presse   polepharma polepharma   ﻿ recherche_________ submit   polepharma polepharma     * polepharma          + qui sommes-nous ?          + organigramme          + les chiffres clés          + un réseau     * territoires          + région centre-val de loire          + région normandie          + conseil départemental d’eure&loir          + chartres metropole          + metropole de rouen          + agglo du pays de dreux          + agglo evreux portes de normandie          + agglo seine&eure          + agglo de tours plus     * performance industrielle          + excellence opérationnelle          + maintenance          + packaging          + supply chain          + usine du futur     * talents     * relations publiques     * innovation          + biomédicaments          + fédérer          + collaborer          + promouvoirfiche adhérent   page générée par le plugin polepharma. ne pas éditer   job-box   archives newsletter   médiathèque   espace pressepolepharma en vidéo   iframe:   //www.youtube.com/embed/k_icgpnj9wu?&autohide=1&color=red&controls=1&di   sablekb=0&fs=1&iv_load_policy=1&modestbranding=0&rel=0&showinfo=0&theme   =dark&vq=medium   tweets de @polepharma   polepharma   11 rue du cardinal pie   28000 chartres   tél. : +33 (0)2 37 20 99 90   mail : contact@polepharma.compartenaires territoires   centre val de loire région normandie agglo pays dreux evreux métropole   rouen normandie communauté seine et eure tours metropole eure et loir   chartrespartenaires officiels 2019   pharma dec caisse d'epargne altran biotech quality group   copyright © 2019 polepharma - mentions légales - politique de   confidentialité   en poursuivant votre navigation sur le site, vous acceptez   l'utilisation de cookies à des fins de mesure d'audience.   fermer   x   (button) ×   iframe: https://player.vimeo.com/video/151642050?autoplay=1   #polepharma » flux polepharma » flux des commentaires polepharma » flux   des articles écrits par gregory monaca   polepharma   polepharma ﻿ recherche_________ submit   (button) toggle navigation   polepharma     * polepharma          + qui sommes-nous ?          + organigramme          + les chiffres clés          + un réseau     * territoires          + région centre-val de loire          + région normandie          + conseil départemental d’eure&loir          + chartres metropole          + metropole de rouen          + agglo du pays de dreux          + agglo evreux portes de normandie          + agglo seine&eure          + agglo de tours plus     * performance industrielle          + excellence opérationnelle          + maintenance          + packaging          + supply chain          + usine du futur     * talents     * relations publiques     * innovation          + biomédicaments          + fédérer          + collaborer          + promouvoir   adhérer à polepharma   espace adhérent   rechercher un adhérent   je découvre les métiers de la filière pharmaceutique   polepharma   médiathèque   espace presse   polepharma polepharma   ﻿ recherche_________ submit   polepharma polepharma     * polepharma          + qui sommes-nous ?          + organigramme          + les chiffres clés          + un réseau     * territoires          + région centre-val de loire          + région normandie          + conseil départemental d’eure&loir          + chartres metropole          + metropole de rouen          + agglo du pays de dreux          + agglo evreux portes de normandie          + agglo seine&eure          + agglo de tours plus     * performance industrielle          + excellence opérationnelle          + maintenance          + packaging          + supply chain          + usine du futur     * talents     * relations publiques     * innovation          + biomédicaments          + fédérer          + collaborer          + promouvoirgregory monaca   rss feedgregory monaca's latest posts   cynbiose respiratory, nouvelle société de services précliniques   spécialisée dans les maladies respiratoires et l’aérosolthérapie,   annonce le début des ses opérationscynbiose respiratory, nouvelle société de services précliniques spécialiséedans les maladies respiratoires et l’aérosolthérapie, annonce le début desses opérations   24 janvier 2018   cynbiose respiratory (tours, france) est une société de recherche   clinique hyperspécialisée créée sur la base des savoir-faire de ses   co-fondateurs : la société cynbiose (marcy l’étoile, france),   spécialisée dans les modèles précliniques innovants et le centre de   recherche scientifique pour les maladies respiratoires – inserm umr1100   (tours, france) qui contribue à la découverte et au […]   lire la suite   polepharma, le cluster français de production pharmaceutiquepolepharma, le cluster français de production pharmaceutique   16 mai 2014   la filière santé et le territoire ont réfléchi sur les points forts,   les arguments et les propositions qui seront portés au niveau des   décideurs nationaux. lors des derniers polepharma meetings, lieu de   rencontre, d’e?change et de construction communs a? l’ensemble des   acteurs de la chai?ne de sante?, polepharma a favorisé une prise de   conscience des grands enjeux […]   lire la suite   polepharma packagingpolepharma packaging   7 mai 2014   a l’initiative de ses adhe?rents, et en s’appuyant sur leur expertise,   polepharma a organisé « les rencontres du packaging pharmaceutique »   2e?me edition. qu’ils soient primaires ou secondaires, tous les   emballages contribuent a? leur niveau a? la mise a? disposition de   me?dicaments aupre?s de patients. soumis a? des re?glementations tre?s   strictes, ces emballages ne font […]   lire la suite   job-box   archives newsletter   médiathèque   espace pressepolepharma en vidéo   iframe:   //www.youtube.com/embed/k_icgpnj9wu?&autohide=1&color=red&controls=1&di   sablekb=0&fs=1&iv_load_policy=1&modestbranding=0&rel=0&showinfo=0&theme   =dark&vq=medium   tweets de @polepharma   polepharma   11 rue du cardinal pie   28000 chartres   tél. : +33 (0)2 37 20 99 90   mail : contact@polepharma.compartenaires territoires   centre val de loire région normandie agglo pays dreux evreux métropole   rouen normandie communauté seine et eure tours metropole eure et loir   chartrespartenaires officiels 2019   pharma dec caisse d'epargne altran biotech quality group   copyright © 2019 polepharma - mentions légales - politique de   confidentialité   en poursuivant votre navigation sur le site, vous acceptez   l'utilisation de cookies à des fins de mesure d'audience.   fermer   x   (button) ×   iframe: https://player.vimeo.com/video/151642050?autoplay=1   #polepharma » flux polepharma » flux des commentaires alternate   alternate   polepharma   polepharma ﻿ recherche_________ submit   (button) toggle navigation   polepharma     * polepharma          + qui sommes-nous ?          + organigramme          + les chiffres clés          + un réseau     * territoires          + région centre-val de loire          + région normandie          + conseil départemental d’eure&loir          + chartres metropole          + metropole de rouen          + agglo du pays de dreux          + agglo evreux portes de normandie          + agglo seine&eure          + agglo de tours plus     * performance industrielle          + excellence opérationnelle          + maintenance          + packaging          + supply chain          + usine du futur     * talents     * relations publiques     * innovation          + biomédicaments          + fédérer          + collaborer          + promouvoir   adhérer à polepharma   espace adhérent   rechercher un adhérent   je découvre les métiers de la filière pharmaceutique   polepharma   médiathèque   espace presse   polepharma polepharma   ﻿ recherche_________ submit   polepharma polepharma     * polepharma          + qui sommes-nous ?          + organigramme          + les chiffres clés          + un réseau     * territoires          + région centre-val de loire          + région normandie          + conseil départemental d’eure&loir          + chartres metropole          + metropole de rouen          + agglo du pays de dreux          + agglo evreux portes de normandie          + agglo seine&eure          + agglo de tours plus     * performance industrielle          + excellence opérationnelle          + maintenance          + packaging          + supply chain          + usine du futur     * talents     * relations publiques     * innovation          + biomédicaments          + fédérer          + collaborer          + promouvoir     * lancement d’un ami national pour l’émergence de projets       collaboratifs d’innovationlancement d’un ami national pour l’émergence de projets collaboratifsd’innovation       afin de répondre à la priorité « technologies de ruptures       en bioproduction (trbp) » identifiée dans le contrat de filière du       csf « industries et technologies de...       > lire la suite     * polepharma, partenaire du colloque international adebiotechpolepharma, partenaire du colloque international adebiotech       polepharma est partenaire du colloque international adebiotech «       advanced analytical technologies for proteins »  (aatp),  2-3       octobre 2019 à biocitech (romainville-grand paris) qui couvrira       les...       > lire la suite     * agro-bio lance son nouveau site internet !agro-bio lance son nouveau site internet !       agro-bio lance son nouveau site internet ! les nouveautés       principales de cette version 2019 sont : la mise en cohérence avec       notre nouvelle offre de prestations...       > lire la suite     * soirées 18/21 polepharma réseau : toutes les datessoirées 18/21 polepharma réseau : toutes les dates          le réseau s’enrichit   participer aux soirées 18/21 réseau       polepharma c’est : rencontrer les acteurs du développement et de la       production pharmaceutique développer et entretenir votre réseau...       > lire la suite     * save the date : congrès polepharma bioproduction – 12 & 13 décembre       2019save the date : congrès polepharma bioproduction – 12 & 13 décembre 2019       congrès polepharma bioproduction – 4ème édition les 12 &       13 décembre 2019 au palais des congrès de tours sous la présidence       de thierry ziegler, head of manufacturing de cellectis. dans un...       > lire la suite     * save the date : colloque polepharma industrie du futur – 28       novembre 2019save the date : colloque polepharma industrie du futur – 28 novembre 2019       colloque polepharma industrie du futur – 3ème édition le 28       novembre 2019 au kindarena de rouen sous la présidence de yann       gharfourzadeh, vice president sales & operation emea pharma du       groupe...       > lire la suite     * polepharma recrute !polepharma recrute !       portée par son dynamisme, l’équipe s’agrandit !  polepharma recrute       :   un chef de projet affaires pharmaceutiques           un chef de       projet innovations...       > lire la suite     * comprendre en 1mn50 les métiers de la production pharmaceutiquecomprendre en 1mn50 les métiers de la production pharmaceutique       lancer la vidéo vous recherchez un emploi ? avez-vous pensé aux       métiers de la production de l’industrie pharmaceutique ? la france       est l’un des premiers producteurs européens...       > lire la suite     * comprendre les biomédicaments en 2 minutes, c’est possible !comprendre les biomédicaments en 2 minutes, c’est possible !       les biomédicaments en vidéo cliquez ici...       > lire la suiteinscriptionaux événements   12 au 13 décembre 2019   > centre international de congrès de tours   colloque polepharma bioproduction - 4éme ed.   inscription   10 décembre 2019   > oril   workshop 2 digitalisation et culture qualité / 10 décembre 2019   inscription   03 décembre 2019   > sanofi   séminaire spécial inspections   inscription   28 novembre 2019   > kindarena   colloque polepharma industrie du futur - 3ème edition   inscription   19 au 20 novembre 2019   > centre international de congrès de tours   tips 2019   inscription   31 octobre 2019   > hotel de région normandie rouen   les assises polepharma de l'innovation en normandie 2nd edition   inscription   23 octobre 2019   > golf du bois d'o   soirée polepharma réseau - dreux (28)   inscription   17 octobre 2019   > uimm   workshop 1 digitalisation et culture qualité / 17 octobre 2019   inscription   10 octobre 2019   > evreux   rencontres polepharma de l'amélioration continue - 3e édition   inscription   25 septembre 2019   > le paganica   soirée polepharma réseau - evreux (27)   inscription   04 juillet 2019   > dreux - (28)   la fabrh polepharma #1   inscription   28 juin 2019   > golf parc robert hersant   polepharma business tour   inscription   26 juin 2019   > golf de caen la mer,   soirée polepharma réseau - caen (14)   inscription   23 mai 2019   > golf du bois d'o   soirée polepharma réseau - dreux (28)   inscription   16 mai 2019   > château royal de blois   assemblée générale polepharma 2019   inscription   14 mai 2019   > hôtel national des invalides   colloque souveraineté medicaments & api   inscription   14 mai 2019   >   tec'lab: realité virtuelle appliquée   inscription   09 au 10 avril 2019   > ufr sante rouen   les journées polepharma de microbiomique   inscription   28 mars 2019   > synchrotron soleil   soirée polepharma réseau - paris saclay (91)   inscription   07 mars 2019   > novotel rouen sud   mat'inno polepharma \"développer son business à l'international\"   inscription   05 mars au 23 avril 2019   > le hangar   9ème afterwork biomédicament   inscription   28 février 2019   > golf de léry-poses   soirée polepharma réseau - louviers (27)   inscription   07 février 2019   > cotton club   atelier propriété industrielle / 07 fev 2019   inscription   07 février 2019   > cotton club   atelier propriété industrielle - 7 février 2019   inscription   04 février 2019   > delpharm evreux   invitation : visite delpharm evreux   inscription   02 février 2019   > caen   phinder de la pharma : forum national des facultés de pharmacie   inscription   31 janvier 2019   > golf de chartres fontenay   soirée polepharma réseau - chartres (28)   inscription   15 janvier 2019   > novotel rouen sud   les mat'inno polepharma \"financement européen des projets r&d\"   inscription   20 décembre 2018   > centre international de congrès de tours   colloque polepharma bioproduction - 3éme ed.   inscription   12 décembre 2018   > le paganica   soirée polepharma réseau - evreux (27)   inscription   04 décembre 2018   > la filature   rencontres polepharma amélioration continue – 2e édition   inscription   29 novembre 2018   > hôtel dupanloup   8ème afterwork biomédicaments   inscription   22 novembre 2018   > cotton club   atelier polepharma propriété industrielle   inscription   15 novembre 2018   > cenexis hsc   soirée réseau 18/21 polepharma & nucleopolis - caen   inscription   08 novembre 2018   > centre de congrès d'orléans   colloque polepharma industrie du futur - 2e edition   inscriptioninscriptionaux événements   10 octobre 2019   > evreux   rencontres polepharma de l'amélioration continue - 3e édition   inscription   17 octobre 2019   > uimm   workshop 1 digitalisation et culture qualité / 17 octobre 2019   inscription   23 octobre 2019   > golf du bois d'o   soirée polepharma réseau - dreux (28)   inscription   31 octobre 2019   > hotel de région normandie rouen   les assises polepharma de l'innovation en normandie 2nd edition   inscription   19 au 20 novembre 2019   > centre international de congrès de tours   tips 2019   inscription   28 novembre 2019   > kindarena   colloque polepharma industrie du futur - 3ème edition   inscription   03 décembre 2019   > sanofi   séminaire spécial inspections   inscription   10 décembre 2019   > oril   workshop 2 digitalisation et culture qualité / 10 décembre 2019   inscription   12 au 13 décembre 2019   > centre international de congrès de tours   colloque polepharma bioproduction - 4éme ed.   inscription   événements precedents   adhérer à polepharma   espace adhérent   rechercher un adhérentun réseau performant,      un territoire cohérent   carte polepharma   job-box   archives newsletter   médiathèque   espace pressepolepharma en vidéo   iframe:   //www.youtube.com/embed/k_icgpnj9wu?&autohide=1&color=red&controls=1&di   sablekb=0&fs=1&iv_load_policy=1&modestbranding=0&rel=0&showinfo=0&theme   =dark&vq=medium   tweets de @polepharma   polepharma   11 rue du cardinal pie   28000 chartres   tél. : +33 (0)2 37 20 99 90   mail : contact@polepharma.compartenaires territoires   centre val de loire région normandie agglo pays dreux evreux métropole   rouen normandie communauté seine et eure tours metropole eure et loir   chartrespartenaires officiels 2019   pharma dec caisse d'epargne altran biotech quality group   copyright © 2019 polepharma - mentions légales - politique de   confidentialité   en poursuivant votre navigation sur le site, vous acceptez   l'utilisation de cookies à des fins de mesure d'audience.   fermer   x   (button) ×   iframe: https://player.vimeo.com/video/151642050?autoplay=1   #polepharma » flux polepharma » flux des commentaires 3ème colloque   polepharma rh : demandez le programme ! les jeudis de polepharma   alternate alternate   polepharma   polepharma ﻿ recherche_________ submit   (button) toggle navigation   polepharma     * polepharma          + qui sommes-nous ?          + organigramme          + les chiffres clés          + un réseau     * territoires          + région centre-val de loire          + région normandie          + conseil départemental d’eure&loir          + chartres metropole          + metropole de rouen          + agglo du pays de dreux          + agglo evreux portes de normandie          + agglo seine&eure          + agglo de tours plus     * performance industrielle          + excellence opérationnelle          + maintenance          + packaging          + supply chain          + usine du futur     * talents     * relations publiques     * innovation          + biomédicaments          + fédérer          + collaborer          + promouvoir   adhérer à polepharma   espace adhérent   rechercher un adhérent   je découvre les métiers de la filière pharmaceutique   polepharma   médiathèque   espace presse   polepharma polepharma   ﻿ recherche_________ submit   polepharma polepharma     * polepharma          + qui sommes-nous ?          + organigramme          + les chiffres clés          + un réseau     * territoires          + région centre-val de loire          + région normandie          + conseil départemental d’eure&loir          + chartres metropole          + metropole de rouen          + agglo du pays de dreux          + agglo evreux portes de normandie          + agglo seine&eure          + agglo de tours plus     * performance industrielle          + excellence opérationnelle          + maintenance          + packaging          + supply chain          + usine du futur     * talents     * relations publiques     * innovation          + biomédicaments          + fédérer          + collaborer          + promouvoira la rencontre des futurs pharmaciens industriels !   7 mars 2017   la 2api est la réunion annuelle de toutes les associations   industrielles en pharmacie. c’est un week-end de formation et   d’insertion professionnelle destiné aux étudiants souhaitant se   renseigner et s’orienter vers le monde de l’industrie pharmaceutique.   il concerne tous les étudiants de la 2^ème à la 6^ème  année des 24   facultés de pharmacie, soit 300 étudiants présents les 3 au 5 mars   2017.   l’anepi caen-rouen (association normande des etudiants en pharmacie   industrielle) a été élue pour organiser l’édition 2017, dont le thème a   été : «s’adapter au monde de demain, l’évolution de la pharmacie   industrielle»   polepharma a souhaité montrer la forte présence industrielle locale   ainsi que les nombreuses possibilités de recrutements sur son bassin   (centre- val de loire; normandie; ile-de-france)   une forte mobilisation de la part de la filière :     * participation d’une dizaine de professionnels pharmaciens lors du       dîner de gala,     * animation d’une conférence de présentation du territoire,     * conduite d’un atelier pour aider lors de recherches de stage et       d’emploi     * animation d’un stand polepharma au cœur des entreprises du bassin   une rencontre aussi intéressante pour les entreprises que pour les   étudiants ravis de rencontrer les professionnels et de pouvoir échanger   sur les spécificités d’orientation dans le secteur de l’industrie du   médicament.   voir la vidéo   job-box   archives newsletter   médiathèque   espace pressepolepharma en vidéo   iframe:   //www.youtube.com/embed/k_icgpnj9wu?&autohide=1&color=red&controls=1&di   sablekb=0&fs=1&iv_load_policy=1&modestbranding=0&rel=0&showinfo=0&theme   =dark&vq=medium   tweets de @polepharma   polepharma   11 rue du cardinal pie   28000 chartres   tél. : +33 (0)2 37 20 99 90   mail : contact@polepharma.compartenaires territoires   centre val de loire région normandie agglo pays dreux evreux métropole   rouen normandie communauté seine et eure tours metropole eure et loir   chartrespartenaires officiels 2019   pharma dec caisse d'epargne altran biotech quality group   copyright © 2019 polepharma - mentions légales - politique de   confidentialité   en poursuivant votre navigation sur le site, vous acceptez   l'utilisation de cookies à des fins de mesure d'audience.   fermer   x   (button) ×   iframe: https://player.vimeo.com/video/151642050?autoplay=1   #polepharma » flux polepharma » flux des commentaires alternate   alternate   polepharma   polepharma ﻿ recherche_________ submit   (button) toggle navigation   polepharma     * polepharma          + qui sommes-nous ?          + organigramme          + les chiffres clés          + un réseau     * territoires          + région centre-val de loire          + région normandie          + conseil départemental d’eure&loir          + chartres metropole          + metropole de rouen          + agglo du pays de dreux          + agglo evreux portes de normandie          + agglo seine&eure          + agglo de tours plus     * performance industrielle          + excellence opérationnelle          + maintenance          + packaging          + supply chain          + usine du futur     * talents     * relations publiques     * innovation          + biomédicaments          + fédérer          + collaborer          + promouvoir   adhérer à polepharma   espace adhérent   rechercher un adhérent   je découvre les métiers de la filière pharmaceutique   polepharma   médiathèque   espace presse   polepharma polepharma   ﻿ recherche_________ submit   polepharma polepharma     * polepharma          + qui sommes-nous ?          + organigramme          + les chiffres clés          + un réseau     * territoires          + région centre-val de loire          + région normandie          + conseil départemental d’eure&loir          + chartres metropole          + metropole de rouen          + agglo du pays de dreux          + agglo evreux portes de normandie          + agglo seine&eure          + agglo de tours plus     * performance industrielle          + excellence opérationnelle          + maintenance          + packaging          + supply chain          + usine du futur     * talents     * relations publiques     * innovation          + biomédicaments          + fédérer          + collaborer          + promouvoirfiche adhérent   page générée par le plugin polepharma. ne pas éditer   job-box   archives newsletter   médiathèque   espace pressepolepharma en vidéo   iframe:   //www.youtube.com/embed/k_icgpnj9wu?&autohide=1&color=red&controls=1&di   sablekb=0&fs=1&iv_load_policy=1&modestbranding=0&rel=0&showinfo=0&theme   =dark&vq=medium   tweets de @polepharma   polepharma   11 rue du cardinal pie   28000 chartres   tél. : +33 (0)2 37 20 99 90   mail : contact@polepharma.compartenaires territoires   centre val de loire région normandie agglo pays dreux evreux métropole   rouen normandie communauté seine et eure tours metropole eure et loir   chartrespartenaires officiels 2019   pharma dec caisse d'epargne altran biotech quality group   copyright © 2019 polepharma - mentions légales - politique de   confidentialité   en poursuivant votre navigation sur le site, vous acceptez   l'utilisation de cookies à des fins de mesure d'audience.   fermer   x   (button) ×   iframe: https://player.vimeo.com/video/151642050?autoplay=1   #polepharma » flux polepharma » flux des commentaires polepharma » flux   des articles écrits par gregory monaca   polepharma   polepharma ﻿ recherche_________ submit   (button) toggle navigation   polepharma     * polepharma          + qui sommes-nous ?          + organigramme          + les chiffres clés          + un réseau     * territoires          + région centre-val de loire          + région normandie          + conseil départemental d’eure&loir          + chartres metropole          + metropole de rouen          + agglo du pays de dreux          + agglo evreux portes de normandie          + agglo seine&eure          + agglo de tours plus     * performance industrielle          + excellence opérationnelle          + maintenance          + packaging          + supply chain          + usine du futur     * talents     * relations publiques     * innovation          + biomédicaments          + fédérer          + collaborer          + promouvoir   adhérer à polepharma   espace adhérent   rechercher un adhérent   je découvre les métiers de la filière pharmaceutique   polepharma   médiathèque   espace presse   polepharma polepharma   ﻿ recherche_________ submit   polepharma polepharma     * polepharma          + qui sommes-nous ?          + organigramme          + les chiffres clés          + un réseau     * territoires          + région centre-val de loire          + région normandie          + conseil départemental d’eure&loir          + chartres metropole          + metropole de rouen          + agglo du pays de dreux          + agglo evreux portes de normandie          + agglo seine&eure          + agglo de tours plus     * performance industrielle          + excellence opérationnelle          + maintenance          + packaging          + supply chain          + usine du futur     * talents     * relations publiques     * innovation          + biomédicaments          + fédérer          + collaborer          + promouvoirgregory monaca   rss feedgregory monaca's latest posts   cynbiose respiratory, nouvelle société de services précliniques   spécialisée dans les maladies respiratoires et l’aérosolthérapie,   annonce le début des ses opérationscynbiose respiratory, nouvelle société de services précliniques spécialiséedans les maladies respiratoires et l’aérosolthérapie, annonce le début desses opérations   24 janvier 2018   cynbiose respiratory (tours, france) est une société de recherche   clinique hyperspécialisée créée sur la base des savoir-faire de ses   co-fondateurs : la société cynbiose (marcy l’étoile, france),   spécialisée dans les modèles précliniques innovants et le centre de   recherche scientifique pour les maladies respiratoires – inserm umr1100   (tours, france) qui contribue à la découverte et au […]   lire la suite   polepharma, le cluster français de production pharmaceutiquepolepharma, le cluster français de production pharmaceutique   16 mai 2014   la filière santé et le territoire ont réfléchi sur les points forts,   les arguments et les propositions qui seront portés au niveau des   décideurs nationaux. lors des derniers polepharma meetings, lieu de   rencontre, d’e?change et de construction communs a? l’ensemble des   acteurs de la chai?ne de sante?, polepharma a favorisé une prise de   conscience des grands enjeux […]   lire la suite   polepharma packagingpolepharma packaging   7 mai 2014   a l’initiative de ses adhe?rents, et en s’appuyant sur leur expertise,   polepharma a organisé « les rencontres du packaging pharmaceutique »   2e?me edition. qu’ils soient primaires ou secondaires, tous les   emballages contribuent a? leur niveau a? la mise a? disposition de   me?dicaments aupre?s de patients. soumis a? des re?glementations tre?s   strictes, ces emballages ne font […]   lire la suite   job-box   archives newsletter   médiathèque   espace pressepolepharma en vidéo   iframe:   //www.youtube.com/embed/k_icgpnj9wu?&autohide=1&color=red&controls=1&di   sablekb=0&fs=1&iv_load_policy=1&modestbranding=0&rel=0&showinfo=0&theme   =dark&vq=medium   tweets de @polepharma   polepharma   11 rue du cardinal pie   28000 chartres   tél. : +33 (0)2 37 20 99 90   mail : contact@polepharma.compartenaires territoires   centre val de loire région normandie agglo pays dreux evreux métropole   rouen normandie communauté seine et eure tours metropole eure et loir   chartrespartenaires officiels 2019   pharma dec caisse d'epargne altran biotech quality group   copyright © 2019 polepharma - mentions légales - politique de   confidentialité   en poursuivant votre navigation sur le site, vous acceptez   l'utilisation de cookies à des fins de mesure d'audience.   fermer   x   (button) ×   iframe: https://player.vimeo.com/video/151642050?autoplay=1\n"
     ]
    }
   ],
   "source": [
    "print(data_train['text']['9032'])"
   ]
  },
  {
   "cell_type": "code",
   "execution_count": 11,
   "metadata": {
    "scrolled": true
   },
   "outputs": [
    {
     "data": {
      "text/html": [
       "<div>\n",
       "<style scoped>\n",
       "    .dataframe tbody tr th:only-of-type {\n",
       "        vertical-align: middle;\n",
       "    }\n",
       "\n",
       "    .dataframe tbody tr th {\n",
       "        vertical-align: top;\n",
       "    }\n",
       "\n",
       "    .dataframe thead th {\n",
       "        text-align: right;\n",
       "    }\n",
       "</style>\n",
       "<table border=\"1\" class=\"dataframe\">\n",
       "  <thead>\n",
       "    <tr style=\"text-align: right;\">\n",
       "      <th></th>\n",
       "      <th>text</th>\n",
       "    </tr>\n",
       "  </thead>\n",
       "  <tbody>\n",
       "    <tr>\n",
       "      <td>0</td>\n",
       "      <td>[27997,    iframe: //www.googletagmanager.com/...</td>\n",
       "    </tr>\n",
       "    <tr>\n",
       "      <td>1</td>\n",
       "      <td>[9316,    iframe: https://www.googletagmanager...</td>\n",
       "    </tr>\n",
       "    <tr>\n",
       "      <td>2</td>\n",
       "      <td>[27045,    #toutes les astuces beauté ⋅ astuce...</td>\n",
       "    </tr>\n",
       "    <tr>\n",
       "      <td>3</td>\n",
       "      <td>[19805,    [logodefault.jpg]   [etab_juvisy-su...</td>\n",
       "    </tr>\n",
       "    <tr>\n",
       "      <td>4</td>\n",
       "      <td>[26580,    #l'école de demain » flux l'école d...</td>\n",
       "    </tr>\n",
       "  </tbody>\n",
       "</table>\n",
       "</div>"
      ],
      "text/plain": [
       "                                                text\n",
       "0  [27997,    iframe: //www.googletagmanager.com/...\n",
       "1  [9316,    iframe: https://www.googletagmanager...\n",
       "2  [27045,    #toutes les astuces beauté ⋅ astuce...\n",
       "3  [19805,    [logodefault.jpg]   [etab_juvisy-su...\n",
       "4  [26580,    #l'école de demain » flux l'école d..."
      ]
     },
     "execution_count": 11,
     "metadata": {},
     "output_type": "execute_result"
    }
   ],
   "source": [
    "data_test = pd.DataFrame({'text': X_test,})\n",
    "data_test.head()"
   ]
  },
  {
   "cell_type": "code",
   "execution_count": 12,
   "metadata": {},
   "outputs": [
    {
     "data": {
      "text/html": [
       "<div>\n",
       "<style scoped>\n",
       "    .dataframe tbody tr th:only-of-type {\n",
       "        vertical-align: middle;\n",
       "    }\n",
       "\n",
       "    .dataframe tbody tr th {\n",
       "        vertical-align: top;\n",
       "    }\n",
       "\n",
       "    .dataframe thead th {\n",
       "        text-align: right;\n",
       "    }\n",
       "</style>\n",
       "<table border=\"1\" class=\"dataframe\">\n",
       "  <thead>\n",
       "    <tr style=\"text-align: right;\">\n",
       "      <th></th>\n",
       "      <th>text</th>\n",
       "    </tr>\n",
       "    <tr>\n",
       "      <th>test_host</th>\n",
       "      <th></th>\n",
       "    </tr>\n",
       "  </thead>\n",
       "  <tbody>\n",
       "    <tr>\n",
       "      <td>27997</td>\n",
       "      <td>iframe: //www.googletagmanager.com/ns.html?...</td>\n",
       "    </tr>\n",
       "    <tr>\n",
       "      <td>9316</td>\n",
       "      <td>iframe: https://www.googletagmanager.com/ns...</td>\n",
       "    </tr>\n",
       "    <tr>\n",
       "      <td>27045</td>\n",
       "      <td>#toutes les astuces beauté ⋅ astuces beauté...</td>\n",
       "    </tr>\n",
       "    <tr>\n",
       "      <td>19805</td>\n",
       "      <td>[logodefault.jpg]   [etab_juvisy-sur-orge.p...</td>\n",
       "    </tr>\n",
       "    <tr>\n",
       "      <td>26580</td>\n",
       "      <td>#l'école de demain » flux l'école de demain...</td>\n",
       "    </tr>\n",
       "  </tbody>\n",
       "</table>\n",
       "</div>"
      ],
      "text/plain": [
       "                                                        text\n",
       "test_host                                                   \n",
       "27997         iframe: //www.googletagmanager.com/ns.html?...\n",
       "9316          iframe: https://www.googletagmanager.com/ns...\n",
       "27045         #toutes les astuces beauté ⋅ astuces beauté...\n",
       "19805         [logodefault.jpg]   [etab_juvisy-sur-orge.p...\n",
       "26580         #l'école de demain » flux l'école de demain..."
      ]
     },
     "execution_count": 12,
     "metadata": {},
     "output_type": "execute_result"
    }
   ],
   "source": [
    "data_test[['test_host','text']] = pd.DataFrame(data_test.text.values.tolist(), index= data_test.index)\n",
    "data_test.set_index('test_host', inplace=True)\n",
    "data_test.head()"
   ]
  },
  {
   "cell_type": "code",
   "execution_count": 13,
   "metadata": {},
   "outputs": [
    {
     "data": {
      "text/plain": [
       "(560, 1)"
      ]
     },
     "execution_count": 13,
     "metadata": {},
     "output_type": "execute_result"
    }
   ],
   "source": [
    "data_test.shape"
   ]
  },
  {
   "cell_type": "code",
   "execution_count": 14,
   "metadata": {},
   "outputs": [],
   "source": [
    "labels = ['business/finance', 'education/research', 'entertainment', 'health/medical',\n",
    "          'news/press', 'politics/government/law', 'sports', 'tech/science']"
   ]
  },
  {
   "cell_type": "markdown",
   "metadata": {},
   "source": [
    "## 2.Preprocessing"
   ]
  },
  {
   "cell_type": "code",
   "execution_count": 15,
   "metadata": {},
   "outputs": [],
   "source": [
    "### Remove html tags and uris from contents\n",
    "uri_re = r'(?i)\\b((?:https?://|www\\d{0,3}[.]|[a-z0-9.\\-]+[.][a-z]{2,4}/)(?:[^\\s()<>]+|\\(([^\\s()<>]+|(\\([^\\s()<>]+\\)))*\\))+(?:\\(([^\\s()<>]+|(\\([^\\s()<>]+\\)))*\\)|[^\\s`!()\\[\\]{};:\\'\".,<>?«»“”‘’]))'\n",
    "\n",
    "def stripTagsAndUris(x):\n",
    "    if x:\n",
    "        # BeautifulSoup on content\n",
    "        soup = BeautifulSoup(x, \"html.parser\")\n",
    "        # Stripping all <code> tags with their content if any\n",
    "        if soup.code:\n",
    "            soup.code.decompose()\n",
    "        # Get all the text out of the html\n",
    "        text =  soup.get_text()\n",
    "        # Returning text stripping out all uris\n",
    "        return re.sub(uri_re, \"\", text)\n",
    "    else:\n",
    "        return \"\""
   ]
  },
  {
   "cell_type": "code",
   "execution_count": 17,
   "metadata": {},
   "outputs": [],
   "source": [
    "def removePunctuation(x):\n",
    "    # Lowercasing all words\n",
    "    x = x.lower()\n",
    "    # Removing non ASCII chars\n",
    "    x = re.sub(r'[^\\x00-\\x7f]',r' ',x)\n",
    "    # Removing (replacing with empty spaces actually) all the punctuations\n",
    "    return re.sub(\"[\"+string.punctuation+\"]\", \" \", x)"
   ]
  },
  {
   "cell_type": "code",
   "execution_count": 20,
   "metadata": {},
   "outputs": [],
   "source": [
    "#Removing stopwords \n",
    "from nltk.corpus import stopwords\n",
    "import numpy as np\n",
    "import pickle\n",
    "\n",
    "stops = set(stopwords.words('french'))\n",
    "def removeStopwords(x):\n",
    "    # Removing all the stopwords\n",
    "    filtered_words = [word for word in x.split() if word not in stops]\n",
    "    return \" \".join(filtered_words)"
   ]
  },
  {
   "cell_type": "code",
   "execution_count": null,
   "metadata": {},
   "outputs": [],
   "source": []
  }
 ],
 "metadata": {
  "kernelspec": {
   "display_name": "Python 3",
   "language": "python",
   "name": "python3"
  },
  "language_info": {
   "codemirror_mode": {
    "name": "ipython",
    "version": 3
   },
   "file_extension": ".py",
   "mimetype": "text/x-python",
   "name": "python",
   "nbconvert_exporter": "python",
   "pygments_lexer": "ipython3",
   "version": "3.7.5"
  }
 },
 "nbformat": 4,
 "nbformat_minor": 2
}
