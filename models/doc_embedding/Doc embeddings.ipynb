{
 "cells": [
  {
   "cell_type": "markdown",
   "metadata": {},
   "source": [
    "## Opening docs"
   ]
  },
  {
   "cell_type": "code",
   "execution_count": 1,
   "metadata": {},
   "outputs": [],
   "source": [
    "import numpy as np\n",
    "import pandas as pd\n",
    "from nltk.corpus import stopwords\n",
    "import re\n",
    "import string\n",
    "import os\n",
    "import networkx as nx\n",
    "import codecs\n",
    "from os import path"
   ]
  },
  {
   "cell_type": "code",
   "execution_count": 3,
   "metadata": {},
   "outputs": [],
   "source": [
    "# %load ../../utils/read_data.py\n",
    "import networkx as nx\n",
    "import codecs\n",
    "import os\n",
    "from os import path\n",
    "\n",
    "def get_data_train(data_path='./data/'):\n",
    "    with open(path.join(data_path, \"train.csv\"), 'r') as f:\n",
    "        train_data = f.read().splitlines()\n",
    "\n",
    "    train_hosts = list()\n",
    "    y_train = list()\n",
    "    for row in train_data:\n",
    "        host, label = row.split(\",\")\n",
    "        train_hosts.append(host)\n",
    "        y_train.append(label.lower())\n",
    "\n",
    "    # Text data\n",
    "    # Load the textual content of a set of webpages for each host into the dictionary \"data\".\n",
    "    # The encoding parameter is required since the majority of our data is french.\n",
    "    text = dict()\n",
    "    text_path = path.join(data_path, 'text/')\n",
    "    filenames = os.listdir(text_path)\n",
    "\n",
    "    for filename in filenames:\n",
    "        try:\n",
    "            with codecs.open(path.join(text_path, filename), encoding='utf-8') as f:\n",
    "                text[filename] = f.read().replace(\"\\n\", \"\").lower()\n",
    "        except:\n",
    "            with codecs.open(path.join(text_path, filename), encoding='latin-1') as f:\n",
    "                text[filename] = f.read().replace(\"\\n\", \"\").lower()\n",
    "\n",
    "    X_train = list()\n",
    "    for host in train_hosts:\n",
    "        if host in text:\n",
    "            X_train.append([host, text[host]])\n",
    "        else:\n",
    "            X_train.append([host, ''])\n",
    "\n",
    "    return X_train, y_train\n",
    "\n",
    "\n",
    "def get_data_full(data_path='./data/'):\n",
    "    with open(path.join(data_path, \"train.csv\"), 'r') as f:\n",
    "        train_data = f.read().splitlines()\n",
    "    with open(path.join(data_path, \"test.csv\"), 'r') as f:\n",
    "        test_hosts = f.read().splitlines()\n",
    "\n",
    "    train_hosts = list()\n",
    "    y_train = list()\n",
    "    for row in train_data:\n",
    "        host, label = row.split(\",\")\n",
    "        train_hosts.append(host)\n",
    "        y_train.append(label.lower())\n",
    "\n",
    "    # Text data\n",
    "    # Load the textual content of a set of webpages for each host into the dictionary \"data\".\n",
    "    # The encoding parameter is required since the majority of our data is french.\n",
    "    text = dict()\n",
    "    text_path = path.join(data_path, 'text/')\n",
    "    filenames = os.listdir(text_path)\n",
    "\n",
    "    for filename in filenames:\n",
    "        try:\n",
    "            with codecs.open(path.join(text_path, filename), encoding='utf-8') as f:\n",
    "                text[filename] = f.read().replace(\"\\n\", \"\").lower()\n",
    "        except:\n",
    "            with codecs.open(path.join(text_path, filename), encoding='latin-1') as f:\n",
    "                text[filename] = f.read().replace(\"\\n\", \"\").lower()\n",
    "\n",
    "    X_train = list()\n",
    "    for host in train_hosts:\n",
    "        if host in text:\n",
    "            X_train.append([host, text[host]])\n",
    "        else:\n",
    "            X_train.append([host, ''])\n",
    "    # Get textual content of web hosts of the test set\n",
    "    X_test = list()\n",
    "    for host in test_hosts:\n",
    "        if host in text:\n",
    "            X_test.append([host, text[host]])\n",
    "        else:\n",
    "            X_test.append([host, ''])\n",
    "    return X_train, y_train, X_test, test_hosts\n"
   ]
  },
  {
   "cell_type": "code",
   "execution_count": 4,
   "metadata": {},
   "outputs": [],
   "source": [
    "X_train, y_train, X_test, test_hosts = get_data_full(data_path='../../data/') "
   ]
  },
  {
   "cell_type": "code",
   "execution_count": 22,
   "metadata": {},
   "outputs": [
    {
     "data": {
      "text/html": [
       "<div>\n",
       "<style scoped>\n",
       "    .dataframe tbody tr th:only-of-type {\n",
       "        vertical-align: middle;\n",
       "    }\n",
       "\n",
       "    .dataframe tbody tr th {\n",
       "        vertical-align: top;\n",
       "    }\n",
       "\n",
       "    .dataframe thead th {\n",
       "        text-align: right;\n",
       "    }\n",
       "</style>\n",
       "<table border=\"1\" class=\"dataframe\">\n",
       "  <thead>\n",
       "    <tr style=\"text-align: right;\">\n",
       "      <th></th>\n",
       "      <th>text</th>\n",
       "      <th>category</th>\n",
       "    </tr>\n",
       "    <tr>\n",
       "      <th>train_host</th>\n",
       "      <th></th>\n",
       "      <th></th>\n",
       "    </tr>\n",
       "  </thead>\n",
       "  <tbody>\n",
       "    <tr>\n",
       "      <th>9032</th>\n",
       "      <td>#polepharma » flux polepharma » flux des co...</td>\n",
       "      <td>health/medical</td>\n",
       "    </tr>\n",
       "    <tr>\n",
       "      <th>5346</th>\n",
       "      <td>301 moved permanen...</td>\n",
       "      <td>entertainment</td>\n",
       "    </tr>\n",
       "    <tr>\n",
       "      <th>18778</th>\n",
       "      <td>(button) fermer   en poursuivant votre navi...</td>\n",
       "      <td>entertainment</td>\n",
       "    </tr>\n",
       "    <tr>\n",
       "      <th>11939</th>\n",
       "      <td>#hal   (button) toggle navigation   ccsd   ...</td>\n",
       "      <td>education/research</td>\n",
       "    </tr>\n",
       "    <tr>\n",
       "      <th>17502</th>\n",
       "      <td>user-agent: * disallow: disallow: /publishe...</td>\n",
       "      <td>tech/science</td>\n",
       "    </tr>\n",
       "  </tbody>\n",
       "</table>\n",
       "</div>"
      ],
      "text/plain": [
       "                                                         text  \\\n",
       "train_host                                                      \n",
       "9032           #polepharma » flux polepharma » flux des co...   \n",
       "5346                                    301 moved permanen...   \n",
       "18778          (button) fermer   en poursuivant votre navi...   \n",
       "11939          #hal   (button) toggle navigation   ccsd   ...   \n",
       "17502          user-agent: * disallow: disallow: /publishe...   \n",
       "\n",
       "                      category  \n",
       "train_host                      \n",
       "9032            health/medical  \n",
       "5346             entertainment  \n",
       "18778            entertainment  \n",
       "11939       education/research  \n",
       "17502             tech/science  "
      ]
     },
     "execution_count": 22,
     "metadata": {},
     "output_type": "execute_result"
    }
   ],
   "source": [
    "data_train = pd.DataFrame({'text': X_train,'category': y_train,})\n",
    "data_train[['train_host','text']] = pd.DataFrame(data_train.text.values.tolist(), index= data_train.index)\n",
    "data_train.set_index('train_host', inplace=True)\n",
    "data_train.head()"
   ]
  },
  {
   "cell_type": "code",
   "execution_count": 23,
   "metadata": {},
   "outputs": [
    {
     "data": {
      "text/html": [
       "<div>\n",
       "<style scoped>\n",
       "    .dataframe tbody tr th:only-of-type {\n",
       "        vertical-align: middle;\n",
       "    }\n",
       "\n",
       "    .dataframe tbody tr th {\n",
       "        vertical-align: top;\n",
       "    }\n",
       "\n",
       "    .dataframe thead th {\n",
       "        text-align: right;\n",
       "    }\n",
       "</style>\n",
       "<table border=\"1\" class=\"dataframe\">\n",
       "  <thead>\n",
       "    <tr style=\"text-align: right;\">\n",
       "      <th></th>\n",
       "      <th>text</th>\n",
       "    </tr>\n",
       "    <tr>\n",
       "      <th>test_host</th>\n",
       "      <th></th>\n",
       "    </tr>\n",
       "  </thead>\n",
       "  <tbody>\n",
       "    <tr>\n",
       "      <th>27997</th>\n",
       "      <td>iframe: //www.googletagmanager.com/ns.html?...</td>\n",
       "    </tr>\n",
       "    <tr>\n",
       "      <th>9316</th>\n",
       "      <td>iframe: https://www.googletagmanager.com/ns...</td>\n",
       "    </tr>\n",
       "    <tr>\n",
       "      <th>27045</th>\n",
       "      <td>#toutes les astuces beauté ⋅ astuces beauté...</td>\n",
       "    </tr>\n",
       "    <tr>\n",
       "      <th>19805</th>\n",
       "      <td>[logodefault.jpg]   [etab_juvisy-sur-orge.p...</td>\n",
       "    </tr>\n",
       "    <tr>\n",
       "      <th>26580</th>\n",
       "      <td>#l'école de demain » flux l'école de demain...</td>\n",
       "    </tr>\n",
       "  </tbody>\n",
       "</table>\n",
       "</div>"
      ],
      "text/plain": [
       "                                                        text\n",
       "test_host                                                   \n",
       "27997         iframe: //www.googletagmanager.com/ns.html?...\n",
       "9316          iframe: https://www.googletagmanager.com/ns...\n",
       "27045         #toutes les astuces beauté ⋅ astuces beauté...\n",
       "19805         [logodefault.jpg]   [etab_juvisy-sur-orge.p...\n",
       "26580         #l'école de demain » flux l'école de demain..."
      ]
     },
     "execution_count": 23,
     "metadata": {},
     "output_type": "execute_result"
    }
   ],
   "source": [
    "data_test = pd.DataFrame({'text': X_test,})\n",
    "data_test[['test_host','text']] = pd.DataFrame(data_test.text.values.tolist(), index= data_test.index)\n",
    "data_test.set_index('test_host', inplace=True)\n",
    "data_test.head()"
   ]
  },
  {
   "cell_type": "code",
   "execution_count": 9,
   "metadata": {},
   "outputs": [],
   "source": [
    "labels = ['business/finance', 'education/research', 'entertainment', 'health/medical',\n",
    "          'news/press', 'politics/government/law', 'sports', 'tech/science']"
   ]
  },
  {
   "cell_type": "markdown",
   "metadata": {},
   "source": [
    "## Preprocessing"
   ]
  },
  {
   "cell_type": "code",
   "execution_count": 38,
   "metadata": {},
   "outputs": [
    {
     "name": "stderr",
     "output_type": "stream",
     "text": [
      "[nltk_data] Downloading package wordnet to /home/elyes/nltk_data...\n",
      "[nltk_data]   Package wordnet is already up-to-date!\n"
     ]
    }
   ],
   "source": [
    "# %load ../../utils/text_preprocessing.py\n",
    "import numpy as np\n",
    "import pandas as pd\n",
    "import re\n",
    "import string\n",
    "import os\n",
    "import networkx as nx\n",
    "import codecs\n",
    "from os import path\n",
    "from bs4 import BeautifulSoup\n",
    "from string import digits\n",
    "from nltk.stem.snowball import FrenchStemmer\n",
    "import nltk\n",
    "from nltk.corpus import stopwords\n",
    "import numpy as np\n",
    "import pickle\n",
    "\n",
    "nltk.download('wordnet')\n",
    "import spacy\n",
    "\n",
    "### Remove html tags and uris from contents\n",
    "uri_re = r'(?i)\\b((?:https?://|www\\d{0,3}[.]|[a-z0-9.\\-]+[.][a-z]{2,4}/)(?:[^\\s()<>]+|\\(([^\\s()<>]+|(\\([^\\s()<>]+\\)))*\\))+(?:\\(([^\\s()<>]+|(\\([^\\s()<>]+\\)))*\\)|[^\\s`!()\\[\\]{};:\\'\".,<>?«»“”‘’]))'\n",
    "\n",
    "def strip_tags_and_uris(x):\n",
    "    if x:\n",
    "        # BeautifulSoup on content\n",
    "        soup = BeautifulSoup(x, \"html.parser\")\n",
    "        # Stripping all <code> tags with their content if any\n",
    "        if soup.code:\n",
    "            soup.code.decompose()\n",
    "        # Get all the text out of the html\n",
    "        text =  soup.get_text()\n",
    "        # Returning text stripping out all uris\n",
    "        return re.sub(uri_re, \"\", text)\n",
    "    else:\n",
    "        return ''\n",
    "\n",
    "def clean(x):\n",
    "    # Lowercasing all words\n",
    "    x = x.lower()\n",
    "    # Removing non ASCII chars\n",
    "    x = re.sub(r'[^\\x00-\\x7f]',r' ',x)\n",
    "#     x = re.sub(r'ô','o',x)\n",
    "#     x = re.sub(r'[éêè]','e',x)\n",
    "    x = re.sub(r'([^a-zéèûôàêô])',' ',x)\n",
    "    x = re.sub('\\n', '',x)\n",
    "    x = re.sub(\"(\\s+.\\s+)\", ' ', x)#remove any single charecters hanging between 2 spaces\n",
    "\n",
    "    # Removing (replacing with empty spaces actually) all the punctuations\n",
    "    return re.sub(\"[\"+string.punctuation+\"]\", \" \", x)\n",
    "\n",
    "stops = set(stopwords.words('french'))\n",
    "def remove_stopwords(x):\n",
    "    # Removing all the stopwords\n",
    "    filtered_words = [word for word in x.split() if word not in stops]\n",
    "    return \" \".join(filtered_words)\n",
    "\n",
    "def remove_digits(x):\n",
    "    rm_digits = str.maketrans('', '', digits)\n",
    "    res = x.translate(rm_digits)\n",
    "    return res\n",
    "\n",
    "def remove_non_alpha(x):\n",
    "    filtered_words = [word for word in x.split() if word.isalpha()]\n",
    "    return \" \".join(filtered_words)\n",
    "\n",
    "nlp = spacy.load('fr', disable=['parser', 'ner'])\n",
    "nlp.max_length = 10000000\n",
    "lemmas_to_keep = ['NOUN', 'PROPN', 'VERB', 'ADJ']\n",
    "def lemmatize(x):\n",
    "    doc = nlp(x)\n",
    "    lemmas = ' '.join(token.lemma_ for token in doc if token.pos_ in lemmas_to_keep)\n",
    "    return lemmas\n",
    "\n",
    "def full_preprocessing(df, filename):\n",
    "    try:\n",
    "        return pd.read_csv(filename)\n",
    "    except:\n",
    "        text = df[\"text\"]\n",
    "        text = text.map(strip_tags_and_uris)\n",
    "        text = text.map(clean)\n",
    "        text = text.map(remove_stopwords)\n",
    "        text = text.map(remove_non_alpha)\n",
    "        text = text.map(lemmatize)\n",
    "        df[\"text\"] = text\n",
    "        df.to_csv(filename)\n",
    "    return df"
   ]
  },
  {
   "cell_type": "code",
   "execution_count": 40,
   "metadata": {},
   "outputs": [],
   "source": [
    "data_train = full_preprocessing(data_train, 'train_clean.csv.zip')\n",
    "data_test = full_preprocessing(data_test, 'test_clean.csv.zip')"
   ]
  },
  {
   "cell_type": "markdown",
   "metadata": {},
   "source": [
    "## TF-IDF + Word2Vec for doc embeddings"
   ]
  },
  {
   "cell_type": "code",
   "execution_count": 1,
   "metadata": {},
   "outputs": [
    {
     "name": "stdout",
     "output_type": "stream",
     "text": [
      "Collecting unidecode\n",
      "  Using cached https://files.pythonhosted.org/packages/d0/42/d9edfed04228bacea2d824904cae367ee9efd05e6cce7ceaaedd0b0ad964/Unidecode-1.1.1-py2.py3-none-any.whl\n",
      "Installing collected packages: unidecode\n",
      "Successfully installed unidecode-1.1.1\n",
      "--2020-02-12 16:43:25--  http://embeddings.net/frWac_no_postag_no_phrase_500_skip_cut100.bin\n",
      "Resolving embeddings.net (embeddings.net)... 46.17.175.19\n",
      "Connecting to embeddings.net (embeddings.net)|46.17.175.19|:80... connected.\n",
      "HTTP request sent, awaiting response... 200 OK\n",
      "Length: 239625990 (229M) [application/octet-stream]\n",
      "Saving to: ‘frWac_no_postag_no_phrase_500_skip_cut100.bin’\n",
      "\n",
      "frWac_no_postag_no_ 100%[===================>] 228.52M  2.21MB/s    in 1m 56s  \n",
      "\n",
      "2020-02-12 16:45:21 (1.98 MB/s) - ‘frWac_no_postag_no_phrase_500_skip_cut100.bin’ saved [239625990/239625990]\n",
      "\n"
     ]
    }
   ],
   "source": [
    "!pip3 install unidecode\n",
    "# !wget http://embeddings.net/frWac_non_lem_no_postag_no_phrase_200_cbow_cut100.bin\n",
    "!wget http://embeddings.net/frWac_no_postag_no_phrase_500_skip_cut100.bin"
   ]
  },
  {
   "cell_type": "code",
   "execution_count": 2,
   "metadata": {},
   "outputs": [],
   "source": [
    "import gensim\n",
    "from unidecode import unidecode\n",
    "from gensim.models import KeyedVectors\n",
    "from gensim.models.doc2vec import Doc2Vec\n",
    "from gensim.models import TfidfModel\n",
    "from gensim.corpora import Dictionary\n",
    "from nltk.tokenize import word_tokenize\n",
    "\n",
    "# wv_from_bin = KeyedVectors.load_word2vec_format('frWac_non_lem_no_postag_no_phrase_200_cbow_cut100.bin', binary=True)\n",
    "wv_from_bin = KeyedVectors.load_word2vec_format('frWac_no_postag_no_phrase_500_skip_cut100.bin', binary=True)"
   ]
  },
  {
   "cell_type": "code",
   "execution_count": null,
   "metadata": {},
   "outputs": [],
   "source": [
    "data_train.rename(columns={'train_host': 'host'}, inplace=True)\n",
    "data_test.rename(columns={'test_host': 'host'}, inplace=True)\n",
    "data_all = pd.concat([data_train[['host', 'text']], data_test[['host', 'text']]], ignore_index=False)\n",
    "data_all.set_index('host', inplace=True)\n",
    "data_all.fillna('', inplace=True)"
   ]
  },
  {
   "cell_type": "code",
   "execution_count": null,
   "metadata": {},
   "outputs": [],
   "source": [
    "#Attention, on a des NaN dans les textes\n",
    "data_train[data_train.isnull().values]"
   ]
  },
  {
   "cell_type": "code",
   "execution_count": null,
   "metadata": {},
   "outputs": [],
   "source": [
    "data_test[data_test.isnull().values]"
   ]
  },
  {
   "cell_type": "code",
   "execution_count": 3,
   "metadata": {},
   "outputs": [
    {
     "data": {
      "text/plain": [
       "array([-0.27885148,  1.4402225 ,  0.3878091 ,  0.5499751 ,  1.0356766 ,\n",
       "       -0.665615  , -0.91227424, -0.03919879, -0.5777326 ,  0.88210106,\n",
       "       -0.69261515, -0.10831352, -0.4293271 ,  0.13849516, -0.35887718,\n",
       "        0.4945166 ,  1.0521551 , -0.43297562, -0.23116507,  0.47283012,\n",
       "       -0.67659676,  0.12309601,  0.07934126,  0.31882057, -1.1215628 ,\n",
       "        0.04845409, -0.27688408, -0.46135095,  0.06501197, -0.81977254,\n",
       "        0.11335801, -0.8350754 , -1.0815133 , -1.3473152 , -1.1249847 ,\n",
       "       -0.4370998 ,  0.1506656 , -0.13085753, -0.61453265,  0.2639501 ,\n",
       "       -0.04563208,  0.41600555,  0.22868875,  0.20953846, -1.5142282 ,\n",
       "        0.05854088,  0.22026904, -0.9127829 ,  0.04090389, -0.12525737,\n",
       "        0.53210586,  0.32718444, -0.20481227, -1.0238289 , -0.42477313,\n",
       "        0.7035782 ,  0.21971285, -0.73262626,  1.9909254 , -0.9284227 ,\n",
       "       -0.1883095 , -1.097982  ,  0.70539045,  0.68113166,  0.02001082,\n",
       "        0.53265023, -0.43142903,  0.5931424 , -0.33113503, -0.19586338,\n",
       "       -0.663357  , -0.01362424, -0.19823433, -0.91330063,  0.56904346,\n",
       "        0.6548645 , -0.3182643 ,  0.8460837 , -0.8248125 , -0.1129018 ,\n",
       "       -0.3921634 ,  0.02245115,  0.32322305,  0.57891226,  0.11835685,\n",
       "       -0.45759264, -0.30029884,  0.46067026,  0.24650171,  0.0047956 ,\n",
       "        0.40968212, -0.45986116, -0.94794744,  0.8114202 , -1.1157584 ,\n",
       "        0.6535021 , -0.22569251, -0.29950383,  1.0161227 ,  1.0059105 ,\n",
       "        0.9739592 ,  0.4162102 ,  0.04311219, -0.98726594, -0.62663317,\n",
       "       -0.7209304 ,  0.94424295, -0.5044221 ,  1.3369687 ,  1.0333728 ,\n",
       "       -0.93415976,  0.20954122, -0.85747427, -0.5165359 ,  0.01082657,\n",
       "       -1.5311812 ,  1.6259894 , -0.09451982,  0.7856924 ,  0.00283268,\n",
       "       -0.131943  ,  1.5839028 , -1.1279892 ,  0.29535246, -0.30451587,\n",
       "        0.29514706, -0.53451896, -1.8137422 , -0.63156843,  0.46685854,\n",
       "       -1.0151807 ,  0.03428008,  0.5437675 ,  0.25214833, -0.06597033,\n",
       "        0.06015095,  0.45315135, -0.25896612,  0.5944089 ,  0.21786611,\n",
       "       -0.27532443, -0.20893525,  0.06258449,  0.35400188, -0.19540234,\n",
       "        1.0396996 ,  0.82266176,  1.3984756 , -0.07912331, -0.18915814,\n",
       "       -0.53565824,  0.7738092 ,  0.62672716, -0.8432447 ,  0.7480703 ,\n",
       "       -0.44796678, -0.10202475, -0.03649039, -0.06174252, -0.23601721,\n",
       "       -0.5214021 , -0.41635326, -0.18377124, -0.27164885,  0.11901338,\n",
       "        1.1271749 ,  0.74443287, -0.4311522 ,  0.29200673,  0.7671112 ,\n",
       "        0.3480674 ,  1.2405242 , -0.2225309 ,  0.54097086, -0.25475073,\n",
       "       -0.6229873 ,  0.0987626 , -0.16550918,  0.3891932 , -0.5814196 ,\n",
       "       -0.67294085, -0.88734925,  0.19072002,  1.173032  , -0.26193354,\n",
       "        0.05620604,  0.26521963,  0.22611184,  1.118345  ,  0.41286537,\n",
       "        0.9865453 , -0.854047  ,  0.86345536, -0.5249066 , -0.5505783 ,\n",
       "        0.01968368, -0.9191248 ,  0.01474361,  0.16753499, -0.09171889],\n",
       "      dtype=float32)"
      ]
     },
     "execution_count": 3,
     "metadata": {},
     "output_type": "execute_result"
    }
   ],
   "source": [
    "wv_from_bin[\"sommes\"]"
   ]
  },
  {
   "cell_type": "code",
   "execution_count": 6,
   "metadata": {},
   "outputs": [],
   "source": [
    "dataset = [v[0] for v in data_all[['text']].values]\n",
    "print('a')\n",
    "dataset_tokenized = [word_tokenize(doc, language='french') if len(doc) > 0 else [] for doc in dataset]\n",
    "print('a')\n",
    "dct = Dictionary(dataset_tokenized, prune_at=1000000) \n",
    "print('a')\n",
    "corpus = [dct.doc2bow(doc) for doc in dataset_tokenized]\n",
    "print('a')\n",
    "model = TfidfModel(corpus)"
   ]
  },
  {
   "cell_type": "code",
   "execution_count": 8,
   "metadata": {},
   "outputs": [],
   "source": [
    "try:\n",
    "    doc_embeds = pickle.load(open('doc_embeds_lem.pkl', 'rb'))\n",
    "except:\n",
    "    doc_embeds = {}\n",
    "    # for fn, doc in zip(filenames, corpus):\n",
    "    for i, row in enumerate(data_all.iterrows()):\n",
    "        doc_embed = np.zeros(500)\n",
    "        doc = corpus[i]\n",
    "        doc_tfidf = model[doc]\n",
    "        l = 1\n",
    "        for word_id, freq in doc_tfidf:\n",
    "            try:\n",
    "                word = dct[word_id]\n",
    "                if len(word) > 1:\n",
    "                    word_embed = wv_from_bin[dct[word_id]]\n",
    "                    doc_embed += freq * word_embed\n",
    "                    l += 1\n",
    "            except:\n",
    "                pass\n",
    "        # doc_embeds.append(doc_embed / l)\n",
    "        doc_embeds[row[0]] = doc_embed / l\n",
    "    pickle.dump(doc_embeds, open('doc_embeds_lem.pkl', 'wb'))"
   ]
  },
  {
   "cell_type": "code",
   "execution_count": 10,
   "metadata": {},
   "outputs": [
    {
     "data": {
      "text/plain": [
       "<matplotlib.collections.PathCollection at 0x7f0a1b1fe588>"
      ]
     },
     "execution_count": 10,
     "metadata": {},
     "output_type": "execute_result"
    },
    {
     "data": {
      "image/png": "[encoded data removed]",
      "text/plain": [
       "<Figure size 432x288 with 1 Axes>"
      ]
     },
     "metadata": {
      "needs_background": "light"
     },
     "output_type": "display_data"
    }
   ],
   "source": [
    "from sklearn.manifold import TSNE\n",
    "from sklearn.decomposition import PCA\n",
    "import matplotlib.pyplot as plt\n",
    "\n",
    "my_pca = PCA(n_components=10)\n",
    "my_tsne = TSNE(n_components=2, perplexity=5)\n",
    "\n",
    "my_pca_fit = my_pca.fit_transform(doc_embeds)\n",
    "my_tsne_fit = my_tsne.fit_transform(my_pca_fit)\n",
    "\n",
    "plt.scatter(my_tsne_fit[:, 0], my_tsne_fit[:, 1],s=3) ### fill the gap ###"
   ]
  },
  {
   "cell_type": "code",
   "execution_count": 3,
   "metadata": {},
   "outputs": [
    {
     "data": {
      "text/plain": [
       "False"
      ]
     },
     "execution_count": 3,
     "metadata": {},
     "output_type": "execute_result"
    }
   ],
   "source": [
    "\"l'bête\".isalpha()"
   ]
  },
  {
   "cell_type": "code",
   "execution_count": null,
   "metadata": {},
   "outputs": [],
   "source": []
  }
 ],
 "metadata": {
  "kernelspec": {
   "display_name": "Python 3",
   "language": "python",
   "name": "python3"
  },
  "language_info": {
   "codemirror_mode": {
    "name": "ipython",
    "version": 3
   },
   "file_extension": ".py",
   "mimetype": "text/x-python",
   "name": "python",
   "nbconvert_exporter": "python",
   "pygments_lexer": "ipython3",
   "version": "3.6.9"
  }
 },
 "nbformat": 4,
 "nbformat_minor": 2
}
